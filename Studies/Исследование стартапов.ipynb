{
 "cells": [
  {
   "cell_type": "markdown",
   "metadata": {
    "id": "4mJbK1knrJgz"
   },
   "source": [
    "# Проект: Исследование стартапов"
   ]
  },
  {
   "cell_type": "markdown",
   "metadata": {
    "id": "P6j0r3worJg0"
   },
   "source": [
    "## Введение"
   ]
  },
  {
   "cell_type": "markdown",
   "metadata": {
    "id": "8lQtbsIUyFG6"
   },
   "source": [
    "**Цель исследования** состоит в проведении исторического анализа данных о финансировании стартапов для формирования бизнес стратегии в области инвестирования, развития и последующей перепродажи стартапов.  \n",
    "  \n",
    "Для анализа представоены данные о с информацией о покупках одними компаниями других компаний, о компаниях и раундах финансирования, о сотрудниках и их образовании, а также дополнительная информация о фондах и раундах инвестирования.  \n",
    "  \n",
    "**Задача**  \n",
    "Подготовить датасет и проверить, что данные в нём соответствуют здравому смыслу, а также ответить на вопросы заказчика:  \n",
    "- по каким столбцам можно объединять данные из разных таблиц;\n",
    "- можно ли доверять данным о сотрудниках стартапов и их образовании;\n",
    "- что значат покупки за 0 или за 1 доллар;\n",
    "- какая цена в зависимости от категории стартапов и количества раундов финансирования перед его покупкой;\n",
    "- как рассчитать и отобразить численные показатели и динамику."
   ]
  },
  {
   "cell_type": "markdown",
   "metadata": {
    "id": "xqr6uttCrJg0"
   },
   "source": [
    "\n",
    "## Шаг 1. Знакомство с данными: загрузка и первичная предобработка\n",
    "\n",
    "Названия файлов:\n",
    "* acquisition.csv\n",
    "* company_and_rounds.csv\n",
    "* people.csv\n",
    "* education.csv\n",
    "* degrees.csv\n",
    "\n",
    "Опциональные датасеты:\n",
    "* fund.csv\n",
    "* investment.csv\n",
    "\n",
    "\n",
    "Они находятся в папке datasets, если вы выполняете работу на платформе. В случае, если вы делаете работу локально, доступ к файлам в папке можно получить по адресу `https://code.s3.yandex.net/datasets/` + имя файла.\n",
    "\n",
    "### 1.1. Вывод общей информации, исправление названия столбцов"
   ]
  },
  {
   "cell_type": "code",
   "execution_count": null,
   "metadata": {
    "colab": {
     "base_uri": "https://localhost:8080/"
    },
    "id": "W_W4jRazrJg0",
    "outputId": "d2409aad-233f-4bb4-ec71-7da96594f9df",
    "scrolled": false,
    "vscode": {
     "languageId": "plaintext"
    }
   },
   "outputs": [],
   "source": [
    "# Установим модуль phik\n",
    "!pip install phik\n",
    "\n",
    "# Загрузим необходимые библиотеки\n",
    "import pandas as pd\n",
    "import matplotlib.pyplot as plt\n",
    "import numpy as np\n",
    "import seaborn as sns\n",
    "# Библиотека понадобится для вычисления моды при агрегации\n",
    "from scipy import stats\n",
    "# Библиотека для отключекния предупрждений\n",
    "import warnings\n",
    "# Отключение предупреждений\n",
    "warnings.filterwarnings('ignore')\n",
    "# Проверка установлен ли phik и его установка, в случае необходимости\n",
    "try:\n",
    "    import phik\n",
    "except ModuleNotFoundError as e:\n",
    "    !pip install phik\n",
    "    import phik\n",
    "    print(\"Error was:\", e)"
   ]
  },
  {
   "cell_type": "code",
   "execution_count": null,
   "metadata": {},
   "outputs": [],
   "source": [
    "# Загрузим необходимые датасеты\n",
    "# Создадим переменную с путем к файлам\n",
    "path_to_data = 'https://code.s3.yandex.net/datasets/'\n",
    "\n",
    "\n",
    "ac_df = pd.read_csv(path_to_data+'acquisition.csv')\n",
    "cnr_df = pd.read_csv(path_to_data+'company_and_rounds.csv')\n",
    "peop_df = pd.read_csv(path_to_data+'people.csv')\n",
    "edu_df = pd.read_csv(path_to_data+'education.csv')\n",
    "deg_df = pd.read_csv(path_to_data+'degrees.csv')\n",
    "fund_df = pd.read_csv(path_to_data+'fund.csv')\n",
    "invest_df = pd.read_csv(path_to_data+'investment.csv')\n",
    "\n",
    "# Добавим имена для датасетов, чтобы было удобнее в них ориентироваться\n",
    "ac_df.df_name = 'acquisition'\n",
    "cnr_df.df_name = 'company_and_rounds'\n",
    "peop_df.df_name = 'people'\n",
    "edu_df.df_name = 'education'\n",
    "deg_df.df_name = 'degrees'\n",
    "fund_df.df_name = 'fund'\n",
    "invest_df.df_name = 'investment'\n",
    "\n",
    "# Создадим список датасетов, чтобы можно было последовательно вызывать их\n",
    "datasets_list = [ac_df, cnr_df, peop_df, edu_df, deg_df, fund_df, invest_df]"
   ]
  },
  {
   "cell_type": "markdown",
   "metadata": {
    "id": "2Tm4Pk__Felf"
   },
   "source": [
    "Выведем данные о датасетах и проанализируем результат"
   ]
  },
  {
   "cell_type": "code",
   "execution_count": null,
   "metadata": {},
   "outputs": [],
   "source": [
    "# Ввиду большого количества датасетов напишем фукцию для их проверки\n",
    "def dataset_view (dataset):\n",
    "    display(dataset.info())\n",
    "    display(dataset.head())"
   ]
  },
  {
   "cell_type": "code",
   "execution_count": null,
   "metadata": {
    "id": "oNqJ2qpRFebv"
   },
   "outputs": [],
   "source": [
    "dataset_view(ac_df)"
   ]
  },
  {
   "cell_type": "markdown",
   "metadata": {},
   "source": [
    "Названия столбцов корректные, типы данных тоже, за исключением столбца `acquired_at`, его необходимо привести к типу `datatime`."
   ]
  },
  {
   "cell_type": "code",
   "execution_count": null,
   "metadata": {},
   "outputs": [],
   "source": [
    "dataset_view(cnr_df)"
   ]
  },
  {
   "cell_type": "markdown",
   "metadata": {},
   "source": [
    "Названия столбцов необходимо привести к формату snake_case. При этом необходимо учитывать, что все пробелы в названиях двойные.  \n",
    "Столбцы `founded at`, `closed at` и `funded at` необходимо привести к формату `datatime`.  \n",
    "Столбцы `company ID`, `funding round id`, `company id`, `funding  rounds`, `funding  total`, `raised amount` необходимо привести к формату `Int`.  \n",
    "Столбцы `is first round` и `is last round` необходимо привести к формату `Int` или `bool`."
   ]
  },
  {
   "cell_type": "markdown",
   "metadata": {},
   "source": [
    "Отдельные вопросы вызывают столбцы `company  ID` и `company  id`: необходимо понять дублируют ли они друг друга и почему они появились.  \n",
    "Попробуем это проверить."
   ]
  },
  {
   "cell_type": "code",
   "execution_count": null,
   "metadata": {},
   "outputs": [],
   "source": [
    "display(cnr_df[['company  ID', 'company  id']].head(10))\n",
    "display(cnr_df[['company  ID', 'company  id']].tail(10))"
   ]
  },
  {
   "cell_type": "markdown",
   "metadata": {},
   "source": [
    "Пересечения наблюдаются лишь частично. Продолжим проверку, найдя сочетание солбцов без пропусков."
   ]
  },
  {
   "cell_type": "code",
   "execution_count": null,
   "metadata": {},
   "outputs": [],
   "source": [
    "display(cnr_df[cnr_df['company  ID'].notnull() & cnr_df['company  id'].notnull()][['company  ID', 'company  id']].head(15))\n",
    "display(cnr_df[cnr_df['company  ID'].notnull() & cnr_df['company  id'].notnull()][['company  ID', 'company  id']].tail(15))"
   ]
  },
  {
   "cell_type": "markdown",
   "metadata": {},
   "source": [
    "Мы видим, что в тех строках, где оба столбца заполнены значения совпадают.  \n",
    "Исходя из этого можно предположить, что подобная ситуация сложилась в результате некорректного соединния двух датасетов и ключи не везде сопоставлены верно. Это надо будет исправить при удалении пропусков."
   ]
  },
  {
   "cell_type": "markdown",
   "metadata": {},
   "source": [
    "Приведем названия столбцов к нужному формату. Но перед этим нужно изменить название столбца `company id`. Переименуем его в `company_id_2`"
   ]
  },
  {
   "cell_type": "code",
   "execution_count": null,
   "metadata": {},
   "outputs": [],
   "source": [
    "cnr_df = cnr_df.rename(columns={'company  id': 'company_id_2'})"
   ]
  },
  {
   "cell_type": "markdown",
   "metadata": {},
   "source": [
    "Так в результате перезаписи датасета произошла замена переменной --- заново присвоим ему имя и запишем в список вместо прежнего"
   ]
  },
  {
   "cell_type": "code",
   "execution_count": null,
   "metadata": {},
   "outputs": [],
   "source": [
    "cnr_df.df_name = 'company_and_rounds'\n",
    "datasets_list[1] = cnr_df"
   ]
  },
  {
   "cell_type": "markdown",
   "metadata": {},
   "source": [
    "Произведем замену названий столбцов"
   ]
  },
  {
   "cell_type": "code",
   "execution_count": null,
   "metadata": {},
   "outputs": [],
   "source": [
    "cnr_df.columns = [x.lower().replace('  ', '_') for x in cnr_df.columns.values]\n",
    "# Выведем результат\n",
    "cnr_df.info()"
   ]
  },
  {
   "cell_type": "code",
   "execution_count": null,
   "metadata": {},
   "outputs": [],
   "source": [
    "dataset_view(peop_df)"
   ]
  },
  {
   "cell_type": "markdown",
   "metadata": {},
   "source": [
    "Названия столбцов корректные, данные в столбце `company_id` необходимо привести к формату `Int`"
   ]
  },
  {
   "cell_type": "code",
   "execution_count": null,
   "metadata": {},
   "outputs": [],
   "source": [
    "dataset_view(edu_df)"
   ]
  },
  {
   "cell_type": "markdown",
   "metadata": {},
   "source": [
    "Названия столбцов корректные. Так как анализ годов выпуска в ходе исследования не планируется, данные в этом столбце можно не изменять."
   ]
  },
  {
   "cell_type": "code",
   "execution_count": null,
   "metadata": {},
   "outputs": [],
   "source": [
    "dataset_view(deg_df)"
   ]
  },
  {
   "cell_type": "markdown",
   "metadata": {},
   "source": [
    "Названия столбцов корректные. Данные в столбце `object_id` необходимо исправить, убрав букву перед номером и привести к формату `Int`."
   ]
  },
  {
   "cell_type": "markdown",
   "metadata": {},
   "source": [
    "Согласно условиям датасеты `fund_df` и `invest_df` не будут нужны в работе, а требуются лишь для дополнительной информации, но на всякий случай проверим и их. "
   ]
  },
  {
   "cell_type": "code",
   "execution_count": null,
   "metadata": {},
   "outputs": [],
   "source": [
    "dataset_view(fund_df)"
   ]
  },
  {
   "cell_type": "code",
   "execution_count": null,
   "metadata": {},
   "outputs": [],
   "source": [
    "dataset_view(invest_df)"
   ]
  },
  {
   "cell_type": "markdown",
   "metadata": {},
   "source": [
    "Датасеты выглядят корректно, но необходима смена тип данных в столбце `founded_at` датасета `fund_df`."
   ]
  },
  {
   "cell_type": "markdown",
   "metadata": {
    "id": "mg2gEwh0rJg0"
   },
   "source": [
    "### 1.2. Смена типов и анализ пропусков\n",
    "\n",
    "- Обработайте типы данных в столбцах, которые хранят значения даты и времени, если это необходимо.\n",
    "- Оцените полноту данных — сделайте предварительный вывод, достаточно ли данных для решения задач проекта."
   ]
  },
  {
   "cell_type": "markdown",
   "metadata": {},
   "source": [
    "Для начала займемся изменением даты. Для этого напишем функцию, куда передадим нужные нам столбцы из нужных датасетов "
   ]
  },
  {
   "cell_type": "code",
   "execution_count": null,
   "metadata": {
    "id": "FsL0A8RBrJg1",
    "vscode": {
     "languageId": "plaintext"
    }
   },
   "outputs": [],
   "source": [
    "# Функция замены даты\n",
    "def data_changer(dataset, columns_list):\n",
    "    for i in columns_list:\n",
    "        dataset[i] = pd.to_datetime(dataset[i])"
   ]
  },
  {
   "cell_type": "markdown",
   "metadata": {
    "id": "46VskrGyFeJ-"
   },
   "source": [
    "Изменим данные в датасетах."
   ]
  },
  {
   "cell_type": "code",
   "execution_count": null,
   "metadata": {},
   "outputs": [],
   "source": [
    "data_changer(ac_df, ['acquired_at'])\n",
    "data_changer(cnr_df, ['founded_at', 'closed_at', 'funded_at'])\n",
    "data_changer(fund_df, ['founded_at'])"
   ]
  },
  {
   "cell_type": "markdown",
   "metadata": {},
   "source": [
    "Теперь напишем функцию для изменения данных на тип `Int`."
   ]
  },
  {
   "cell_type": "code",
   "execution_count": null,
   "metadata": {},
   "outputs": [],
   "source": [
    "# Функция изменения типа данных\n",
    "def int_changer(dataset, columns_list):\n",
    "    for i in columns_list:\n",
    "        dataset[i] = dataset[i].astype('Int64')"
   ]
  },
  {
   "cell_type": "markdown",
   "metadata": {},
   "source": [
    "Передадим туда необходимые данные."
   ]
  },
  {
   "cell_type": "code",
   "execution_count": null,
   "metadata": {},
   "outputs": [],
   "source": [
    "int_changer(cnr_df, ['company_id', 'company_id_2', 'funding_round_id', 'funding_rounds', \n",
    "                     'funding_total', 'raised_amount', 'is_first_round', 'is_last_round'])\n",
    "int_changer(peop_df, ['company_id'])"
   ]
  },
  {
   "cell_type": "markdown",
   "metadata": {},
   "source": [
    "Для изменения данных в столбце `object_id` датафрема `deg_df` необходимо сначала удалить оттуда буквенную часть."
   ]
  },
  {
   "cell_type": "code",
   "execution_count": null,
   "metadata": {},
   "outputs": [],
   "source": [
    "# Уберем буквенную часть\n",
    "deg_df['object_id'] = deg_df['object_id'].str.replace('p:', '')\n",
    "# Теперь применим функцию, которая изменит тип данных\n",
    "deg_df['object_id'] = pd.to_numeric(deg_df['object_id'])"
   ]
  },
  {
   "cell_type": "markdown",
   "metadata": {},
   "source": [
    "Теперь проверим результат последовательно во всх датафреймах"
   ]
  },
  {
   "cell_type": "code",
   "execution_count": null,
   "metadata": {},
   "outputs": [],
   "source": [
    "for i in datasets_list:\n",
    "    print(f'Датасет {i.df_name}')\n",
    "    i.info()\n",
    "    print('\\n')"
   ]
  },
  {
   "cell_type": "markdown",
   "metadata": {},
   "source": [
    "Теперь типы данных и названия столбцов выглядят корректно."
   ]
  },
  {
   "cell_type": "markdown",
   "metadata": {},
   "source": [
    "**Займемся анализом пропусков**"
   ]
  },
  {
   "cell_type": "code",
   "execution_count": null,
   "metadata": {
    "id": "DEg1tl8DFeBn"
   },
   "outputs": [],
   "source": [
    "# Проанализируем пропуски последовательно во всех датасетах\n",
    "for i in datasets_list:\n",
    "    print(f'Датасет {i.df_name}')\n",
    "    print(f'Количество строк в датасете {i.shape[0]}')\n",
    "    print(f'Количество пропусков в датасете:')\n",
    "    display(i.isna().agg(['sum', 'mean']).transpose().rename(columns={'sum': 'количество', 'mean': 'доля'}))\n",
    "    print(f'\\n')"
   ]
  },
  {
   "cell_type": "markdown",
   "metadata": {},
   "source": [
    "Перед началом детального анализа отметим, что удаление пропусков в датасетах является нежелательным, так как они сами отфильтровываются в процессе работы, но при этом их удаление приведет в потере части полезных данных."
   ]
  },
  {
   "cell_type": "markdown",
   "metadata": {},
   "source": [
    "***Датасет acquisition*** (`ac_df`): 0.3 % пропусков в `acquired_at` скорее всего говорят об утере данных о дате заключения сделки, однако процент пропусков крайне незначительный и им можно пренебречь. В поле `term_code` --- 80 % пропусков, однако для исследования данная информация не нужна.  \n",
    "  \n",
    "  \n",
    "***Датасет company_and_rounds*** (`cnr_df`): в солбцах `company_id`, `name`, `status`, `investment_rounds`, `funding_rounds`, `funding_total` и `milestones` одинакове количество пропусков. Скорее всего аналогичные пропуски есть и в других столбцах. Корме того, в столбцах `funding_round_id`, `company_id_2`, `funded_at`, `funding_round_type`, `raised_amount`, `pre_money_valuation`, `participants`, `is_first_round` и `is_last_round` также одинаковое количество пропусков. Это хорошо соотносится с гипотизой о том, что данные ошибки возникдли в результате некорректного соединения двух датасетов.\n",
    "Исправим данные ошибки на следущем этапе.\n",
    "За исключением этого можно отметить, что в столбцах `domain`, `network_username`, `country_code`, `founded_at` и `closed_at` также присутствует значительное количество пропусков, но для задач анализа данные поля они не нужны.\n",
    "В поле `category_code` отсутствует порядка 34 % данных. Это значительная цифра и она может сказаться на результатах анализа цены в зависимости от категории стартапов. Однако это надо будет проверить еще раз после дальнейшей обработки датасета.  \n",
    "  \n",
    "***Датасет people*** (peop_df): в поле `company_id` доля пропусков составляет 84 %. Это крайне высокое значение и оно критически важно, так как с его помощь можно соотнести сотрудников с компаниями. Такое высокое количество пропусков говорит о том, что получить объективную картину по задействованному в стартапах персоналу не представляется возможным.  \n",
    "  \n",
    "***Датасет education*** (edu_df): доля пропусков в столбце `instituition` крайне мала и ей можно пренебречь, а столбец `graduated_at` не является необходимым для исследования.  \n",
    "  \n",
    "***Датасет degrees*** (deg_df): отсуствует данные о типе образования 10 % сотрудников, что является не критичным, н довольно значительным. Аналогично отсуствуют данные о спецальности 25 % сотрудников, но это может быть связано с отсуствием образования, подразумевающего получение какой-то специальности.  \n",
    "  \n",
    "***Датасет fund*** (fund_df): пропусков в данных, которые могут понадобитсья для исследования нет.  \n",
    "  \n",
    "***Датасет investment*** (inv_df): пропуски в данных отсутствуют."
   ]
  },
  {
   "cell_type": "markdown",
   "metadata": {
    "id": "u60cHsn6rJg1"
   },
   "source": [
    "## Шаг 2. Предобработка данных, предварительное исследование"
   ]
  },
  {
   "cell_type": "markdown",
   "metadata": {
    "id": "g2bHIIjcrJg1"
   },
   "source": [
    "\n",
    "### 2.1. Раунды финансирования по годам"
   ]
  },
  {
   "cell_type": "markdown",
   "metadata": {},
   "source": [
    "Создадим сводную таблицу на основании столбца raised_amount, где для каждого года указан:\n",
    "- типичный размер средств, выделяемый в рамках одного раунда;\n",
    "- общее количество раундов финансирования за этот год.\n",
    "  \n",
    "Полученный результат отфильтруем для тех лет, для которых есть информация о более чем 50 раундах финансирования."
   ]
  },
  {
   "cell_type": "code",
   "execution_count": null,
   "metadata": {
    "id": "Cf5IjfOQrJg1",
    "vscode": {
     "languageId": "plaintext"
    }
   },
   "outputs": [],
   "source": [
    "# Создадим сводную таблицу\n",
    "pivot_cnr = pd.pivot_table(cnr_df, columns=cnr_df['funded_at'].dt.year.astype('Int32'),\n",
    "                           values=['raised_amount', 'funding_rounds'], \n",
    "                           aggfunc={'raised_amount':'median', 'funding_rounds':'count'}).transpose()\n",
    "\n",
    "# Создадим таблицу, отфильтрованную по строкам, где раундов финансирования больше 50\n",
    "pivot_cnr_filtered = pivot_cnr[pivot_cnr['funding_rounds'] > 50]\n",
    "\n",
    "pivot_cnr_filtered"
   ]
  },
  {
   "cell_type": "markdown",
   "metadata": {
    "id": "8Fbz6KmzFdYP"
   },
   "source": [
    "Теперь на основании этой таблицы построим график, отражающий динамику типичного размера средств, которые стартапы получали в рамках одного раунда финансирования."
   ]
  },
  {
   "cell_type": "code",
   "execution_count": null,
   "metadata": {
    "id": "Z92DzKMMFdKW",
    "scrolled": true
   },
   "outputs": [],
   "source": [
    "plt.figure(figsize=(9,5))\n",
    "pivot_cnr_filtered['raised_amount'].plot.line(xlabel='Годы', ylabel='Медианный размер финансирования (млн.)', title='Динамика типичного размера средств,\\nкоторые стартапы получали в рамках одного раунда финансирования')\n",
    "plt.show()"
   ]
  },
  {
   "cell_type": "markdown",
   "metadata": {},
   "source": [
    "На основании полученных результатов видно, что максимальное медианное значение финансирования в рамках одного раунда приходится на 2005 год.  \n",
    "С 2005 года размер финансирования в раках одного рауна неуклонно снижался, вплоть до 2012 года, после которго показал незначительный рост, что, скорее, может говорить о некоторой стабилизации.  \n",
    "При этом количество раундов с 1998 года по 2012 год увеличилось в 145 раз --- с 76 до 11 042. Однако в 2013 году впервые за расмариваемых период произошло незначительное снижение числа раундов финансирования, что также может говорть о некоторой стабилизации.  \n",
    "Интересен тот факт, что данная стабилизация прозошла с в разрезе количества раундов финансирования, и в разрезе объемов выделяемых средств. Можно предположить, что к 2005 году, когда объемы финисирования достигли своего максимум, была пройдена определенная точка, после которой количество раундов и типичный объем выделяемых средств начали демонстрировать обратную зависимость."
   ]
  },
  {
   "cell_type": "markdown",
   "metadata": {
    "id": "45if1en1rJg2"
   },
   "source": [
    "\n",
    "### 2.2. Люди и их образование\n",
    "\n",
    "Заказчик хочет понять, зависит ли полнота сведений о сотрудниках (например, об их образовании) от размера компаний.\n",
    "\n",
    "- Оцените, насколько информация об образовании сотрудников полна. Используя датасеты `people.csv` и `education.csv`, разделите все компании на несколько групп по количеству сотрудников и оцените среднюю долю сотрудников без информации об образовании в каждой из групп. Обоснуйте выбранные границы групп.\n",
    "- Оцените, возможно ли для выполнения задания присоединить к этим таблицам ещё и таблицу `degrees.csv`."
   ]
  },
  {
   "cell_type": "markdown",
   "metadata": {
    "id": "psPO7C4MrJg2",
    "vscode": {
     "languageId": "plaintext"
    }
   },
   "source": [
    "Как уже отмечалось, в датасете `people.csv` отсутствует порядка 85 % строк с информацией о компаниях, где работают сотрудники.  \n",
    "С учетом этого полученные в результате анализа данные будут отличаться весьма низким уровнем достоверности."
   ]
  },
  {
   "cell_type": "markdown",
   "metadata": {
    "id": "BThTjpLqFcsm"
   },
   "source": [
    "Если не принмать в рассчет низкую достоверность данных и работать только с долей записей, где есть информация о компании, то мы получим следующие результаты:"
   ]
  },
  {
   "cell_type": "markdown",
   "metadata": {},
   "source": [
    "Для начала создадим новый датасет, в котором объединим данные о сотрудниках и их образовании проанализируем его.  \n",
    "Соединим их по столбцам `id` и `person_id`, использовав левый тип соединения, чтобы сохранить данные обо всех сотрудниках, вне зависимости от наличия сведений об образовании."
   ]
  },
  {
   "cell_type": "code",
   "execution_count": null,
   "metadata": {
    "scrolled": true
   },
   "outputs": [],
   "source": [
    "# Создаем новый объединенный датасет\n",
    "peop_new_df = pd.merge(peop_df, edu_df, left_on='id', right_on='person_id', how='left')\n",
    "\n",
    "# Выведем данные о новом датасете\n",
    "print(f'Количетво строк: {peop_new_df.shape[0]}')\n",
    "display(peop_new_df.isna().agg(['sum', 'mean']).transpose().rename(columns={'sum': 'количество', 'mean': 'доля'}))"
   ]
  },
  {
   "cell_type": "markdown",
   "metadata": {},
   "source": [
    "Как мы видим информация об образовании отсутствует для 59 % сотрудников. Данные крайне неполные.  \n",
    "Попробуем добавить к дасету данные из датасета `degrees.csv`. Присоединение будет производить по полям `id_y` и `id`, так как в них совпадают идентификаторы записей об образовании."
   ]
  },
  {
   "cell_type": "code",
   "execution_count": null,
   "metadata": {},
   "outputs": [],
   "source": [
    "# Добавим данные из еще одного датасета\n",
    "peop_new_df = peop_new_df.merge(deg_df, left_on='id_y', right_on='id', how='left')\n",
    "\n",
    "# Выведем информацию о получившемся датасете\n",
    "print(f'Количетво строк: {peop_new_df.shape[0]}')\n",
    "display(peop_new_df.isna().agg(['sum', 'mean']).transpose().rename(columns={'sum': 'количество', 'mean': 'доля'}))"
   ]
  },
  {
   "cell_type": "markdown",
   "metadata": {},
   "source": [
    "Создадим вспомогательный столбец `is_edu`, который будет содержать 1, если о пользователе есть данные в столбце `instituition`, `degree_type` или `subject`."
   ]
  },
  {
   "cell_type": "code",
   "execution_count": null,
   "metadata": {},
   "outputs": [],
   "source": [
    "# Функция, возвращающая единицу или ноль в зависимости от наличия данных об образовании хотя бы в одном столбце\n",
    "def is_edu (data):\n",
    "    if data['instituition'] is not np.nan:\n",
    "        return 1\n",
    "    elif data['degree_type'] is not np.nan:\n",
    "        return 1\n",
    "    elif data['subject'] is not np.nan:\n",
    "        return 1\n",
    "    else:\n",
    "        return 0\n",
    "\n",
    "# Создадим новый столбец, применив данную функцию\n",
    "peop_new_df['is_edu'] = peop_new_df.apply(is_edu, axis=1)\n",
    "\n",
    "# Выведем информацию об обновленном датасете\n",
    "peop_new_df.info()\n",
    "display(peop_new_df.isna().agg(['sum', 'mean']).transpose().rename(columns={'sum': 'количество', 'mean': 'доля'}))"
   ]
  },
  {
   "cell_type": "markdown",
   "metadata": {},
   "source": [
    "Мы видим, что доля записей об образование такая же --- 59 %, а значит присоединение датафрейма `degrees.csv` не добавило информации."
   ]
  },
  {
   "cell_type": "markdown",
   "metadata": {
    "id": "4FC98Pd-FcmG"
   },
   "source": [
    "Для дальнейшей работы исключим все записи о сотрудниках, где отсутствует идентификатор компании, так как без него мы не сможем определить относятся ли сотрудники к одной компании ли к разным."
   ]
  },
  {
   "cell_type": "code",
   "execution_count": null,
   "metadata": {},
   "outputs": [],
   "source": [
    "peop_new_df = peop_new_df.dropna(subset=['company_id'])\n",
    "peop_new_df.info()\n",
    "\n",
    "# Выведем информацию о том, какой процент датасета сохранился\n",
    "print('\\nДоля нового датасета от старого:', round(peop_new_df.shape[0]/267694, 2))"
   ]
  },
  {
   "cell_type": "markdown",
   "metadata": {},
   "source": [
    "Осталось всего 44 789 записей.  \n",
    "Теперь посчитаем количество сотрудников в разных компаниях и найдем максимальное значение и медиану."
   ]
  },
  {
   "cell_type": "code",
   "execution_count": null,
   "metadata": {},
   "outputs": [],
   "source": [
    "# Сгруппируем данные по компаниям, чтобы посчитать количество сотрудников в каждой компании\n",
    "peop_comp = peop_new_df.groupby('company_id').agg({'id_x': 'count'})\n",
    "\n",
    "# Выведем описание данных\n",
    "peop_comp.describe()"
   ]
  },
  {
   "cell_type": "markdown",
   "metadata": {},
   "source": [
    "Медианное количество сотрудников в компании --- 1, в 75 % компаний --- не больше 2.  \n",
    "С такими данными деление компаний на группы и дальнейший анализ не представляется целесообразным."
   ]
  },
  {
   "cell_type": "markdown",
   "metadata": {},
   "source": [
    "В подтверждение этого построим диаграмму распределения."
   ]
  },
  {
   "cell_type": "code",
   "execution_count": null,
   "metadata": {},
   "outputs": [],
   "source": [
    "plt.figure(figsize=(12, 6))\n",
    "plt.boxplot(peop_comp.reset_index()['id_x'], vert=False)\n",
    "plt.show()"
   ]
  },
  {
   "cell_type": "markdown",
   "metadata": {},
   "source": [
    "Разброс настолько сильный, что часть без выбросов на графике почти не видна."
   ]
  },
  {
   "cell_type": "markdown",
   "metadata": {},
   "source": [
    "Попробуем понять как много сотрудников в каких категориях. Сгруппируем данные, но на это раз по количеству сотрудников"
   ]
  },
  {
   "cell_type": "code",
   "execution_count": null,
   "metadata": {},
   "outputs": [],
   "source": [
    "# Сбросим индексы\n",
    "peop_comp = peop_comp.reset_index()"
   ]
  },
  {
   "cell_type": "code",
   "execution_count": null,
   "metadata": {
    "scrolled": true
   },
   "outputs": [],
   "source": [
    "# Провреим сколько сотрудников в компаниях какого размера\n",
    "peop_comp.groupby('id_x').count()\n"
   ]
  },
  {
   "cell_type": "markdown",
   "metadata": {},
   "source": [
    "Разделим компании на категории. Наибольшее количество компаний - с одним сотрудником, их выделим в отдельную категорию. Компаний с двумя или тремя сотрудниками тоже довольно много, их тоже можно выделить в самостоятельные категории. Компании из 4-5 человек можно объединить в одну категорию, чтобы приблизить ее по количеству человек к предыдущим. Остальные компании разделим на группы  6-10 человек, 11-15 человек и больше 25 человек.  \n",
    "Разделим датафрейм на соответствующие группы и посчитаем количество сотрудникво в данных группах."
   ]
  },
  {
   "cell_type": "code",
   "execution_count": null,
   "metadata": {
    "scrolled": true
   },
   "outputs": [],
   "source": [
    "bins   = [0, 1, 2, 3, 5, 10, 25, float('inf')]\n",
    "labels = ['1', '2', '3', '4-5', '6-10', '11-25', '26+']\n",
    "pd.cut(peop_comp['id_x'], bins=bins, labels=labels).value_counts()"
   ]
  },
  {
   "cell_type": "markdown",
   "metadata": {},
   "source": [
    "Полученный результат выглядит удовлетворительно, будем работать с ним."
   ]
  },
  {
   "cell_type": "markdown",
   "metadata": {},
   "source": [
    "Присвоим категории данным в датафрейме."
   ]
  },
  {
   "cell_type": "code",
   "execution_count": null,
   "metadata": {},
   "outputs": [],
   "source": [
    "peop_comp['category'] = pd.cut(peop_comp['id_x'], bins=bins, labels=labels)"
   ]
  },
  {
   "cell_type": "markdown",
   "metadata": {},
   "source": [
    "Во избежании потери данных об образовании присоединим категории к датафрейму peop_new_df по индексу компании"
   ]
  },
  {
   "cell_type": "code",
   "execution_count": null,
   "metadata": {},
   "outputs": [],
   "source": [
    "# Соединяем датафреймы датафреймы по принципу \"многие к одному\"\n",
    "peop_new_df = peop_new_df.merge(peop_comp[['company_id', 'category']], on='company_id', how='left', validate='m:1')"
   ]
  },
  {
   "cell_type": "markdown",
   "metadata": {},
   "source": [
    "Теперь используя данные категории построим таблицу и график с процентным соотношением наличия данных об образовании сотрудников. "
   ]
  },
  {
   "cell_type": "code",
   "execution_count": null,
   "metadata": {},
   "outputs": [],
   "source": [
    "peop_new_df.groupby('category').agg(count=('id_x', 'count'), share=('is_edu', 'mean'))"
   ]
  },
  {
   "cell_type": "code",
   "execution_count": null,
   "metadata": {
    "scrolled": true
   },
   "outputs": [],
   "source": [
    "sns.countplot(data=peop_new_df, x='category', hue='is_edu')\n",
    "plt.show()"
   ]
  },
  {
   "cell_type": "markdown",
   "metadata": {},
   "source": [
    "Как мы видим, если в компании больше одного человека, то вероятность того, что информаци об образовании присутствует существенно выше"
   ]
  },
  {
   "cell_type": "markdown",
   "metadata": {
    "id": "Lz7qjM32xglW"
   },
   "source": [
    "### 2.3. Объединять или не объединять — вот в чём вопрос\n",
    "\n",
    "Некоторые названия столбцов встречаются в датасетах чаще других. В результате предварительной проверки датасетов было выяснено, что столбец `company_id` подходит для объединения данных.\n",
    "\n",
    "- Установите, подходит ли для объединения данных столбец `network_username`, который встречается в нескольких датасетах. Нам необходимо понимать, дублируется ли для разных датасетов информация в столбцах с таким названием, и если да — то насколько часто.\n",
    "- Оцените, можно ли использовать столбцы с именем `network_username` для объединения данных."
   ]
  },
  {
   "cell_type": "markdown",
   "metadata": {
    "id": "zyI3rt0rxg1O"
   },
   "source": [
    "Столбец `network_username` встречается в двух датасетах: `company_and_rounds` и `people`.  \n",
    "Учитывая, что нам известно о том, что данные в столбце `company_id` подходят для объединения и также встречаются в обоих датасетах, можно объяединить датасеты по столбцу `company_id` и проверить совпадают ли в полученных строках данные в столбцах `network_username` и как часто.  \n",
    "  \n",
    "Объединим датасеты. Используем внутреннее соединение, чтобы у нас остались только совпадающие значения."
   ]
  },
  {
   "cell_type": "code",
   "execution_count": null,
   "metadata": {
    "id": "RxOS5rwmFcNW",
    "scrolled": false
   },
   "outputs": [],
   "source": [
    "cnr_merge_df = cnr_df[['company_id', 'network_username']]\n",
    "cnr_merge_df.info()\n",
    "peop_merge_df = peop_df[['company_id', 'network_username']]\n",
    "peop_merge_df.info()\n",
    "user_merge_df = pd.merge(cnr_merge_df, peop_merge_df, on='company_id', how='inner')\n",
    "user_merge_df.info()\n",
    "#user_merge_df.head()"
   ]
  },
  {
   "cell_type": "markdown",
   "metadata": {},
   "source": [
    "Для решения задачи сформируем два списка с наименованиями из `network_username` и сравним их между собой."
   ]
  },
  {
   "cell_type": "code",
   "execution_count": null,
   "metadata": {
    "id": "_7gjdrGOFcB2"
   },
   "outputs": [],
   "source": [
    "# Найдем уникальные значения в cnr_network\n",
    "cnr_network = cnr_df['network_username'].unique()\n",
    "cnr_df_count = cnr_df['network_username'].count()\n",
    "print('Всего записей в network_username из датасета company_and_rounds:', cnr_df_count)\n",
    "print(f'Количество уникальных записей в network_username из датасета company_and_rounds: {cnr_network.shape[0]}')\n",
    "print('Количество дубликатов записей в network_username из датасета company_and_rounds:', cnr_df_count - cnr_network.shape[0])\n",
    "print('Количество пропусков в network_username из датасета company_and_rounds:', cnr_df['network_username'].isna().count())\n",
    "print('\\n')\n",
    "# Найдем уникальные значения в peop_network\n",
    "peop_network = peop_df['network_username'].unique()\n",
    "peop_df_count = peop_df['network_username'].count()\n",
    "print('Всего записей в network_username из датасета people:', peop_df_count)\n",
    "print(f'Количество уникальных записей в network_username из датасета people: {peop_network.shape[0]}')\n",
    "print('Количество дубликатов записей в network_username из датасета people:', peop_df_count - peop_network.shape[0])\n",
    "print('Количество пропусков в network_username из датасета people:', peop_df['network_username'].isna().count())\n",
    "\n",
    "# Посчитаем долю таких значений\n",
    "print(f'\\nСоотношение размеров датафреймов друг к другу:', round(peop_network.shape[0]/cnr_network.shape[0], 2))"
   ]
  },
  {
   "cell_type": "markdown",
   "metadata": {},
   "source": [
    "Количество строк разное, но надо сравнить и сами значения, выяснив, сколько среди них есть пересечений."
   ]
  },
  {
   "cell_type": "code",
   "execution_count": null,
   "metadata": {},
   "outputs": [],
   "source": [
    "# Создадим переменную счетчик\n",
    "net_unite = list(set(cnr_network) & set(peop_network))\n",
    "print(f'Количество пересечений в двух списках: {len(net_unite)}')\n",
    "print(f'Доля пересечений в датасете company_and_rounds: {round(len(net_unite)/cnr_network.shape[0], 2)}')\n",
    "print(f'Доля пересечений в датасете people: {round(len(net_unite)/peop_network.shape[0], 2)}')"
   ]
  },
  {
   "cell_type": "markdown",
   "metadata": {},
   "source": [
    "Значения повторяются всего 2200 раз, а доля пересечений крайне мала. Это свидетествует о том, что использовать данные столбцы для объединения датасетов не получится."
   ]
  },
  {
   "cell_type": "markdown",
   "metadata": {
    "id": "EHcODomVrJg1"
   },
   "source": [
    "\n",
    "### 2.4. Проблемный датасет и причина возникновения пропусков\n",
    "\n",
    "Во время собственного анализа данных у заказчика больше всего вопросов возникло к датасету `company_and_rounds.csv`. В нём много пропусков как раз в информации о раундах, которая заказчику важна.\n",
    "\n",
    "- Любым удобным способом приведите данные в вид, который позволит в дальнейшем проводить анализ в разрезе отдельных компаний. Обратите внимание на структуру датасета, порядок и названия столбцов, проанализируйте значения.\n",
    "\n",
    "По гипотезе заказчика данные по компаниям из этой таблицы раньше хранились иначе, более удобным для исследования образом.\n",
    "\n",
    "- Максимальным образом сохраняя данные, сохранив их связность и исключив возможные возникающие при этом ошибки, подготовьте данные так, чтобы удобно было отобрать компании по параметрам и рассчитать показатели из расчёта на одну компанию без промежуточных агрегаций."
   ]
  },
  {
   "cell_type": "markdown",
   "metadata": {
    "id": "oSk7xqu_FbaN"
   },
   "source": [
    "Как уже отмечалось ранее ряд факторов --- в том числе название --- указывает на то, что датасет сформирован путем объединения двух датасетов, но судя по всему, объединения некорректного.  \n",
    "Выведем информацию о нем еще раз."
   ]
  },
  {
   "cell_type": "code",
   "execution_count": null,
   "metadata": {
    "id": "9BY9lTUcFbJ-"
   },
   "outputs": [],
   "source": [
    "cnr_df.info()\n",
    "display(cnr_df.isna().agg(['sum', 'mean']).transpose().rename(columns={'sum': 'количество', 'mean': 'доля'}))"
   ]
  },
  {
   "cell_type": "markdown",
   "metadata": {
    "id": "tJ6Sl6MKrJg1",
    "vscode": {
     "languageId": "plaintext"
    }
   },
   "source": [
    "Скорее всего столбцы `funding_round_id`, `company_id_2`, `funded_at`, `funding_round_type`, `raised_amount`, `pre_money_valuation`, `participants`, `is_first_round` и `is_last_round` ранее представляли собой отдельный датасет.  \n",
    "Разделим их на два отдельный датафрейма."
   ]
  },
  {
   "cell_type": "code",
   "execution_count": null,
   "metadata": {},
   "outputs": [],
   "source": [
    "# Создадим датафрейм company_df, выделив нужные столбцы из общего датафрейма и удалим все пустые строки и дубликаты в нем\n",
    "company_df = cnr_df[['company_id', 'name', 'category_code', 'status', 'founded_at', 'closed_at', 'domain', \n",
    "                     'network_username', 'country_code', 'investment_rounds', 'funding_rounds', \n",
    "                     'funding_total', 'milestones']].dropna(how='all').drop_duplicates()\n",
    "company_df.info()"
   ]
  },
  {
   "cell_type": "markdown",
   "metadata": {},
   "source": [
    "Проверим все ли значения `company_id` теперь уникальны."
   ]
  },
  {
   "cell_type": "code",
   "execution_count": null,
   "metadata": {},
   "outputs": [],
   "source": [
    "company_df.shape[0] == company_df['company_id'].unique().shape[0]"
   ]
  },
  {
   "cell_type": "markdown",
   "metadata": {},
   "source": [
    "Проделаем тоже самое, создав датафрейм `rounds_df`."
   ]
  },
  {
   "cell_type": "code",
   "execution_count": null,
   "metadata": {},
   "outputs": [],
   "source": [
    "rounds_df = cnr_df[['funding_round_id', 'company_id_2', 'funded_at', 'funding_round_type', 'raised_amount', \n",
    "                 'pre_money_valuation', 'participants', 'is_first_round', 'is_last_round']].dropna(how='all').drop_duplicates()\n",
    "rounds_df.info()"
   ]
  },
  {
   "cell_type": "markdown",
   "metadata": {},
   "source": [
    "Для удобства поменяем название столбца `company_id_2` на `company_id`."
   ]
  },
  {
   "cell_type": "code",
   "execution_count": null,
   "metadata": {},
   "outputs": [],
   "source": [
    "rounds_df = rounds_df.rename(columns={'company_id_2': 'company_id'})"
   ]
  },
  {
   "cell_type": "markdown",
   "metadata": {},
   "source": [
    "Проверим все ли значения `funding_round_id` уникальны."
   ]
  },
  {
   "cell_type": "code",
   "execution_count": null,
   "metadata": {},
   "outputs": [],
   "source": [
    "rounds_df.shape[0] == rounds_df['funding_round_id'].unique().shape[0]"
   ]
  },
  {
   "cell_type": "markdown",
   "metadata": {},
   "source": [
    "Сделаем то же самое для `company_id`."
   ]
  },
  {
   "cell_type": "code",
   "execution_count": null,
   "metadata": {},
   "outputs": [],
   "source": [
    "display(rounds_df.shape[0] == rounds_df['company_id'].unique().shape[0])\n",
    "print(f'Количество ункальных значений:', rounds_df['company_id'].unique().shape[0])"
   ]
  },
  {
   "cell_type": "markdown",
   "metadata": {},
   "source": [
    "Как и ожидалось идентификаторов компаний меньше, чем идентификаторов раундов, так как некоторые компании проходили несколько раундов.  \n",
    "  \n",
    "Теперь по просьба заказчика необходимо собрать данные воедино так,  чтобы удобно было отобрать компании по параметрам и рассчитать показатели из расчёта на одну компанию без промежуточных агрегаций.  \n",
    "  \n",
    "Проблема заключается в том, что собрать датасет так, чтобы он не требовал промежуточных агрегаций по компании, но при этом сохранил все данные не получится: у некоторых компаний было несколько раундов финансирования и простое объединение детафреймов приведет к задвоению данных по некоторым компаниям. При этом, если сгруппировать данные заранее, то мы потеряем информацию об отдельных раундах финансирования.  \n",
    "  \n",
    "Так как заказчик ориентируется в задании на рассчет данных по одной компании, то пожертвуем информацией о раундах финансирования.  \n",
    "  \n",
    "Для этого возьмем за основу датасет `company_df`, чтобы избежать промежуточных агрегаций в дальнейшем датасет `rounds_df` заранее сгруппируем по столбцу `company_id`, а затем присоеденим к `company_df`.  \n",
    "  \n",
    "Переименуем часть столбцов под новые значения и вместо столбца `funded_at` добавим два столбца `first_founding` и `last_founding` с датами первого и последнего финансирования. Для типа финансировая найдем моду, как наиболее часто использованный тип."
   ]
  },
  {
   "cell_type": "markdown",
   "metadata": {},
   "source": [
    "Столбец `raised_amount` дублируется в `funding_total`, а количество раундов финансирования содержится в столбце `funding_rounds`. Их можно опустить."
   ]
  },
  {
   "cell_type": "code",
   "execution_count": null,
   "metadata": {},
   "outputs": [],
   "source": [
    "# Сгруппируем датасет rounds_df\n",
    "rounds_group = rounds_df.groupby('company_id').agg(first_founding=('funded_at', 'min'), last_founding=('funded_at', 'max'), \n",
    "                                                   funding_type=('funding_round_type', lambda x: stats.mode(x)[0]), \n",
    "                                                   pre_money_valuation=('pre_money_valuation', 'first'), \n",
    "                                                   participants=('participants', 'sum')).reset_index()\n",
    "\n",
    "# Объединим два датасета\n",
    "cnr_new_df = company_df.merge(rounds_group, left_on='company_id', right_on='company_id', how='left', validate='1:m')\n",
    "\n",
    "cnr_new_df.info()\n",
    "cnr_new_df.head()"
   ]
  },
  {
   "cell_type": "markdown",
   "metadata": {},
   "source": [
    "Успешно сформирован новый датасет, с которым можно работать без дополнительных агрегаций и где данные соеденины корректно. Информация о раундах фининсирования добавлена для тех фирм, где она иммется в наличии."
   ]
  },
  {
   "cell_type": "markdown",
   "metadata": {
    "id": "bmVYhphNrJg2"
   },
   "source": [
    "\n",
    "## Шаг 3. Исследовательский анализ объединённых таблиц"
   ]
  },
  {
   "cell_type": "markdown",
   "metadata": {
    "id": "3Di6tCT3rJg2"
   },
   "source": [
    "\n",
    "### 3.1. Объединение данных\n",
    "\n",
    "Объедините данные для ответа на вопросы заказчика, которые касаются интересующих его компаний. Заказчика прежде всего интересуют те компании, которые меняли или готовы менять владельцев. Получение инвестиций или финансирования, по мнению заказчика, означает интерес к покупке или продаже компании.\n",
    "\n",
    "В качестве основы для объединённой таблицы возьмите данные из обработанного датасета `company_and_rounds.csv` — выберите только те компании, у которых указаны значения `funding_rounds` или `investment_rounds` больше нуля, или те, у которых в колонке `status` указано `acquired`. В результирующей таблице должно получиться порядка 40 тысяч компаний.\n",
    "\n",
    "Проверьте полноту и корректность получившейся таблицы. Далее работайте только с этими данными."
   ]
  },
  {
   "cell_type": "markdown",
   "metadata": {
    "id": "kuV1b5MXFg3_"
   },
   "source": [
    "Воспользуемся полученным на прошлом этапе датафреймом и на его снове создадим новый отфильтрованный датафрейм."
   ]
  },
  {
   "cell_type": "code",
   "execution_count": null,
   "metadata": {
    "scrolled": true
   },
   "outputs": [],
   "source": [
    "crn_buying = cnr_new_df[(cnr_new_df['funding_rounds'] > 0) | (cnr_new_df['investment_rounds'] > 0) | \n",
    "                                (cnr_new_df['status'] == 'acquired')]\n",
    "crn_buying.info()"
   ]
  },
  {
   "cell_type": "markdown",
   "metadata": {},
   "source": [
    "Убедимся, что среди идентификаторов компаний нет дубликатов."
   ]
  },
  {
   "cell_type": "code",
   "execution_count": null,
   "metadata": {},
   "outputs": [],
   "source": [
    "crn_buying['company_id'].duplicated().sum()"
   ]
  },
  {
   "cell_type": "markdown",
   "metadata": {
    "id": "DFHINkV3rJg2"
   },
   "source": [
    "\n",
    "### 3.2. Анализ выбросов\n",
    "\n",
    "Заказчика интересует обычный для рассматриваемого периода размер средств, который предоставлялся компаниям.\n",
    "\n",
    "- По предобработанному столбцу `funding_total` графическим способом оцените, какой размер общего финансирования для одной компании будет типичным, а какой — выбивающимся.\n",
    "- В процессе расчёта значений обратите внимание, например, на показатели, возвращаемые методом `.describe()`, — объясните их. Применимы ли к таким данным обычные способы нахождения типичных значений?"
   ]
  },
  {
   "cell_type": "code",
   "execution_count": null,
   "metadata": {
    "id": "8jm75fKXrJg2",
    "scrolled": true,
    "vscode": {
     "languageId": "plaintext"
    }
   },
   "outputs": [],
   "source": [
    "plt.figure(figsize=(15,5))\n",
    "# Так как выбросы очень существенные - построим диаграмму размаха исключив их\n",
    "crn_buying['funding_total'].plot(kind='box', vert=False, grid=True, showfliers=False)\n",
    "plt.show()"
   ]
  },
  {
   "cell_type": "markdown",
   "metadata": {
    "id": "S1jrfr7rFhcw"
   },
   "source": [
    "Типачный размер финансирования для одной компании будет приблизительно около 800 тысяч. Размер фининсирования больше 1,4 млн. будет выбивающимся."
   ]
  },
  {
   "cell_type": "code",
   "execution_count": null,
   "metadata": {
    "scrolled": false
   },
   "outputs": [],
   "source": [
    "crn_buying['funding_total'].describe()"
   ]
  },
  {
   "cell_type": "markdown",
   "metadata": {},
   "source": [
    "Для уменьшения влияния выбросов и разницы значений на визуальное представление данных, построим гистограмму с логарифмической шкалой."
   ]
  },
  {
   "cell_type": "code",
   "execution_count": null,
   "metadata": {},
   "outputs": [],
   "source": [
    "plt.figure(figsize=(10, 6))\n",
    "plt.hist(crn_buying['funding_total'], bins=50, edgecolor='black', log=True)\n",
    "plt.xscale('log')  # Логарифмическая шкала по оси X\n",
    "plt.xlabel('Общее финансирование (логарифмическая шкала)')\n",
    "plt.ylabel('Количество компаний')\n",
    "plt.title('Распределение общего финансирования (логарифмическая шкала)')\n",
    "plt.show()"
   ]
  },
  {
   "cell_type": "markdown",
   "metadata": {},
   "source": [
    "В данных наблюдается очень большой разброс и сильные выбросы. Около 25 % Данных - нулевые значения. Из-за сильного перекоса в данных стандартное отклонение в пять раз больше среднего значения. С такими данными очень сложно определить типичные значения и рекомендуеся их предварительно очистить. Вместе с тем отдельно можно провести анализ выбросов, для выявления интересных тенденций.  \n",
    "  \n",
    "В качестве рекомендации стоит проверить источник данных и определить являются ли нулевые значения реальными показателями или это ошибка в данных.  \n",
    "  \n",
    "Кроме того, принимая по внимание большой временной диапазон представленных данных, рекомендуется провести анализ типичных значений с учетом временного среза, так как данные могут сильно зависить от инфляции и других временнЫх тенденций, которые в настоящее время потеряли свою актуальность."
   ]
  },
  {
   "cell_type": "markdown",
   "metadata": {
    "id": "JqkRAQrIrJg2"
   },
   "source": [
    "\n",
    "### 3.3. Куплены забесплатно?\n",
    "\n",
    "- Исследуйте компании, которые были проданы за ноль или за один доллар, и при этом известно, что у них был ненулевой общий объём финансирования.\n",
    "\n",
    "- Рассчитайте аналитически верхнюю и нижнюю границу выбросов для столбца `funding_total` и укажите, каким процентилям границы соответствуют."
   ]
  },
  {
   "cell_type": "markdown",
   "metadata": {},
   "source": [
    "Создадим датафрейм, объединяющий данные о компаниях и данные о покупках"
   ]
  },
  {
   "cell_type": "code",
   "execution_count": null,
   "metadata": {
    "id": "wJHXCBwwrJg2",
    "scrolled": true,
    "vscode": {
     "languageId": "plaintext"
    }
   },
   "outputs": [],
   "source": [
    "ac_company_df = crn_buying.merge(ac_df, left_on='company_id', right_on='acquired_company_id', how='left')\n",
    "ac_company_df.info()"
   ]
  },
  {
   "cell_type": "markdown",
   "metadata": {},
   "source": [
    "Проверим, что стоимость покупки компаний не была отрицательной."
   ]
  },
  {
   "cell_type": "code",
   "execution_count": null,
   "metadata": {},
   "outputs": [],
   "source": [
    "ac_company_df[(ac_company_df['price_amount'] < 0)]"
   ]
  },
  {
   "cell_type": "markdown",
   "metadata": {},
   "source": [
    "Таких данных нет. Это поможет при дальнейшей фильтрации."
   ]
  },
  {
   "cell_type": "markdown",
   "metadata": {},
   "source": [
    "Теперь отфильтруем датафрейм по заданным условиям и выведем по нему информацию."
   ]
  },
  {
   "cell_type": "code",
   "execution_count": null,
   "metadata": {
    "scrolled": true
   },
   "outputs": [],
   "source": [
    "#Фильтрация и создание нового датаврейма\n",
    "ac_filtered_df = ac_company_df[(ac_company_df['price_amount'] <= 1) & (ac_company_df['funding_total'] > 0)]\n",
    "\n",
    "#КОличество записей\n",
    "print('Количество записей о подобных компаниях:', ac_filtered_df.shape[0])\n",
    "\n",
    "#Описание данных\n",
    "ac_filtered_df[['investment_rounds', 'funding_rounds', 'funding_total', 'pre_money_valuation', 'participants', 'price_amount']].describe()"
   ]
  },
  {
   "cell_type": "markdown",
   "metadata": {},
   "source": [
    "На основании полученных данных можно сказать, что у почти у всех подобных компаний не было **ни одного раунда инвестирования** и, чаще всего, **один или два раунда финансирования**.  \n",
    "**Типичный размер финисирования составлял 6 млн.**  \n",
    "Чаще всего **предварительная оценка таких компаний является нулевой.  \n",
    "Типичное число участников --- 3.  \n",
    "Сумма сделки во всех случаях нулевая**."
   ]
  },
  {
   "cell_type": "markdown",
   "metadata": {},
   "source": [
    "Рассчитаем верхнюю и нижнюю границу выбросов для столбца funding_total у указанных компаний."
   ]
  },
  {
   "cell_type": "markdown",
   "metadata": {},
   "source": [
    "Посчитаем межквартильный размах (IQR) столбца `funding_total`, найдем с его помощью выбросов."
   ]
  },
  {
   "cell_type": "code",
   "execution_count": null,
   "metadata": {},
   "outputs": [],
   "source": [
    "# Посчитаем межквартильный размах\n",
    "ft_iqr = ac_filtered_df['funding_total'].quantile(0.75) - ac_filtered_df['funding_total'].quantile(0.25)\n",
    "\n",
    "#Найдем верхнюю и нижнюю границу выбросов\n",
    "low_outlier = ac_filtered_df['funding_total'].quantile(0.75)+1.5*ft_iqr\n",
    "hight_outlier = ac_filtered_df['funding_total'].max()\n",
    "\n",
    "# Выведем их\n",
    "print('Нижняя граница выбросов -', low_outlier)\n",
    "print('Верхняя граница выбросов -', hight_outlier)"
   ]
  },
  {
   "cell_type": "markdown",
   "metadata": {},
   "source": [
    "Рассчитаем какому процентилю соответствует нижняя и верхняя границы"
   ]
  },
  {
   "cell_type": "code",
   "execution_count": null,
   "metadata": {},
   "outputs": [],
   "source": [
    "print(f\"Нижняя граница выбросов соответствует {ac_filtered_df[ac_filtered_df['funding_total'] < low_outlier]['funding_total'].count()/ac_filtered_df['funding_total'].count()*100:.2f} процентилю\")\n",
    "print(f\"Верхняя граница выбросов соответствует {ac_filtered_df[ac_filtered_df['funding_total'] < hight_outlier]['funding_total'].count()/ac_filtered_df['funding_total'].count()*100:.3f} процентилю\")"
   ]
  },
  {
   "cell_type": "markdown",
   "metadata": {},
   "source": [
    "Удостоверимся в отсутствии отрицательных значений."
   ]
  },
  {
   "cell_type": "code",
   "execution_count": null,
   "metadata": {
    "scrolled": false
   },
   "outputs": [],
   "source": [
    "ac_filtered_df[ac_filtered_df['funding_total'] < 0]"
   ]
  },
  {
   "cell_type": "markdown",
   "metadata": {},
   "source": [
    "Отрицательные значения отсутствуют, все корректно."
   ]
  },
  {
   "cell_type": "markdown",
   "metadata": {
    "id": "mEiWpROjrJg2"
   },
   "source": [
    "\n",
    "### 3.4. Цены стартапов по категориям\n",
    "\n",
    "Категории стартапов с типично высокими ценами покупки стартапов и значительным разбросом цен могут быть привлекательными для крупных инвесторов, которые готовы к высоким рискам ради потенциально больших доходов. Среди категорий стартапов выделите категории стартапов, характеризующиеся:\n",
    "\n",
    "- типично высокими ценами;\n",
    "- и наибольшим разбросом цен за стартап.\n",
    "\n",
    "Объясните, почему решили составить топ именно из такого числа категорий и почему рассчитывали именно так."
   ]
  },
  {
   "cell_type": "markdown",
   "metadata": {
    "id": "jQ09dYUWrJg2",
    "vscode": {
     "languageId": "plaintext"
    }
   },
   "source": [
    "Для начала выясним сколько категорий стартапов у нас есть."
   ]
  },
  {
   "cell_type": "code",
   "execution_count": null,
   "metadata": {
    "id": "eF1aULm5FjfY"
   },
   "outputs": [],
   "source": [
    "ac_company_df['category_code'].nunique()"
   ]
  },
  {
   "cell_type": "markdown",
   "metadata": {},
   "source": [
    "Топ-10  --- хороший варинат для представления данных. Он составляет почти четверть данных и при этом круглое число хорошо воспринимается людьми.  \n",
    "  \n",
    "Сгруппируем данные по категориям и найдем для их цен медиану, как типичное значение и стандартное отклонение, как показатель разброса."
   ]
  },
  {
   "cell_type": "code",
   "execution_count": null,
   "metadata": {},
   "outputs": [],
   "source": [
    "category_df = ac_company_df.groupby('category_code').agg(median=('price_amount', 'median'), volatility = ('price_amount', 'std'))"
   ]
  },
  {
   "cell_type": "markdown",
   "metadata": {},
   "source": [
    "Отсортируем данные по медианной цене и выведем топ-10"
   ]
  },
  {
   "cell_type": "code",
   "execution_count": null,
   "metadata": {},
   "outputs": [],
   "source": [
    "category_df['median'].sort_values(ascending=False).head(10)"
   ]
  },
  {
   "cell_type": "markdown",
   "metadata": {},
   "source": [
    "10 значений не набирается, выведем топ-5"
   ]
  },
  {
   "cell_type": "code",
   "execution_count": null,
   "metadata": {
    "scrolled": true
   },
   "outputs": [],
   "source": [
    "print('Топ-5 категорий по типичным ценам продажи')\n",
    "category_df['median'].sort_values(ascending=False).head(5)"
   ]
  },
  {
   "cell_type": "markdown",
   "metadata": {},
   "source": [
    "Для более симмитричного представления данных сформируем топ-5 по разбросу цен продажи."
   ]
  },
  {
   "cell_type": "code",
   "execution_count": null,
   "metadata": {},
   "outputs": [],
   "source": [
    "print('Топ-5 категорий по высокому разбросу цен продажи')\n",
    "category_df['volatility'] = category_df['volatility'].round(2)\n",
    "print(category_df['volatility'].sort_values(ascending=False).head(5))"
   ]
  },
  {
   "cell_type": "markdown",
   "metadata": {
    "id": "ADOfyVY_rJg3"
   },
   "source": [
    "\n",
    "### 3.5. Сколько раундов продержится стартап перед покупкой\n",
    "\n",
    "- Необходимо проанализировать столбец `funding_rounds`. Исследуйте значения столбца. Заказчика интересует типичное значение количества раундов для каждого возможного статуса стартапа.\n",
    "- Постройте график, который отображает, сколько в среднем раундов финансирования проходило для стартапов из каждой группы. Сделайте выводы."
   ]
  },
  {
   "cell_type": "markdown",
   "metadata": {},
   "source": [
    "Для начала отфильтруем те компании, к уоторых не было ни одного раунда финансирования."
   ]
  },
  {
   "cell_type": "code",
   "execution_count": null,
   "metadata": {},
   "outputs": [],
   "source": [
    "crn_rounds_df = cnr_new_df[cnr_new_df['funding_rounds'] > 0]"
   ]
  },
  {
   "cell_type": "markdown",
   "metadata": {},
   "source": [
    "Выведем информацию о `funding_rounds` в зависимости от статуса стартапа."
   ]
  },
  {
   "cell_type": "code",
   "execution_count": null,
   "metadata": {
    "id": "hgXMPC4WrJg3",
    "vscode": {
     "languageId": "plaintext"
    }
   },
   "outputs": [],
   "source": [
    "crn_rounds_df = crn_rounds_df.groupby('status')['funding_rounds'].agg('describe')\n",
    "crn_rounds_df"
   ]
  },
  {
   "cell_type": "markdown",
   "metadata": {
    "id": "pV3e7kw5Fj1Y"
   },
   "source": [
    "Разброс в данных получился достаточно небольшой, кроме того, можно сказать, что данные довольно однородны: **медианное количество раундов финансирования все всех статусов, кроме ipo, составляет 1 раунд, а для ipo --- 2. Наибольший разброс по количеству раундов наблюдается у стартапов со статусом ipo, наименьший --- у закрытых.  \n",
    "Стоит отметить, что хароактеристики раундов финансировния у статусов acquired и operating довольно близки, хотя количество таких статусов различается в 10 раз в пользу действующих компаний**"
   ]
  },
  {
   "cell_type": "markdown",
   "metadata": {},
   "source": [
    "Построим график, отображающий среднее количество раундов финансирования в зависимости от статуса. Лучше всего тут подойдет столбчатая диаграмма."
   ]
  },
  {
   "cell_type": "code",
   "execution_count": null,
   "metadata": {},
   "outputs": [],
   "source": [
    "plt.figure(figsize=(7,5))\n",
    "crn_rounds_df.reset_index().sort_values(by='mean').plot(kind='barh', x='status', y='mean', legend=False, xlabel='Статус стартапа', title='Среднее количество раундов финансирования')\n",
    "plt.show()"
   ]
  },
  {
   "cell_type": "markdown",
   "metadata": {
    "id": "VAFEZ2HBrJg3"
   },
   "source": [
    "\n",
    "## Шаг 4. Итоговый вывод и рекомендации\n",
    "\n",
    "Опишите, что было сделано в проекте, какие были сделаны выводы, подкрепляют ли они друг друга или заставляют сомневаться в полученных результатах.  \n",
    "  \n",
    "Датасеты загружены, проанализированны, данные в них приведены к нужным типам, названия приведены к корректному формату, исправлены ошибки, проанализированы пропуски.  \n",
    "**Анализ раундов финансирования** по годам показал, что пиковая типичная сумма финансирования приходится на 2005 год, далее наблюдается спад сумм финансирования и рост числа раундов финансирования, со стабилизацией в 2012 году.\n",
    "**Анализ датасетов, содержащих сведения об образовании сотрудников** показал, что данные крайне неполные, нерепрезентативные и не подходят для корректного анализа. Однако, в соответствии с заданием, был проведен анализ имеющихся сведений на предмет выявления взаимосвязи размера компании с наличием сведений об образовании сотрудников. Анализ показал, что в компаниях из двух и более человек выше вероятность наличия сведений об образовании.  \n",
    "**Сравнение данных в столбцах `network_username`** разных датасетов показал, что этот столбец содержит разные сведения и не подходит для объединения датасетов.  \n",
    "**Анализ датасета `company_and_rounds`** показал, что он получен в результате некорректного соединения двух датасетов. Датасет был разделен на два датасета для корректной работы. На основе этих датасетов по заданию заказчика был сформирован датасет, позволяющий получать информацию о компаниях и раундах финансирования без дополнительных агрегаций.  \n",
    "**Исследовательский анализ данных** показал, что типачный размер финансирования для одной компании составляет приблизительно  800 тысяч, а размер фининсирования больше 1,4 млн. будет попадать в категорию выбросов.  \n",
    "**Анализ компаний, купленых за 0 или 1 доллар, но имеющих ненулевой объем финансирования** показал, что почти у всех подобных компаний не было ни одного раунда инвестирования и, чаще всего, один или два раунда финансирования. Типичный размер финисирования составлял 6 млн. Выбросы в в размерах итоговых фининсирования в данной категории начинаются после 90-ого процентиля.  \n",
    "**Наиболее высокая типичная стоимость** у компаний отнощихся к категориям nanotech, manufacturing, real_estate, automotive, biotech. **Наибольший разброс стоимости** наблюдается внутри категорий enterprise, public_relations, real_estate, automotive, biotech.  \n",
    "**Анализ раундов финансирования стартапов перед покупкой** показал, что медианное количество раундов финансирования все всех статусов, кроме ipo, составляет 1 раунд, а для ipo --- 2 раунда. Наибольший разброс по количеству раундов наблюдается у стартапов со статусом ipo, наименьший --- у закрытых.  \n",
    "Стоит отметить, что **характеристики раундов финансировния у статусов acquired и operating довольно близки**, хотя количество таких статусов различается в 10 раз в пользу действующих компаний."
   ]
  },
  {
   "cell_type": "markdown",
   "metadata": {},
   "source": [
    "#### Рекомендации\n",
    "  \n",
    "В виду ограниченных данных об образовании сотрудников, рекомендуется принимать их в рассчет с крайней осторожность или провести повторное исследование, с уточненными данными.  \n",
    "  \n",
    "Так как практически у всех компаний, купленных за 0 долларов не было ни одного раунда инвестирования, а только раунды финансирования, можно предположить, что последущий переход права собственности был одним из условий финансирования, делающее его опхожим на определенную форму инвестирования. Это можно учитывать, как один из механизмов инвестирования в компании, но для более подробной рекомендации стоит проработать юридические аспекты подобных сделок.  \n",
    "  \n",
    "Для более надежного инвестирования рекомендуются компании из категорий nanotech так как типичная цена их последующей продажи наиболее высокая.  \n",
    "Если инвестиционная стратегия более рисковая, то рекомендуется обратить внимание на компании категории enterprise, так там наблюдается наибольший разброс цен, а следовательно больше шансов найти компанию, которая может показать довольно большой рост. Но такая стратегия требует осторожного и глубокого анализа.  \n",
    "  \n",
    "Типичное количество раундов финансирования перед покупкой компании --- 1, для всех стартапов, кроме ipo, однако самих таких компаний крайне мало. Это говорит о том, что получить такой статус довольно сложно, но он вызывает доверие у тех, кто готов вложить в компанию средства. Исходя из этого можно использовать стратегию преобретения компаний в статусе ipo с одним или меньше раундами финансирования или перевода компании, в которую вложены инвестиции, в статус ipo для получения дополнительного финансирования в будущем."
   ]
  }
 ],
 "metadata": {
  "ExecuteTimeLog": [
   {
    "duration": 1618,
    "start_time": "2025-04-21T11:31:25.272Z"
   },
   {
    "duration": 3721,
    "start_time": "2025-04-21T11:32:10.158Z"
   },
   {
    "duration": 98,
    "start_time": "2025-04-21T11:32:18.133Z"
   },
   {
    "duration": 2129,
    "start_time": "2025-04-21T11:32:30.501Z"
   },
   {
    "duration": 3,
    "start_time": "2025-04-21T11:35:57.449Z"
   },
   {
    "duration": 19,
    "start_time": "2025-04-21T11:36:28.520Z"
   },
   {
    "duration": 10,
    "start_time": "2025-04-21T11:36:48.719Z"
   },
   {
    "duration": 3,
    "start_time": "2025-04-21T11:36:50.327Z"
   },
   {
    "duration": 16,
    "start_time": "2025-04-21T11:36:51.063Z"
   },
   {
    "duration": 3,
    "start_time": "2025-04-21T11:37:08.356Z"
   },
   {
    "duration": 22,
    "start_time": "2025-04-21T11:37:09.055Z"
   },
   {
    "duration": 5,
    "start_time": "2025-04-21T12:01:03.099Z"
   },
   {
    "duration": 20,
    "start_time": "2025-04-21T12:01:03.591Z"
   },
   {
    "duration": 7,
    "start_time": "2025-04-21T12:01:17.074Z"
   },
   {
    "duration": 24,
    "start_time": "2025-04-21T12:01:17.402Z"
   },
   {
    "duration": 4,
    "start_time": "2025-04-21T12:01:51.163Z"
   },
   {
    "duration": 25,
    "start_time": "2025-04-21T12:01:54.491Z"
   },
   {
    "duration": 3,
    "start_time": "2025-04-21T12:02:08.816Z"
   },
   {
    "duration": 26,
    "start_time": "2025-04-21T12:02:09.298Z"
   },
   {
    "duration": 10,
    "start_time": "2025-04-21T12:02:13.179Z"
   },
   {
    "duration": 30,
    "start_time": "2025-04-21T12:02:14.067Z"
   },
   {
    "duration": 3,
    "start_time": "2025-04-21T12:02:22.594Z"
   },
   {
    "duration": 23,
    "start_time": "2025-04-21T12:02:22.927Z"
   },
   {
    "duration": 3,
    "start_time": "2025-04-21T12:02:28.859Z"
   },
   {
    "duration": 22,
    "start_time": "2025-04-21T12:02:29.191Z"
   },
   {
    "duration": 4,
    "start_time": "2025-04-21T12:04:32.594Z"
   },
   {
    "duration": 50,
    "start_time": "2025-04-21T12:04:33.757Z"
   },
   {
    "duration": 3,
    "start_time": "2025-04-21T12:05:42.586Z"
   },
   {
    "duration": 23,
    "start_time": "2025-04-21T12:05:42.864Z"
   },
   {
    "duration": 75,
    "start_time": "2025-04-21T12:06:15.698Z"
   },
   {
    "duration": 71,
    "start_time": "2025-04-21T12:06:27.306Z"
   },
   {
    "duration": 3,
    "start_time": "2025-04-21T12:06:37.106Z"
   },
   {
    "duration": 37,
    "start_time": "2025-04-21T12:06:38.162Z"
   },
   {
    "duration": 3,
    "start_time": "2025-04-21T12:06:47.705Z"
   },
   {
    "duration": 34,
    "start_time": "2025-04-21T12:06:48.899Z"
   },
   {
    "duration": 4,
    "start_time": "2025-04-21T12:08:14.101Z"
   },
   {
    "duration": 25,
    "start_time": "2025-04-21T12:08:20.876Z"
   },
   {
    "duration": 4,
    "start_time": "2025-04-21T12:09:41.306Z"
   },
   {
    "duration": 27,
    "start_time": "2025-04-21T12:09:41.576Z"
   },
   {
    "duration": 3,
    "start_time": "2025-04-21T12:09:51.968Z"
   },
   {
    "duration": 27,
    "start_time": "2025-04-21T12:09:52.326Z"
   },
   {
    "duration": 3,
    "start_time": "2025-04-21T12:14:05.395Z"
   },
   {
    "duration": 35,
    "start_time": "2025-04-21T12:14:05.679Z"
   },
   {
    "duration": 4,
    "start_time": "2025-04-21T12:14:58.875Z"
   },
   {
    "duration": 5552,
    "start_time": "2025-04-21T12:14:59.292Z"
   },
   {
    "duration": 3,
    "start_time": "2025-04-21T12:18:03.372Z"
   },
   {
    "duration": 32,
    "start_time": "2025-04-21T12:18:04.276Z"
   },
   {
    "duration": 95,
    "start_time": "2025-04-21T12:20:11.004Z"
   },
   {
    "duration": 3,
    "start_time": "2025-04-21T12:20:33.428Z"
   },
   {
    "duration": 36,
    "start_time": "2025-04-21T12:20:34.995Z"
   },
   {
    "duration": 5,
    "start_time": "2025-04-21T12:21:22.381Z"
   },
   {
    "duration": 41,
    "start_time": "2025-04-21T12:21:24.372Z"
   },
   {
    "duration": 3,
    "start_time": "2025-04-21T12:21:43.153Z"
   },
   {
    "duration": 35,
    "start_time": "2025-04-21T12:21:43.929Z"
   },
   {
    "duration": 4,
    "start_time": "2025-04-21T12:21:51.595Z"
   },
   {
    "duration": 35,
    "start_time": "2025-04-21T12:21:53.203Z"
   },
   {
    "duration": 194,
    "start_time": "2025-04-21T12:22:45.903Z"
   },
   {
    "duration": 37,
    "start_time": "2025-04-21T12:22:46.508Z"
   },
   {
    "duration": 3,
    "start_time": "2025-04-21T12:23:11.725Z"
   },
   {
    "duration": 6591,
    "start_time": "2025-04-21T12:23:12.218Z"
   },
   {
    "duration": 3,
    "start_time": "2025-04-21T12:23:45.853Z"
   },
   {
    "duration": 21,
    "start_time": "2025-04-21T12:23:46.349Z"
   },
   {
    "duration": 9,
    "start_time": "2025-04-21T12:27:02.542Z"
   },
   {
    "duration": 135,
    "start_time": "2025-04-21T12:27:18.486Z"
   },
   {
    "duration": 85,
    "start_time": "2025-04-21T12:37:58.763Z"
   },
   {
    "duration": 159,
    "start_time": "2025-04-21T12:39:47.332Z"
   },
   {
    "duration": 33,
    "start_time": "2025-04-21T12:39:55.508Z"
   },
   {
    "duration": 53,
    "start_time": "2025-04-21T12:41:54.750Z"
   },
   {
    "duration": 106,
    "start_time": "2025-04-21T12:52:16.186Z"
   },
   {
    "duration": 125,
    "start_time": "2025-04-21T12:52:56.506Z"
   },
   {
    "duration": 110,
    "start_time": "2025-04-21T12:53:16.791Z"
   },
   {
    "duration": 111,
    "start_time": "2025-04-21T12:53:36.337Z"
   },
   {
    "duration": 132,
    "start_time": "2025-04-21T12:53:47.362Z"
   },
   {
    "duration": 108,
    "start_time": "2025-04-21T12:53:54.802Z"
   },
   {
    "duration": 106,
    "start_time": "2025-04-21T12:53:57.858Z"
   },
   {
    "duration": 6015,
    "start_time": "2025-04-21T12:54:18.618Z"
   },
   {
    "duration": 110,
    "start_time": "2025-04-21T12:54:24.635Z"
   },
   {
    "duration": 16,
    "start_time": "2025-04-21T12:58:48.123Z"
   },
   {
    "duration": 13,
    "start_time": "2025-04-21T12:58:54.740Z"
   },
   {
    "duration": 14,
    "start_time": "2025-04-21T13:00:02.997Z"
   },
   {
    "duration": 11,
    "start_time": "2025-04-21T13:01:51.686Z"
   },
   {
    "duration": 23,
    "start_time": "2025-04-21T13:01:57.422Z"
   },
   {
    "duration": 3561,
    "start_time": "2025-04-21T13:12:20.329Z"
   },
   {
    "duration": 105,
    "start_time": "2025-04-21T13:12:24.382Z"
   },
   {
    "duration": 15,
    "start_time": "2025-04-21T13:12:32.953Z"
   },
   {
    "duration": 15,
    "start_time": "2025-04-21T13:17:06.817Z"
   },
   {
    "duration": 16,
    "start_time": "2025-04-21T13:18:00.042Z"
   },
   {
    "duration": 5,
    "start_time": "2025-04-21T13:20:34.059Z"
   },
   {
    "duration": 14,
    "start_time": "2025-04-21T13:21:44.611Z"
   },
   {
    "duration": 12,
    "start_time": "2025-04-21T13:22:28.053Z"
   },
   {
    "duration": 10,
    "start_time": "2025-04-21T13:22:52.685Z"
   },
   {
    "duration": 12,
    "start_time": "2025-04-21T13:23:00.733Z"
   },
   {
    "duration": 12,
    "start_time": "2025-04-21T13:23:05.117Z"
   },
   {
    "duration": 15,
    "start_time": "2025-04-21T13:23:33.134Z"
   },
   {
    "duration": 9,
    "start_time": "2025-04-21T13:23:58.423Z"
   },
   {
    "duration": 5,
    "start_time": "2025-04-21T13:24:21.043Z"
   },
   {
    "duration": 15,
    "start_time": "2025-04-21T13:24:54.246Z"
   },
   {
    "duration": 4,
    "start_time": "2025-04-21T13:26:35.088Z"
   },
   {
    "duration": 5,
    "start_time": "2025-04-21T13:26:52.918Z"
   },
   {
    "duration": 75,
    "start_time": "2025-04-21T13:27:50.613Z"
   },
   {
    "duration": 14,
    "start_time": "2025-04-21T13:27:55.319Z"
   },
   {
    "duration": 5,
    "start_time": "2025-04-21T13:28:37.251Z"
   },
   {
    "duration": 16,
    "start_time": "2025-04-21T13:29:02.831Z"
   },
   {
    "duration": 16,
    "start_time": "2025-04-21T13:29:55.594Z"
   },
   {
    "duration": 13,
    "start_time": "2025-04-21T13:30:19.841Z"
   },
   {
    "duration": 105,
    "start_time": "2025-04-21T13:32:30.782Z"
   },
   {
    "duration": 17,
    "start_time": "2025-04-21T13:34:22.545Z"
   },
   {
    "duration": 4,
    "start_time": "2025-04-21T13:34:41.674Z"
   },
   {
    "duration": 22,
    "start_time": "2025-04-21T13:36:20.106Z"
   },
   {
    "duration": 13,
    "start_time": "2025-04-21T13:36:40.570Z"
   },
   {
    "duration": 21,
    "start_time": "2025-04-21T13:36:49.362Z"
   },
   {
    "duration": 157,
    "start_time": "2025-04-21T13:38:35.371Z"
   },
   {
    "duration": 44,
    "start_time": "2025-04-21T13:39:27.531Z"
   },
   {
    "duration": 3,
    "start_time": "2025-04-21T13:41:56.332Z"
   },
   {
    "duration": 114,
    "start_time": "2025-04-21T13:46:28.948Z"
   },
   {
    "duration": 144,
    "start_time": "2025-04-21T13:46:36.684Z"
   },
   {
    "duration": 102,
    "start_time": "2025-04-21T13:48:17.823Z"
   },
   {
    "duration": 3545,
    "start_time": "2025-04-21T13:51:11.145Z"
   },
   {
    "duration": 3,
    "start_time": "2025-04-21T13:51:14.692Z"
   },
   {
    "duration": 170,
    "start_time": "2025-04-21T13:51:14.697Z"
   },
   {
    "duration": 126,
    "start_time": "2025-04-21T13:51:21.098Z"
   },
   {
    "duration": 12,
    "start_time": "2025-04-21T13:52:00.850Z"
   },
   {
    "duration": 12,
    "start_time": "2025-04-21T13:52:15.089Z"
   },
   {
    "duration": 19,
    "start_time": "2025-04-21T13:52:32.714Z"
   },
   {
    "duration": 242,
    "start_time": "2025-04-21T13:55:50.038Z"
   },
   {
    "duration": 11,
    "start_time": "2025-04-21T13:58:53.584Z"
   },
   {
    "duration": 25,
    "start_time": "2025-04-21T13:59:09.216Z"
   },
   {
    "duration": 51,
    "start_time": "2025-04-21T14:00:30.082Z"
   },
   {
    "duration": 163,
    "start_time": "2025-04-21T14:06:14.996Z"
   },
   {
    "duration": 24,
    "start_time": "2025-04-21T14:07:43.542Z"
   },
   {
    "duration": 107,
    "start_time": "2025-04-21T14:07:50.373Z"
   },
   {
    "duration": 2328,
    "start_time": "2025-04-21T14:08:05.582Z"
   },
   {
    "duration": 3,
    "start_time": "2025-04-21T14:08:07.912Z"
   },
   {
    "duration": 40,
    "start_time": "2025-04-21T14:08:07.917Z"
   },
   {
    "duration": 126,
    "start_time": "2025-04-21T14:08:07.959Z"
   },
   {
    "duration": 18,
    "start_time": "2025-04-21T14:08:10.660Z"
   },
   {
    "duration": 49,
    "start_time": "2025-04-21T14:08:12.517Z"
   },
   {
    "duration": 161,
    "start_time": "2025-04-21T14:08:41.988Z"
   },
   {
    "duration": 52,
    "start_time": "2025-04-21T14:08:57.254Z"
   },
   {
    "duration": 122,
    "start_time": "2025-04-21T14:09:04.838Z"
   },
   {
    "duration": 24,
    "start_time": "2025-04-21T14:09:10.998Z"
   },
   {
    "duration": 104,
    "start_time": "2025-04-21T14:10:33.554Z"
   },
   {
    "duration": 49,
    "start_time": "2025-04-21T14:10:39.828Z"
   },
   {
    "duration": 27,
    "start_time": "2025-04-21T14:10:40.774Z"
   },
   {
    "duration": 31,
    "start_time": "2025-04-21T14:10:41.511Z"
   },
   {
    "duration": 4,
    "start_time": "2025-04-21T14:10:46.669Z"
   },
   {
    "duration": 138,
    "start_time": "2025-04-21T14:10:48.646Z"
   },
   {
    "duration": 85,
    "start_time": "2025-04-21T15:15:30.060Z"
   },
   {
    "duration": 12,
    "start_time": "2025-04-21T15:15:54.860Z"
   },
   {
    "duration": 74,
    "start_time": "2025-04-21T15:22:02.948Z"
   },
   {
    "duration": 107,
    "start_time": "2025-04-21T15:23:16.619Z"
   },
   {
    "duration": 74,
    "start_time": "2025-04-21T15:23:54.284Z"
   },
   {
    "duration": 95,
    "start_time": "2025-04-21T15:26:20.539Z"
   },
   {
    "duration": 148,
    "start_time": "2025-04-21T15:26:49.803Z"
   },
   {
    "duration": 14,
    "start_time": "2025-04-21T15:27:00.307Z"
   },
   {
    "duration": 4358,
    "start_time": "2025-04-21T15:27:33.727Z"
   },
   {
    "duration": 2422,
    "start_time": "2025-04-21T15:27:38.087Z"
   },
   {
    "duration": 3,
    "start_time": "2025-04-21T15:27:40.511Z"
   },
   {
    "duration": 36,
    "start_time": "2025-04-21T15:27:40.517Z"
   },
   {
    "duration": 141,
    "start_time": "2025-04-21T15:27:40.556Z"
   },
   {
    "duration": 21,
    "start_time": "2025-04-21T15:27:40.699Z"
   },
   {
    "duration": 92,
    "start_time": "2025-04-21T15:27:40.722Z"
   },
   {
    "duration": 65,
    "start_time": "2025-04-21T15:27:40.816Z"
   },
   {
    "duration": 114,
    "start_time": "2025-04-21T15:27:40.883Z"
   },
   {
    "duration": 52,
    "start_time": "2025-04-21T15:27:40.999Z"
   },
   {
    "duration": 50,
    "start_time": "2025-04-21T15:27:41.053Z"
   },
   {
    "duration": 37,
    "start_time": "2025-04-21T15:27:41.105Z"
   },
   {
    "duration": 4,
    "start_time": "2025-04-21T15:27:41.144Z"
   },
   {
    "duration": 186,
    "start_time": "2025-04-21T15:27:41.180Z"
   },
   {
    "duration": 9,
    "start_time": "2025-04-21T15:27:41.368Z"
   },
   {
    "duration": 160,
    "start_time": "2025-04-21T15:27:41.380Z"
   },
   {
    "duration": 163,
    "start_time": "2025-04-21T15:27:41.542Z"
   },
   {
    "duration": 78,
    "start_time": "2025-04-21T15:27:41.707Z"
   },
   {
    "duration": 125,
    "start_time": "2025-04-21T15:28:49.426Z"
   },
   {
    "duration": 4159,
    "start_time": "2025-04-21T15:29:02.036Z"
   },
   {
    "duration": 2430,
    "start_time": "2025-04-21T15:29:06.198Z"
   },
   {
    "duration": 4,
    "start_time": "2025-04-21T15:29:08.629Z"
   },
   {
    "duration": 39,
    "start_time": "2025-04-21T15:29:08.635Z"
   },
   {
    "duration": 148,
    "start_time": "2025-04-21T15:29:08.677Z"
   },
   {
    "duration": 20,
    "start_time": "2025-04-21T15:29:08.827Z"
   },
   {
    "duration": 73,
    "start_time": "2025-04-21T15:29:08.849Z"
   },
   {
    "duration": 67,
    "start_time": "2025-04-21T15:29:08.924Z"
   },
   {
    "duration": 116,
    "start_time": "2025-04-21T15:29:08.993Z"
   },
   {
    "duration": 68,
    "start_time": "2025-04-21T15:29:09.111Z"
   },
   {
    "duration": 28,
    "start_time": "2025-04-21T15:29:09.181Z"
   },
   {
    "duration": 35,
    "start_time": "2025-04-21T15:29:09.211Z"
   },
   {
    "duration": 35,
    "start_time": "2025-04-21T15:29:09.247Z"
   },
   {
    "duration": 178,
    "start_time": "2025-04-21T15:29:09.284Z"
   },
   {
    "duration": 4,
    "start_time": "2025-04-21T15:29:09.464Z"
   },
   {
    "duration": 66,
    "start_time": "2025-04-21T15:29:09.469Z"
   },
   {
    "duration": 153,
    "start_time": "2025-04-21T15:29:09.537Z"
   },
   {
    "duration": 75,
    "start_time": "2025-04-21T15:29:09.692Z"
   },
   {
    "duration": 30,
    "start_time": "2025-04-21T15:31:37.773Z"
   },
   {
    "duration": 23,
    "start_time": "2025-04-21T15:33:32.940Z"
   },
   {
    "duration": 53,
    "start_time": "2025-04-21T15:35:59.171Z"
   },
   {
    "duration": 197,
    "start_time": "2025-04-21T15:36:06.027Z"
   },
   {
    "duration": 3,
    "start_time": "2025-04-21T17:48:42.462Z"
   },
   {
    "duration": 123,
    "start_time": "2025-04-21T17:49:52.205Z"
   },
   {
    "duration": 3,
    "start_time": "2025-04-21T17:50:23.437Z"
   },
   {
    "duration": 17,
    "start_time": "2025-04-21T17:50:25.981Z"
   },
   {
    "duration": 3,
    "start_time": "2025-04-21T17:50:44.757Z"
   },
   {
    "duration": 15,
    "start_time": "2025-04-21T17:50:46.413Z"
   },
   {
    "duration": 3,
    "start_time": "2025-04-21T17:51:26.949Z"
   },
   {
    "duration": 20,
    "start_time": "2025-04-21T17:51:27.989Z"
   },
   {
    "duration": 4,
    "start_time": "2025-04-21T17:54:59.573Z"
   },
   {
    "duration": 24,
    "start_time": "2025-04-21T17:55:01.372Z"
   },
   {
    "duration": 11,
    "start_time": "2025-04-21T17:57:08.324Z"
   },
   {
    "duration": 2306,
    "start_time": "2025-04-21T17:57:31.478Z"
   },
   {
    "duration": 4003,
    "start_time": "2025-04-21T17:57:40.964Z"
   },
   {
    "duration": 2083,
    "start_time": "2025-04-21T17:57:44.970Z"
   },
   {
    "duration": 3,
    "start_time": "2025-04-21T17:57:47.055Z"
   },
   {
    "duration": 48,
    "start_time": "2025-04-21T17:57:47.061Z"
   },
   {
    "duration": 138,
    "start_time": "2025-04-21T17:57:47.112Z"
   },
   {
    "duration": 26,
    "start_time": "2025-04-21T17:57:47.252Z"
   },
   {
    "duration": 54,
    "start_time": "2025-04-21T17:57:47.279Z"
   },
   {
    "duration": 74,
    "start_time": "2025-04-21T17:57:47.334Z"
   },
   {
    "duration": 114,
    "start_time": "2025-04-21T17:57:47.410Z"
   },
   {
    "duration": 60,
    "start_time": "2025-04-21T17:57:47.525Z"
   },
   {
    "duration": 28,
    "start_time": "2025-04-21T17:57:47.586Z"
   },
   {
    "duration": 62,
    "start_time": "2025-04-21T17:57:47.616Z"
   },
   {
    "duration": 27,
    "start_time": "2025-04-21T17:57:47.680Z"
   },
   {
    "duration": 45,
    "start_time": "2025-04-21T17:57:47.710Z"
   },
   {
    "duration": 3,
    "start_time": "2025-04-21T17:57:47.756Z"
   },
   {
    "duration": 183,
    "start_time": "2025-04-21T17:57:47.761Z"
   },
   {
    "duration": 4,
    "start_time": "2025-04-21T17:57:47.945Z"
   },
   {
    "duration": 88,
    "start_time": "2025-04-21T17:57:47.950Z"
   },
   {
    "duration": 141,
    "start_time": "2025-04-21T17:57:48.039Z"
   },
   {
    "duration": 185,
    "start_time": "2025-04-21T17:57:48.182Z"
   },
   {
    "duration": 8,
    "start_time": "2025-04-21T17:57:48.369Z"
   },
   {
    "duration": 64,
    "start_time": "2025-04-21T17:57:48.379Z"
   },
   {
    "duration": 2588,
    "start_time": "2025-04-21T18:03:07.669Z"
   },
   {
    "duration": 206,
    "start_time": "2025-04-21T18:05:02.294Z"
   },
   {
    "duration": 209,
    "start_time": "2025-04-21T18:05:33.142Z"
   },
   {
    "duration": 213,
    "start_time": "2025-04-21T18:05:38.101Z"
   },
   {
    "duration": 3944,
    "start_time": "2025-04-21T18:08:16.142Z"
   },
   {
    "duration": 2559,
    "start_time": "2025-04-21T18:08:20.088Z"
   },
   {
    "duration": 3,
    "start_time": "2025-04-21T18:08:22.649Z"
   },
   {
    "duration": 40,
    "start_time": "2025-04-21T18:08:22.654Z"
   },
   {
    "duration": 142,
    "start_time": "2025-04-21T18:08:22.696Z"
   },
   {
    "duration": 19,
    "start_time": "2025-04-21T18:08:22.840Z"
   },
   {
    "duration": 60,
    "start_time": "2025-04-21T18:08:22.861Z"
   },
   {
    "duration": 62,
    "start_time": "2025-04-21T18:08:22.923Z"
   },
   {
    "duration": 108,
    "start_time": "2025-04-21T18:08:22.987Z"
   },
   {
    "duration": 49,
    "start_time": "2025-04-21T18:08:23.097Z"
   },
   {
    "duration": 49,
    "start_time": "2025-04-21T18:08:23.148Z"
   },
   {
    "duration": 34,
    "start_time": "2025-04-21T18:08:23.199Z"
   },
   {
    "duration": 57,
    "start_time": "2025-04-21T18:08:23.235Z"
   },
   {
    "duration": 16,
    "start_time": "2025-04-21T18:08:23.296Z"
   },
   {
    "duration": 6,
    "start_time": "2025-04-21T18:08:23.314Z"
   },
   {
    "duration": 188,
    "start_time": "2025-04-21T18:08:23.322Z"
   },
   {
    "duration": 3,
    "start_time": "2025-04-21T18:08:23.512Z"
   },
   {
    "duration": 96,
    "start_time": "2025-04-21T18:08:23.517Z"
   },
   {
    "duration": 135,
    "start_time": "2025-04-21T18:08:23.614Z"
   },
   {
    "duration": 204,
    "start_time": "2025-04-21T18:08:23.751Z"
   },
   {
    "duration": 4,
    "start_time": "2025-04-21T18:08:23.957Z"
   },
   {
    "duration": 27,
    "start_time": "2025-04-21T18:08:23.962Z"
   },
   {
    "duration": 207,
    "start_time": "2025-04-21T18:08:59.440Z"
   },
   {
    "duration": 2132,
    "start_time": "2025-04-21T18:09:45.673Z"
   },
   {
    "duration": 203,
    "start_time": "2025-04-21T18:09:59.193Z"
   },
   {
    "duration": 3812,
    "start_time": "2025-04-21T18:10:10.651Z"
   },
   {
    "duration": 2542,
    "start_time": "2025-04-21T18:10:14.465Z"
   },
   {
    "duration": 3,
    "start_time": "2025-04-21T18:10:17.011Z"
   },
   {
    "duration": 29,
    "start_time": "2025-04-21T18:10:17.016Z"
   },
   {
    "duration": 140,
    "start_time": "2025-04-21T18:10:17.047Z"
   },
   {
    "duration": 18,
    "start_time": "2025-04-21T18:10:17.189Z"
   },
   {
    "duration": 70,
    "start_time": "2025-04-21T18:10:17.209Z"
   },
   {
    "duration": 46,
    "start_time": "2025-04-21T18:10:17.280Z"
   },
   {
    "duration": 127,
    "start_time": "2025-04-21T18:10:17.328Z"
   },
   {
    "duration": 63,
    "start_time": "2025-04-21T18:10:17.457Z"
   },
   {
    "duration": 49,
    "start_time": "2025-04-21T18:10:17.522Z"
   },
   {
    "duration": 54,
    "start_time": "2025-04-21T18:10:17.576Z"
   },
   {
    "duration": 28,
    "start_time": "2025-04-21T18:10:17.634Z"
   },
   {
    "duration": 50,
    "start_time": "2025-04-21T18:10:17.665Z"
   },
   {
    "duration": 9,
    "start_time": "2025-04-21T18:10:17.717Z"
   },
   {
    "duration": 162,
    "start_time": "2025-04-21T18:10:17.728Z"
   },
   {
    "duration": 3,
    "start_time": "2025-04-21T18:10:17.891Z"
   },
   {
    "duration": 75,
    "start_time": "2025-04-21T18:10:17.896Z"
   },
   {
    "duration": 137,
    "start_time": "2025-04-21T18:10:17.973Z"
   },
   {
    "duration": 207,
    "start_time": "2025-04-21T18:10:18.112Z"
   },
   {
    "duration": 3,
    "start_time": "2025-04-21T18:10:18.321Z"
   },
   {
    "duration": 63,
    "start_time": "2025-04-21T18:10:18.326Z"
   },
   {
    "duration": 80,
    "start_time": "2025-04-21T18:10:59.341Z"
   },
   {
    "duration": 81,
    "start_time": "2025-04-21T18:11:25.325Z"
   },
   {
    "duration": 5,
    "start_time": "2025-04-21T18:11:33.629Z"
   },
   {
    "duration": 107,
    "start_time": "2025-04-21T18:11:38.229Z"
   },
   {
    "duration": 5,
    "start_time": "2025-04-21T18:11:41.502Z"
   },
   {
    "duration": 2147,
    "start_time": "2025-04-21T18:12:12.902Z"
   },
   {
    "duration": 2144,
    "start_time": "2025-04-21T18:12:38.261Z"
   },
   {
    "duration": 3945,
    "start_time": "2025-04-21T18:12:43.737Z"
   },
   {
    "duration": 2221,
    "start_time": "2025-04-21T18:12:47.684Z"
   },
   {
    "duration": 3,
    "start_time": "2025-04-21T18:12:49.906Z"
   },
   {
    "duration": 23,
    "start_time": "2025-04-21T18:12:49.911Z"
   },
   {
    "duration": 141,
    "start_time": "2025-04-21T18:12:49.936Z"
   },
   {
    "duration": 18,
    "start_time": "2025-04-21T18:12:50.079Z"
   },
   {
    "duration": 63,
    "start_time": "2025-04-21T18:12:50.099Z"
   },
   {
    "duration": 48,
    "start_time": "2025-04-21T18:12:50.176Z"
   },
   {
    "duration": 117,
    "start_time": "2025-04-21T18:12:50.226Z"
   },
   {
    "duration": 54,
    "start_time": "2025-04-21T18:12:50.345Z"
   },
   {
    "duration": 27,
    "start_time": "2025-04-21T18:12:50.401Z"
   },
   {
    "duration": 71,
    "start_time": "2025-04-21T18:12:50.430Z"
   },
   {
    "duration": 20,
    "start_time": "2025-04-21T18:12:50.503Z"
   },
   {
    "duration": 14,
    "start_time": "2025-04-21T18:12:50.525Z"
   },
   {
    "duration": 3,
    "start_time": "2025-04-21T18:12:50.541Z"
   },
   {
    "duration": 193,
    "start_time": "2025-04-21T18:12:50.545Z"
   },
   {
    "duration": 3,
    "start_time": "2025-04-21T18:12:50.740Z"
   },
   {
    "duration": 68,
    "start_time": "2025-04-21T18:12:50.745Z"
   },
   {
    "duration": 146,
    "start_time": "2025-04-21T18:12:50.814Z"
   },
   {
    "duration": 121,
    "start_time": "2025-04-21T18:12:50.962Z"
   },
   {
    "duration": 0,
    "start_time": "2025-04-21T18:12:51.085Z"
   },
   {
    "duration": 0,
    "start_time": "2025-04-21T18:12:51.086Z"
   },
   {
    "duration": 0,
    "start_time": "2025-04-21T18:12:51.087Z"
   },
   {
    "duration": 201,
    "start_time": "2025-04-21T18:13:07.421Z"
   },
   {
    "duration": 7,
    "start_time": "2025-04-21T18:13:19.333Z"
   },
   {
    "duration": 10,
    "start_time": "2025-04-21T18:13:29.990Z"
   },
   {
    "duration": 10,
    "start_time": "2025-04-21T18:13:47.462Z"
   },
   {
    "duration": 11,
    "start_time": "2025-04-21T18:14:12.942Z"
   },
   {
    "duration": 191,
    "start_time": "2025-04-21T18:14:18.254Z"
   },
   {
    "duration": 9,
    "start_time": "2025-04-21T18:14:20.422Z"
   },
   {
    "duration": 4,
    "start_time": "2025-04-21T18:14:46.853Z"
   },
   {
    "duration": 4,
    "start_time": "2025-04-21T18:15:00.477Z"
   },
   {
    "duration": 13,
    "start_time": "2025-04-21T18:15:12.133Z"
   },
   {
    "duration": 10,
    "start_time": "2025-04-21T18:15:18.366Z"
   },
   {
    "duration": 10,
    "start_time": "2025-04-21T18:16:44.029Z"
   },
   {
    "duration": 11,
    "start_time": "2025-04-21T18:16:51.406Z"
   },
   {
    "duration": 11,
    "start_time": "2025-04-21T18:16:56.470Z"
   },
   {
    "duration": 3856,
    "start_time": "2025-04-21T18:17:12.242Z"
   },
   {
    "duration": 2542,
    "start_time": "2025-04-21T18:17:16.100Z"
   },
   {
    "duration": 3,
    "start_time": "2025-04-21T18:17:18.644Z"
   },
   {
    "duration": 34,
    "start_time": "2025-04-21T18:17:18.648Z"
   },
   {
    "duration": 143,
    "start_time": "2025-04-21T18:17:18.684Z"
   },
   {
    "duration": 19,
    "start_time": "2025-04-21T18:17:18.828Z"
   },
   {
    "duration": 61,
    "start_time": "2025-04-21T18:17:18.849Z"
   },
   {
    "duration": 68,
    "start_time": "2025-04-21T18:17:18.912Z"
   },
   {
    "duration": 161,
    "start_time": "2025-04-21T18:17:18.981Z"
   },
   {
    "duration": 59,
    "start_time": "2025-04-21T18:17:19.143Z"
   },
   {
    "duration": 27,
    "start_time": "2025-04-21T18:17:19.203Z"
   },
   {
    "duration": 55,
    "start_time": "2025-04-21T18:17:19.232Z"
   },
   {
    "duration": 22,
    "start_time": "2025-04-21T18:17:19.289Z"
   },
   {
    "duration": 30,
    "start_time": "2025-04-21T18:17:19.314Z"
   },
   {
    "duration": 12,
    "start_time": "2025-04-21T18:17:19.345Z"
   },
   {
    "duration": 188,
    "start_time": "2025-04-21T18:17:19.359Z"
   },
   {
    "duration": 3,
    "start_time": "2025-04-21T18:17:19.549Z"
   },
   {
    "duration": 71,
    "start_time": "2025-04-21T18:17:19.553Z"
   },
   {
    "duration": 137,
    "start_time": "2025-04-21T18:17:19.626Z"
   },
   {
    "duration": 219,
    "start_time": "2025-04-21T18:17:19.765Z"
   },
   {
    "duration": 120,
    "start_time": "2025-04-21T18:17:19.986Z"
   },
   {
    "duration": 0,
    "start_time": "2025-04-21T18:17:20.108Z"
   },
   {
    "duration": 264,
    "start_time": "2025-04-21T18:17:42.577Z"
   },
   {
    "duration": 3986,
    "start_time": "2025-04-21T19:03:03.246Z"
   },
   {
    "duration": 2432,
    "start_time": "2025-04-21T19:03:07.234Z"
   },
   {
    "duration": 3,
    "start_time": "2025-04-21T19:03:09.670Z"
   },
   {
    "duration": 30,
    "start_time": "2025-04-21T19:03:09.675Z"
   },
   {
    "duration": 130,
    "start_time": "2025-04-21T19:03:09.707Z"
   },
   {
    "duration": 19,
    "start_time": "2025-04-21T19:03:09.838Z"
   },
   {
    "duration": 66,
    "start_time": "2025-04-21T19:03:09.859Z"
   },
   {
    "duration": 62,
    "start_time": "2025-04-21T19:03:09.927Z"
   },
   {
    "duration": 116,
    "start_time": "2025-04-21T19:03:09.992Z"
   },
   {
    "duration": 53,
    "start_time": "2025-04-21T19:03:10.109Z"
   },
   {
    "duration": 30,
    "start_time": "2025-04-21T19:03:10.177Z"
   },
   {
    "duration": 34,
    "start_time": "2025-04-21T19:03:10.209Z"
   },
   {
    "duration": 22,
    "start_time": "2025-04-21T19:03:10.278Z"
   },
   {
    "duration": 16,
    "start_time": "2025-04-21T19:03:10.302Z"
   },
   {
    "duration": 3,
    "start_time": "2025-04-21T19:03:10.320Z"
   },
   {
    "duration": 201,
    "start_time": "2025-04-21T19:03:10.324Z"
   },
   {
    "duration": 3,
    "start_time": "2025-04-21T19:03:10.527Z"
   },
   {
    "duration": 67,
    "start_time": "2025-04-21T19:03:10.531Z"
   },
   {
    "duration": 145,
    "start_time": "2025-04-21T19:03:10.599Z"
   },
   {
    "duration": 213,
    "start_time": "2025-04-21T19:03:10.746Z"
   },
   {
    "duration": 272,
    "start_time": "2025-04-21T19:03:10.961Z"
   },
   {
    "duration": 80,
    "start_time": "2025-04-21T19:04:06.150Z"
   },
   {
    "duration": 202,
    "start_time": "2025-04-21T19:04:42.520Z"
   },
   {
    "duration": 79,
    "start_time": "2025-04-21T19:04:50.967Z"
   },
   {
    "duration": 112,
    "start_time": "2025-04-21T19:05:14.487Z"
   },
   {
    "duration": 84,
    "start_time": "2025-04-21T19:05:39.183Z"
   },
   {
    "duration": 15,
    "start_time": "2025-04-21T19:05:46.552Z"
   },
   {
    "duration": 2301,
    "start_time": "2025-04-21T19:05:48.711Z"
   },
   {
    "duration": 10,
    "start_time": "2025-04-21T19:05:51.014Z"
   },
   {
    "duration": 2081,
    "start_time": "2025-04-21T19:05:54.991Z"
   },
   {
    "duration": 10,
    "start_time": "2025-04-21T19:05:58.279Z"
   },
   {
    "duration": 10,
    "start_time": "2025-04-21T19:06:12.952Z"
   },
   {
    "duration": 2895,
    "start_time": "2025-04-21T19:06:23.831Z"
   },
   {
    "duration": 2257,
    "start_time": "2025-04-21T19:06:34.303Z"
   },
   {
    "duration": 16,
    "start_time": "2025-04-21T19:06:39.662Z"
   },
   {
    "duration": 4,
    "start_time": "2025-04-21T19:06:51.639Z"
   },
   {
    "duration": 4,
    "start_time": "2025-04-21T19:06:58.615Z"
   },
   {
    "duration": 3,
    "start_time": "2025-04-21T19:07:07.238Z"
   },
   {
    "duration": 21,
    "start_time": "2025-04-21T19:07:08.911Z"
   },
   {
    "duration": 135,
    "start_time": "2025-04-21T19:07:15.663Z"
   },
   {
    "duration": 18,
    "start_time": "2025-04-21T19:07:30.695Z"
   },
   {
    "duration": 52,
    "start_time": "2025-04-21T19:07:39.966Z"
   },
   {
    "duration": 19,
    "start_time": "2025-04-21T19:07:46.567Z"
   },
   {
    "duration": 106,
    "start_time": "2025-04-21T19:07:52.613Z"
   },
   {
    "duration": 11,
    "start_time": "2025-04-21T19:07:58.718Z"
   },
   {
    "duration": 3,
    "start_time": "2025-04-21T19:08:37.375Z"
   },
   {
    "duration": 4,
    "start_time": "2025-04-21T19:08:43.918Z"
   },
   {
    "duration": 4,
    "start_time": "2025-04-21T19:08:50.159Z"
   },
   {
    "duration": 52,
    "start_time": "2025-04-21T19:08:53.646Z"
   },
   {
    "duration": 27,
    "start_time": "2025-04-21T19:08:59.496Z"
   },
   {
    "duration": 33,
    "start_time": "2025-04-21T19:09:03.015Z"
   },
   {
    "duration": 50,
    "start_time": "2025-04-21T19:09:05.359Z"
   },
   {
    "duration": 16,
    "start_time": "2025-04-21T19:09:07.135Z"
   },
   {
    "duration": 3,
    "start_time": "2025-04-21T19:09:19.920Z"
   },
   {
    "duration": 168,
    "start_time": "2025-04-21T19:09:24.742Z"
   },
   {
    "duration": 4,
    "start_time": "2025-04-21T19:09:26.343Z"
   },
   {
    "duration": 64,
    "start_time": "2025-04-21T19:09:32.519Z"
   },
   {
    "duration": 147,
    "start_time": "2025-04-21T19:09:35.775Z"
   },
   {
    "duration": 4,
    "start_time": "2025-04-21T19:09:40.592Z"
   },
   {
    "duration": 204,
    "start_time": "2025-04-21T19:09:47.447Z"
   },
   {
    "duration": 91,
    "start_time": "2025-04-21T19:10:06.023Z"
   },
   {
    "duration": 3855,
    "start_time": "2025-04-21T19:11:09.027Z"
   },
   {
    "duration": 2217,
    "start_time": "2025-04-21T19:11:12.884Z"
   },
   {
    "duration": 3,
    "start_time": "2025-04-21T19:11:19.507Z"
   },
   {
    "duration": 24,
    "start_time": "2025-04-21T19:11:30.786Z"
   },
   {
    "duration": 136,
    "start_time": "2025-04-21T19:11:36.203Z"
   },
   {
    "duration": 4,
    "start_time": "2025-04-21T19:11:41.636Z"
   },
   {
    "duration": 18,
    "start_time": "2025-04-21T19:11:52.842Z"
   },
   {
    "duration": 52,
    "start_time": "2025-04-21T19:11:57.075Z"
   },
   {
    "duration": 5,
    "start_time": "2025-04-21T19:12:06.403Z"
   },
   {
    "duration": 52,
    "start_time": "2025-04-21T19:12:11.947Z"
   },
   {
    "duration": 110,
    "start_time": "2025-04-21T19:12:19.267Z"
   },
   {
    "duration": 48,
    "start_time": "2025-04-21T19:13:00.971Z"
   },
   {
    "duration": 11,
    "start_time": "2025-04-21T19:13:04.675Z"
   },
   {
    "duration": 4094,
    "start_time": "2025-04-21T19:14:59.011Z"
   },
   {
    "duration": 2308,
    "start_time": "2025-04-21T19:15:03.108Z"
   },
   {
    "duration": 3,
    "start_time": "2025-04-21T19:15:05.417Z"
   },
   {
    "duration": 49,
    "start_time": "2025-04-21T19:15:05.422Z"
   },
   {
    "duration": 135,
    "start_time": "2025-04-21T19:15:05.473Z"
   },
   {
    "duration": 18,
    "start_time": "2025-04-21T19:15:05.610Z"
   },
   {
    "duration": 146,
    "start_time": "2025-04-21T19:15:05.629Z"
   },
   {
    "duration": 4,
    "start_time": "2025-04-21T19:15:14.091Z"
   },
   {
    "duration": 120,
    "start_time": "2025-04-21T19:15:16.787Z"
   },
   {
    "duration": 4,
    "start_time": "2025-04-21T19:15:20.147Z"
   },
   {
    "duration": 3985,
    "start_time": "2025-04-21T19:15:56.787Z"
   },
   {
    "duration": 2335,
    "start_time": "2025-04-21T19:16:00.774Z"
   },
   {
    "duration": 3,
    "start_time": "2025-04-21T19:16:03.112Z"
   },
   {
    "duration": 44,
    "start_time": "2025-04-21T19:16:03.118Z"
   },
   {
    "duration": 138,
    "start_time": "2025-04-21T19:16:03.164Z"
   },
   {
    "duration": 20,
    "start_time": "2025-04-21T19:16:03.305Z"
   },
   {
    "duration": 77,
    "start_time": "2025-04-21T19:16:03.328Z"
   },
   {
    "duration": 246,
    "start_time": "2025-04-21T19:16:12.906Z"
   },
   {
    "duration": 5,
    "start_time": "2025-04-21T19:16:21.020Z"
   },
   {
    "duration": 127,
    "start_time": "2025-04-21T19:16:24.186Z"
   },
   {
    "duration": 3955,
    "start_time": "2025-04-21T19:16:45.228Z"
   },
   {
    "duration": 2164,
    "start_time": "2025-04-21T19:16:49.185Z"
   },
   {
    "duration": 3,
    "start_time": "2025-04-21T19:16:51.351Z"
   },
   {
    "duration": 41,
    "start_time": "2025-04-21T19:16:51.356Z"
   },
   {
    "duration": 141,
    "start_time": "2025-04-21T19:16:51.398Z"
   },
   {
    "duration": 18,
    "start_time": "2025-04-21T19:16:51.541Z"
   },
   {
    "duration": 71,
    "start_time": "2025-04-21T19:16:51.577Z"
   },
   {
    "duration": 354,
    "start_time": "2025-04-21T19:17:23.476Z"
   },
   {
    "duration": 7,
    "start_time": "2025-04-21T19:17:25.330Z"
   },
   {
    "duration": 122,
    "start_time": "2025-04-21T19:17:27.236Z"
   },
   {
    "duration": 3939,
    "start_time": "2025-04-21T19:17:57.463Z"
   },
   {
    "duration": 2090,
    "start_time": "2025-04-21T19:18:01.404Z"
   },
   {
    "duration": 3,
    "start_time": "2025-04-21T19:18:03.496Z"
   },
   {
    "duration": 24,
    "start_time": "2025-04-21T19:18:03.501Z"
   },
   {
    "duration": 144,
    "start_time": "2025-04-21T19:18:03.526Z"
   },
   {
    "duration": 19,
    "start_time": "2025-04-21T19:18:03.675Z"
   },
   {
    "duration": 63,
    "start_time": "2025-04-21T19:18:03.696Z"
   },
   {
    "duration": 350,
    "start_time": "2025-04-21T19:18:11.192Z"
   },
   {
    "duration": 123,
    "start_time": "2025-04-21T19:18:23.167Z"
   },
   {
    "duration": 25,
    "start_time": "2025-04-21T19:18:40.952Z"
   },
   {
    "duration": 153,
    "start_time": "2025-04-21T19:18:56.608Z"
   },
   {
    "duration": 86,
    "start_time": "2025-04-21T19:19:16.696Z"
   },
   {
    "duration": 294,
    "start_time": "2025-04-21T19:19:40.016Z"
   },
   {
    "duration": 73,
    "start_time": "2025-04-21T19:19:49.223Z"
   },
   {
    "duration": 57,
    "start_time": "2025-04-21T19:20:01.638Z"
   },
   {
    "duration": 25,
    "start_time": "2025-04-21T19:20:04.761Z"
   },
   {
    "duration": 11,
    "start_time": "2025-04-21T19:20:08.664Z"
   },
   {
    "duration": 232,
    "start_time": "2025-04-21T19:20:29.008Z"
   },
   {
    "duration": 126,
    "start_time": "2025-04-21T19:20:50.951Z"
   },
   {
    "duration": 178,
    "start_time": "2025-04-21T19:20:57.073Z"
   },
   {
    "duration": 19,
    "start_time": "2025-04-21T19:22:14.136Z"
   },
   {
    "duration": 142,
    "start_time": "2025-04-21T19:22:27.248Z"
   },
   {
    "duration": 149,
    "start_time": "2025-04-21T19:22:44.632Z"
   },
   {
    "duration": 3909,
    "start_time": "2025-04-21T19:22:57.604Z"
   },
   {
    "duration": 2195,
    "start_time": "2025-04-21T19:23:01.515Z"
   },
   {
    "duration": 4,
    "start_time": "2025-04-21T19:23:03.711Z"
   },
   {
    "duration": 32,
    "start_time": "2025-04-21T19:23:03.716Z"
   },
   {
    "duration": 148,
    "start_time": "2025-04-21T19:23:03.749Z"
   },
   {
    "duration": 19,
    "start_time": "2025-04-21T19:23:03.899Z"
   },
   {
    "duration": 73,
    "start_time": "2025-04-21T19:23:03.919Z"
   },
   {
    "duration": 48,
    "start_time": "2025-04-21T19:23:09.074Z"
   },
   {
    "duration": 219,
    "start_time": "2025-04-21T19:23:11.964Z"
   },
   {
    "duration": 46,
    "start_time": "2025-04-21T19:23:27.043Z"
   },
   {
    "duration": 200,
    "start_time": "2025-04-21T19:23:30.562Z"
   },
   {
    "duration": 109,
    "start_time": "2025-04-21T19:23:48.132Z"
   },
   {
    "duration": 10,
    "start_time": "2025-04-21T19:25:08.187Z"
   },
   {
    "duration": 143,
    "start_time": "2025-04-21T19:25:20.883Z"
   },
   {
    "duration": 11,
    "start_time": "2025-04-21T19:25:29.531Z"
   },
   {
    "duration": 4,
    "start_time": "2025-04-21T19:25:33.083Z"
   },
   {
    "duration": 4,
    "start_time": "2025-04-21T19:25:43.170Z"
   },
   {
    "duration": 106,
    "start_time": "2025-04-21T19:25:49.955Z"
   },
   {
    "duration": 103,
    "start_time": "2025-04-21T19:25:57.067Z"
   },
   {
    "duration": 51,
    "start_time": "2025-04-21T19:26:00.043Z"
   },
   {
    "duration": 28,
    "start_time": "2025-04-21T19:26:01.499Z"
   },
   {
    "duration": 36,
    "start_time": "2025-04-21T19:26:02.234Z"
   },
   {
    "duration": 24,
    "start_time": "2025-04-21T19:26:03.779Z"
   },
   {
    "duration": 15,
    "start_time": "2025-04-21T19:26:04.020Z"
   },
   {
    "duration": 3,
    "start_time": "2025-04-21T19:26:05.963Z"
   },
   {
    "duration": 149,
    "start_time": "2025-04-21T19:26:06.339Z"
   },
   {
    "duration": 4,
    "start_time": "2025-04-21T19:26:08.130Z"
   },
   {
    "duration": 61,
    "start_time": "2025-04-21T19:26:08.602Z"
   },
   {
    "duration": 138,
    "start_time": "2025-04-21T19:26:09.378Z"
   },
   {
    "duration": 178,
    "start_time": "2025-04-21T19:26:14.178Z"
   },
   {
    "duration": 240,
    "start_time": "2025-04-21T19:26:37.507Z"
   },
   {
    "duration": 11,
    "start_time": "2025-04-21T22:49:47.834Z"
   },
   {
    "duration": 12,
    "start_time": "2025-04-21T22:50:03.595Z"
   },
   {
    "duration": 28,
    "start_time": "2025-04-21T22:50:29.179Z"
   },
   {
    "duration": 4,
    "start_time": "2025-04-21T22:52:42.541Z"
   },
   {
    "duration": 45,
    "start_time": "2025-04-22T10:23:24.591Z"
   },
   {
    "duration": 4353,
    "start_time": "2025-04-22T10:23:34.025Z"
   },
   {
    "duration": 2453,
    "start_time": "2025-04-22T10:23:38.380Z"
   },
   {
    "duration": 3,
    "start_time": "2025-04-22T10:23:40.834Z"
   },
   {
    "duration": 22,
    "start_time": "2025-04-22T10:23:40.838Z"
   },
   {
    "duration": 110,
    "start_time": "2025-04-22T10:23:40.862Z"
   },
   {
    "duration": 15,
    "start_time": "2025-04-22T10:23:40.974Z"
   },
   {
    "duration": 81,
    "start_time": "2025-04-22T10:23:40.990Z"
   },
   {
    "duration": 38,
    "start_time": "2025-04-22T10:23:41.072Z"
   },
   {
    "duration": 8,
    "start_time": "2025-04-22T10:23:41.112Z"
   },
   {
    "duration": 96,
    "start_time": "2025-04-22T10:23:41.122Z"
   },
   {
    "duration": 50,
    "start_time": "2025-04-22T10:23:41.220Z"
   },
   {
    "duration": 23,
    "start_time": "2025-04-22T10:23:41.271Z"
   },
   {
    "duration": 26,
    "start_time": "2025-04-22T10:23:41.295Z"
   },
   {
    "duration": 51,
    "start_time": "2025-04-22T10:23:41.324Z"
   },
   {
    "duration": 12,
    "start_time": "2025-04-22T10:23:41.377Z"
   },
   {
    "duration": 2,
    "start_time": "2025-04-22T10:23:41.391Z"
   },
   {
    "duration": 156,
    "start_time": "2025-04-22T10:23:41.395Z"
   },
   {
    "duration": 2,
    "start_time": "2025-04-22T10:23:41.553Z"
   },
   {
    "duration": 47,
    "start_time": "2025-04-22T10:23:41.561Z"
   },
   {
    "duration": 123,
    "start_time": "2025-04-22T10:23:41.609Z"
   },
   {
    "duration": 156,
    "start_time": "2025-04-22T10:23:41.734Z"
   },
   {
    "duration": 204,
    "start_time": "2025-04-22T10:23:41.892Z"
   },
   {
    "duration": 25,
    "start_time": "2025-04-22T10:23:42.098Z"
   },
   {
    "duration": 37,
    "start_time": "2025-04-22T10:24:16.372Z"
   },
   {
    "duration": 1466,
    "start_time": "2025-04-22T10:25:55.133Z"
   },
   {
    "duration": 36,
    "start_time": "2025-04-22T10:27:37.638Z"
   },
   {
    "duration": 34,
    "start_time": "2025-04-22T10:27:51.526Z"
   },
   {
    "duration": 1215,
    "start_time": "2025-04-22T10:27:56.990Z"
   },
   {
    "duration": 802,
    "start_time": "2025-04-22T10:28:15.759Z"
   },
   {
    "duration": 704,
    "start_time": "2025-04-22T10:28:56.615Z"
   },
   {
    "duration": 31,
    "start_time": "2025-04-22T10:29:13.534Z"
   },
   {
    "duration": 29,
    "start_time": "2025-04-22T10:30:03.823Z"
   },
   {
    "duration": 30,
    "start_time": "2025-04-22T10:30:19.228Z"
   },
   {
    "duration": 1446,
    "start_time": "2025-04-22T10:30:53.231Z"
   },
   {
    "duration": 31,
    "start_time": "2025-04-22T10:32:08.264Z"
   },
   {
    "duration": 33,
    "start_time": "2025-04-22T10:32:28.888Z"
   },
   {
    "duration": 30,
    "start_time": "2025-04-22T10:33:34.322Z"
   },
   {
    "duration": 30,
    "start_time": "2025-04-22T10:33:41.889Z"
   },
   {
    "duration": 1227,
    "start_time": "2025-04-22T10:34:18.104Z"
   },
   {
    "duration": 34,
    "start_time": "2025-04-22T10:34:44.281Z"
   },
   {
    "duration": 385,
    "start_time": "2025-04-22T10:34:57.433Z"
   },
   {
    "duration": 31,
    "start_time": "2025-04-22T10:35:13.193Z"
   },
   {
    "duration": 30,
    "start_time": "2025-04-22T10:35:22.586Z"
   },
   {
    "duration": 30,
    "start_time": "2025-04-22T10:35:59.290Z"
   },
   {
    "duration": 30,
    "start_time": "2025-04-22T10:36:08.146Z"
   },
   {
    "duration": 15,
    "start_time": "2025-04-22T10:56:58.678Z"
   },
   {
    "duration": 31,
    "start_time": "2025-04-22T10:58:19.559Z"
   },
   {
    "duration": 97,
    "start_time": "2025-04-22T10:58:38.735Z"
   },
   {
    "duration": 29,
    "start_time": "2025-04-22T10:59:14.823Z"
   },
   {
    "duration": 29,
    "start_time": "2025-04-22T10:59:19.599Z"
   },
   {
    "duration": 29,
    "start_time": "2025-04-22T10:59:24.231Z"
   },
   {
    "duration": 29,
    "start_time": "2025-04-22T10:59:29.750Z"
   },
   {
    "duration": 30,
    "start_time": "2025-04-22T10:59:33.279Z"
   },
   {
    "duration": 29,
    "start_time": "2025-04-22T10:59:36.519Z"
   },
   {
    "duration": 28,
    "start_time": "2025-04-22T10:59:46.680Z"
   },
   {
    "duration": 35,
    "start_time": "2025-04-22T11:01:20.972Z"
   },
   {
    "duration": 141,
    "start_time": "2025-04-22T11:39:09.999Z"
   },
   {
    "duration": 33,
    "start_time": "2025-04-22T11:39:47.007Z"
   },
   {
    "duration": 112,
    "start_time": "2025-04-22T11:39:52.984Z"
   },
   {
    "duration": 109,
    "start_time": "2025-04-22T11:40:11.534Z"
   },
   {
    "duration": 116,
    "start_time": "2025-04-22T11:41:49.864Z"
   },
   {
    "duration": 182,
    "start_time": "2025-04-22T11:42:51.864Z"
   },
   {
    "duration": 128,
    "start_time": "2025-04-22T11:43:09.282Z"
   },
   {
    "duration": 126,
    "start_time": "2025-04-22T11:43:27.212Z"
   },
   {
    "duration": 129,
    "start_time": "2025-04-22T11:43:47.224Z"
   },
   {
    "duration": 148,
    "start_time": "2025-04-22T11:44:14.631Z"
   },
   {
    "duration": 144,
    "start_time": "2025-04-22T11:44:29.864Z"
   },
   {
    "duration": 133,
    "start_time": "2025-04-22T11:44:38.656Z"
   },
   {
    "duration": 12,
    "start_time": "2025-04-22T11:58:57.623Z"
   },
   {
    "duration": 233,
    "start_time": "2025-04-22T11:59:06.438Z"
   },
   {
    "duration": 242,
    "start_time": "2025-04-22T11:59:13.928Z"
   },
   {
    "duration": 206,
    "start_time": "2025-04-22T11:59:23.223Z"
   },
   {
    "duration": 195,
    "start_time": "2025-04-22T11:59:33.903Z"
   },
   {
    "duration": 190,
    "start_time": "2025-04-22T12:00:17.577Z"
   },
   {
    "duration": 214,
    "start_time": "2025-04-22T12:00:30.009Z"
   },
   {
    "duration": 192,
    "start_time": "2025-04-22T12:00:35.528Z"
   },
   {
    "duration": 13,
    "start_time": "2025-04-22T12:07:01.655Z"
   },
   {
    "duration": 22,
    "start_time": "2025-04-22T12:07:57.187Z"
   },
   {
    "duration": 98,
    "start_time": "2025-04-22T12:09:42.403Z"
   },
   {
    "duration": 127,
    "start_time": "2025-04-22T12:16:27.590Z"
   },
   {
    "duration": 154,
    "start_time": "2025-04-22T12:16:54.998Z"
   },
   {
    "duration": 154,
    "start_time": "2025-04-22T12:18:36.287Z"
   },
   {
    "duration": 168,
    "start_time": "2025-04-22T12:18:46.788Z"
   },
   {
    "duration": 166,
    "start_time": "2025-04-22T12:19:01.111Z"
   },
   {
    "duration": 186,
    "start_time": "2025-04-22T12:25:56.921Z"
   },
   {
    "duration": 240,
    "start_time": "2025-04-22T12:26:28.418Z"
   },
   {
    "duration": 471,
    "start_time": "2025-04-22T12:26:58.756Z"
   },
   {
    "duration": 3291,
    "start_time": "2025-04-22T12:28:10.397Z"
   },
   {
    "duration": 2140,
    "start_time": "2025-04-22T12:28:13.690Z"
   },
   {
    "duration": 4,
    "start_time": "2025-04-22T12:28:15.831Z"
   },
   {
    "duration": 29,
    "start_time": "2025-04-22T12:28:15.837Z"
   },
   {
    "duration": 122,
    "start_time": "2025-04-22T12:28:15.867Z"
   },
   {
    "duration": 16,
    "start_time": "2025-04-22T12:28:15.991Z"
   },
   {
    "duration": 60,
    "start_time": "2025-04-22T12:28:16.009Z"
   },
   {
    "duration": 41,
    "start_time": "2025-04-22T12:28:16.070Z"
   },
   {
    "duration": 9,
    "start_time": "2025-04-22T12:28:16.113Z"
   },
   {
    "duration": 109,
    "start_time": "2025-04-22T12:28:16.124Z"
   },
   {
    "duration": 52,
    "start_time": "2025-04-22T12:28:16.235Z"
   },
   {
    "duration": 84,
    "start_time": "2025-04-22T12:28:16.289Z"
   },
   {
    "duration": 28,
    "start_time": "2025-04-22T12:28:16.375Z"
   },
   {
    "duration": 20,
    "start_time": "2025-04-22T12:28:16.405Z"
   },
   {
    "duration": 12,
    "start_time": "2025-04-22T12:28:16.426Z"
   },
   {
    "duration": 3,
    "start_time": "2025-04-22T12:28:16.463Z"
   },
   {
    "duration": 157,
    "start_time": "2025-04-22T12:28:16.468Z"
   },
   {
    "duration": 3,
    "start_time": "2025-04-22T12:28:16.627Z"
   },
   {
    "duration": 132,
    "start_time": "2025-04-22T12:28:16.631Z"
   },
   {
    "duration": 114,
    "start_time": "2025-04-22T12:28:16.765Z"
   },
   {
    "duration": 156,
    "start_time": "2025-04-22T12:28:16.880Z"
   },
   {
    "duration": 198,
    "start_time": "2025-04-22T12:28:17.038Z"
   },
   {
    "duration": 52,
    "start_time": "2025-04-22T12:28:17.237Z"
   },
   {
    "duration": 164,
    "start_time": "2025-04-22T12:28:17.291Z"
   },
   {
    "duration": 151,
    "start_time": "2025-04-22T12:28:17.462Z"
   },
   {
    "duration": 227,
    "start_time": "2025-04-22T12:28:17.615Z"
   },
   {
    "duration": 2,
    "start_time": "2025-04-22T12:28:17.843Z"
   },
   {
    "duration": 3482,
    "start_time": "2025-04-22T12:29:44.739Z"
   },
   {
    "duration": 2113,
    "start_time": "2025-04-22T12:29:48.223Z"
   },
   {
    "duration": 3,
    "start_time": "2025-04-22T12:29:50.338Z"
   },
   {
    "duration": 40,
    "start_time": "2025-04-22T12:29:50.343Z"
   },
   {
    "duration": 137,
    "start_time": "2025-04-22T12:29:50.385Z"
   },
   {
    "duration": 16,
    "start_time": "2025-04-22T12:29:50.524Z"
   },
   {
    "duration": 45,
    "start_time": "2025-04-22T12:29:50.561Z"
   },
   {
    "duration": 59,
    "start_time": "2025-04-22T12:29:50.608Z"
   },
   {
    "duration": 14,
    "start_time": "2025-04-22T12:29:50.668Z"
   },
   {
    "duration": 130,
    "start_time": "2025-04-22T12:29:50.686Z"
   },
   {
    "duration": 59,
    "start_time": "2025-04-22T12:29:50.817Z"
   },
   {
    "duration": 25,
    "start_time": "2025-04-22T12:29:50.877Z"
   },
   {
    "duration": 30,
    "start_time": "2025-04-22T12:29:50.904Z"
   },
   {
    "duration": 22,
    "start_time": "2025-04-22T12:29:50.963Z"
   },
   {
    "duration": 15,
    "start_time": "2025-04-22T12:29:50.987Z"
   },
   {
    "duration": 3,
    "start_time": "2025-04-22T12:29:51.004Z"
   },
   {
    "duration": 188,
    "start_time": "2025-04-22T12:29:51.009Z"
   },
   {
    "duration": 2,
    "start_time": "2025-04-22T12:29:51.199Z"
   },
   {
    "duration": 77,
    "start_time": "2025-04-22T12:29:51.203Z"
   },
   {
    "duration": 126,
    "start_time": "2025-04-22T12:29:51.282Z"
   },
   {
    "duration": 175,
    "start_time": "2025-04-22T12:29:51.409Z"
   },
   {
    "duration": 297,
    "start_time": "2025-04-22T12:29:51.586Z"
   },
   {
    "duration": 38,
    "start_time": "2025-04-22T12:29:51.885Z"
   },
   {
    "duration": 224,
    "start_time": "2025-04-22T12:29:51.926Z"
   },
   {
    "duration": 262,
    "start_time": "2025-04-22T12:29:52.152Z"
   },
   {
    "duration": 248,
    "start_time": "2025-04-22T12:29:52.416Z"
   },
   {
    "duration": 2,
    "start_time": "2025-04-22T12:29:52.666Z"
   },
   {
    "duration": 3589,
    "start_time": "2025-04-22T12:30:38.935Z"
   },
   {
    "duration": 1917,
    "start_time": "2025-04-22T12:30:42.526Z"
   },
   {
    "duration": 3,
    "start_time": "2025-04-22T12:30:44.445Z"
   },
   {
    "duration": 70,
    "start_time": "2025-04-22T12:30:44.449Z"
   },
   {
    "duration": 115,
    "start_time": "2025-04-22T12:30:44.522Z"
   },
   {
    "duration": 25,
    "start_time": "2025-04-22T12:30:44.639Z"
   },
   {
    "duration": 117,
    "start_time": "2025-04-22T12:30:44.665Z"
   },
   {
    "duration": 41,
    "start_time": "2025-04-22T12:30:44.784Z"
   },
   {
    "duration": 27,
    "start_time": "2025-04-22T12:30:44.827Z"
   },
   {
    "duration": 102,
    "start_time": "2025-04-22T12:30:44.856Z"
   },
   {
    "duration": 48,
    "start_time": "2025-04-22T12:30:44.961Z"
   },
   {
    "duration": 29,
    "start_time": "2025-04-22T12:30:45.011Z"
   },
   {
    "duration": 32,
    "start_time": "2025-04-22T12:30:45.062Z"
   },
   {
    "duration": 22,
    "start_time": "2025-04-22T12:30:45.097Z"
   },
   {
    "duration": 27,
    "start_time": "2025-04-22T12:30:45.121Z"
   },
   {
    "duration": 4,
    "start_time": "2025-04-22T12:30:45.161Z"
   },
   {
    "duration": 172,
    "start_time": "2025-04-22T12:30:45.166Z"
   },
   {
    "duration": 3,
    "start_time": "2025-04-22T12:30:45.340Z"
   },
   {
    "duration": 64,
    "start_time": "2025-04-22T12:30:45.345Z"
   },
   {
    "duration": 132,
    "start_time": "2025-04-22T12:30:45.411Z"
   },
   {
    "duration": 176,
    "start_time": "2025-04-22T12:30:45.545Z"
   },
   {
    "duration": 218,
    "start_time": "2025-04-22T12:30:45.723Z"
   },
   {
    "duration": 38,
    "start_time": "2025-04-22T12:30:45.963Z"
   },
   {
    "duration": 178,
    "start_time": "2025-04-22T12:30:46.003Z"
   },
   {
    "duration": 163,
    "start_time": "2025-04-22T12:30:46.182Z"
   },
   {
    "duration": 266,
    "start_time": "2025-04-22T12:30:46.347Z"
   },
   {
    "duration": 3,
    "start_time": "2025-04-22T12:30:46.616Z"
   },
   {
    "duration": 3611,
    "start_time": "2025-04-22T12:33:00.045Z"
   },
   {
    "duration": 1911,
    "start_time": "2025-04-22T12:33:03.658Z"
   },
   {
    "duration": 3,
    "start_time": "2025-04-22T12:33:05.571Z"
   },
   {
    "duration": 52,
    "start_time": "2025-04-22T12:33:05.575Z"
   },
   {
    "duration": 133,
    "start_time": "2025-04-22T12:33:05.629Z"
   },
   {
    "duration": 22,
    "start_time": "2025-04-22T12:33:05.764Z"
   },
   {
    "duration": 98,
    "start_time": "2025-04-22T12:33:05.788Z"
   },
   {
    "duration": 40,
    "start_time": "2025-04-22T12:33:05.888Z"
   },
   {
    "duration": 10,
    "start_time": "2025-04-22T12:33:05.929Z"
   },
   {
    "duration": 128,
    "start_time": "2025-04-22T12:33:05.940Z"
   },
   {
    "duration": 43,
    "start_time": "2025-04-22T12:33:06.069Z"
   },
   {
    "duration": 32,
    "start_time": "2025-04-22T12:33:06.113Z"
   },
   {
    "duration": 63,
    "start_time": "2025-04-22T12:33:06.147Z"
   },
   {
    "duration": 33,
    "start_time": "2025-04-22T12:33:06.213Z"
   },
   {
    "duration": 13,
    "start_time": "2025-04-22T12:33:06.247Z"
   },
   {
    "duration": 27,
    "start_time": "2025-04-22T12:33:06.262Z"
   },
   {
    "duration": 233,
    "start_time": "2025-04-22T12:33:06.290Z"
   },
   {
    "duration": 3,
    "start_time": "2025-04-22T12:33:06.524Z"
   },
   {
    "duration": 59,
    "start_time": "2025-04-22T12:33:06.529Z"
   },
   {
    "duration": 116,
    "start_time": "2025-04-22T12:33:06.589Z"
   },
   {
    "duration": 239,
    "start_time": "2025-04-22T12:33:06.707Z"
   },
   {
    "duration": 227,
    "start_time": "2025-04-22T12:33:06.948Z"
   },
   {
    "duration": 35,
    "start_time": "2025-04-22T12:33:07.176Z"
   },
   {
    "duration": 177,
    "start_time": "2025-04-22T12:33:07.213Z"
   },
   {
    "duration": 92,
    "start_time": "2025-04-22T12:33:07.392Z"
   },
   {
    "duration": 0,
    "start_time": "2025-04-22T12:33:07.486Z"
   },
   {
    "duration": 0,
    "start_time": "2025-04-22T12:33:07.487Z"
   },
   {
    "duration": 145,
    "start_time": "2025-04-22T12:33:21.461Z"
   },
   {
    "duration": 233,
    "start_time": "2025-04-22T12:33:32.061Z"
   },
   {
    "duration": 156,
    "start_time": "2025-04-22T12:35:21.223Z"
   },
   {
    "duration": 208,
    "start_time": "2025-04-22T12:35:26.389Z"
   },
   {
    "duration": 225,
    "start_time": "2025-04-22T12:36:46.871Z"
   },
   {
    "duration": 3408,
    "start_time": "2025-04-22T12:38:58.783Z"
   },
   {
    "duration": 2188,
    "start_time": "2025-04-22T12:39:02.193Z"
   },
   {
    "duration": 2,
    "start_time": "2025-04-22T12:39:04.383Z"
   },
   {
    "duration": 43,
    "start_time": "2025-04-22T12:39:04.386Z"
   },
   {
    "duration": 115,
    "start_time": "2025-04-22T12:39:04.431Z"
   },
   {
    "duration": 16,
    "start_time": "2025-04-22T12:39:04.547Z"
   },
   {
    "duration": 64,
    "start_time": "2025-04-22T12:39:04.564Z"
   },
   {
    "duration": 37,
    "start_time": "2025-04-22T12:39:04.630Z"
   },
   {
    "duration": 119,
    "start_time": "2025-04-22T12:39:04.669Z"
   },
   {
    "duration": 93,
    "start_time": "2025-04-22T12:39:04.790Z"
   },
   {
    "duration": 77,
    "start_time": "2025-04-22T12:39:04.885Z"
   },
   {
    "duration": 22,
    "start_time": "2025-04-22T12:39:04.964Z"
   },
   {
    "duration": 28,
    "start_time": "2025-04-22T12:39:04.987Z"
   },
   {
    "duration": 20,
    "start_time": "2025-04-22T12:39:05.017Z"
   },
   {
    "duration": 29,
    "start_time": "2025-04-22T12:39:05.038Z"
   },
   {
    "duration": 2,
    "start_time": "2025-04-22T12:39:05.068Z"
   },
   {
    "duration": 212,
    "start_time": "2025-04-22T12:39:05.072Z"
   },
   {
    "duration": 3,
    "start_time": "2025-04-22T12:39:05.285Z"
   },
   {
    "duration": 86,
    "start_time": "2025-04-22T12:39:05.289Z"
   },
   {
    "duration": 122,
    "start_time": "2025-04-22T12:39:05.376Z"
   },
   {
    "duration": 163,
    "start_time": "2025-04-22T12:39:05.500Z"
   },
   {
    "duration": 212,
    "start_time": "2025-04-22T12:39:05.664Z"
   },
   {
    "duration": 34,
    "start_time": "2025-04-22T12:39:05.878Z"
   },
   {
    "duration": 178,
    "start_time": "2025-04-22T12:39:05.914Z"
   },
   {
    "duration": 153,
    "start_time": "2025-04-22T12:39:06.093Z"
   },
   {
    "duration": 203,
    "start_time": "2025-04-22T12:39:06.248Z"
   },
   {
    "duration": 2,
    "start_time": "2025-04-22T12:39:06.452Z"
   },
   {
    "duration": 250,
    "start_time": "2025-04-22T12:50:30.153Z"
   },
   {
    "duration": 101,
    "start_time": "2025-04-22T12:51:19.803Z"
   },
   {
    "duration": 1549,
    "start_time": "2025-04-22T12:52:35.002Z"
   },
   {
    "duration": 115,
    "start_time": "2025-04-22T12:53:31.539Z"
   },
   {
    "duration": 1570,
    "start_time": "2025-04-22T12:53:47.139Z"
   },
   {
    "duration": 1501,
    "start_time": "2025-04-22T12:54:11.078Z"
   },
   {
    "duration": 136,
    "start_time": "2025-04-22T12:56:25.340Z"
   },
   {
    "duration": 109,
    "start_time": "2025-04-22T12:56:42.188Z"
   },
   {
    "duration": 1526,
    "start_time": "2025-04-22T12:57:23.100Z"
   },
   {
    "duration": 1499,
    "start_time": "2025-04-22T12:57:50.486Z"
   },
   {
    "duration": 1524,
    "start_time": "2025-04-22T13:03:09.903Z"
   },
   {
    "duration": 2823,
    "start_time": "2025-04-22T13:04:12.180Z"
   },
   {
    "duration": 95,
    "start_time": "2025-04-22T13:04:46.720Z"
   },
   {
    "duration": 96,
    "start_time": "2025-04-22T13:04:55.103Z"
   },
   {
    "duration": 107,
    "start_time": "2025-04-22T13:08:01.337Z"
   },
   {
    "duration": 109,
    "start_time": "2025-04-22T13:08:08.982Z"
   },
   {
    "duration": 2246,
    "start_time": "2025-04-22T13:11:02.218Z"
   },
   {
    "duration": 2237,
    "start_time": "2025-04-22T13:11:36.899Z"
   },
   {
    "duration": 2133,
    "start_time": "2025-04-22T13:11:45.059Z"
   },
   {
    "duration": 2117,
    "start_time": "2025-04-22T13:12:41.886Z"
   },
   {
    "duration": 1549,
    "start_time": "2025-04-22T13:13:05.678Z"
   },
   {
    "duration": 2070,
    "start_time": "2025-04-22T13:15:37.078Z"
   },
   {
    "duration": 2287,
    "start_time": "2025-04-22T13:16:27.518Z"
   },
   {
    "duration": 2263,
    "start_time": "2025-04-22T13:16:49.054Z"
   },
   {
    "duration": 2402,
    "start_time": "2025-04-22T13:17:12.814Z"
   },
   {
    "duration": 2438,
    "start_time": "2025-04-22T13:17:36.246Z"
   },
   {
    "duration": 2404,
    "start_time": "2025-04-22T13:18:08.310Z"
   },
   {
    "duration": 2408,
    "start_time": "2025-04-22T13:18:35.950Z"
   },
   {
    "duration": 26,
    "start_time": "2025-04-22T13:20:31.215Z"
   },
   {
    "duration": 149,
    "start_time": "2025-04-22T13:20:48.735Z"
   },
   {
    "duration": 199,
    "start_time": "2025-04-22T13:20:50.494Z"
   },
   {
    "duration": 2477,
    "start_time": "2025-04-22T13:20:52.246Z"
   },
   {
    "duration": 48,
    "start_time": "2025-04-22T13:20:59.053Z"
   },
   {
    "duration": 10,
    "start_time": "2025-04-22T13:24:10.187Z"
   },
   {
    "duration": 12,
    "start_time": "2025-04-22T13:24:17.528Z"
   },
   {
    "duration": 10,
    "start_time": "2025-04-22T13:26:11.546Z"
   },
   {
    "duration": 14,
    "start_time": "2025-04-22T13:27:42.083Z"
   },
   {
    "duration": 3361,
    "start_time": "2025-04-22T13:41:43.972Z"
   },
   {
    "duration": 2752,
    "start_time": "2025-04-22T13:41:47.335Z"
   },
   {
    "duration": 3,
    "start_time": "2025-04-22T13:41:50.088Z"
   },
   {
    "duration": 32,
    "start_time": "2025-04-22T13:41:50.093Z"
   },
   {
    "duration": 136,
    "start_time": "2025-04-22T13:41:50.128Z"
   },
   {
    "duration": 15,
    "start_time": "2025-04-22T13:41:50.265Z"
   },
   {
    "duration": 45,
    "start_time": "2025-04-22T13:41:50.281Z"
   },
   {
    "duration": 58,
    "start_time": "2025-04-22T13:41:50.327Z"
   },
   {
    "duration": 9,
    "start_time": "2025-04-22T13:41:50.387Z"
   },
   {
    "duration": 99,
    "start_time": "2025-04-22T13:41:50.397Z"
   },
   {
    "duration": 43,
    "start_time": "2025-04-22T13:41:50.498Z"
   },
   {
    "duration": 57,
    "start_time": "2025-04-22T13:41:50.542Z"
   },
   {
    "duration": 28,
    "start_time": "2025-04-22T13:41:50.601Z"
   },
   {
    "duration": 25,
    "start_time": "2025-04-22T13:41:50.631Z"
   },
   {
    "duration": 13,
    "start_time": "2025-04-22T13:41:50.658Z"
   },
   {
    "duration": 2,
    "start_time": "2025-04-22T13:41:50.673Z"
   },
   {
    "duration": 177,
    "start_time": "2025-04-22T13:41:50.677Z"
   },
   {
    "duration": 6,
    "start_time": "2025-04-22T13:41:50.856Z"
   },
   {
    "duration": 74,
    "start_time": "2025-04-22T13:41:50.864Z"
   },
   {
    "duration": 112,
    "start_time": "2025-04-22T13:41:50.940Z"
   },
   {
    "duration": 150,
    "start_time": "2025-04-22T13:41:51.054Z"
   },
   {
    "duration": 204,
    "start_time": "2025-04-22T13:41:51.205Z"
   },
   {
    "duration": 52,
    "start_time": "2025-04-22T13:41:51.411Z"
   },
   {
    "duration": 160,
    "start_time": "2025-04-22T13:41:51.464Z"
   },
   {
    "duration": 164,
    "start_time": "2025-04-22T13:41:51.626Z"
   },
   {
    "duration": 200,
    "start_time": "2025-04-22T13:41:51.791Z"
   },
   {
    "duration": 2445,
    "start_time": "2025-04-22T13:41:51.993Z"
   },
   {
    "duration": 56,
    "start_time": "2025-04-22T13:41:54.439Z"
   },
   {
    "duration": 11,
    "start_time": "2025-04-22T13:41:54.497Z"
   },
   {
    "duration": 44,
    "start_time": "2025-04-22T13:42:20.873Z"
   },
   {
    "duration": 3411,
    "start_time": "2025-04-22T13:42:29.227Z"
   },
   {
    "duration": 2319,
    "start_time": "2025-04-22T13:42:32.639Z"
   },
   {
    "duration": 4,
    "start_time": "2025-04-22T13:42:34.959Z"
   },
   {
    "duration": 70,
    "start_time": "2025-04-22T13:42:34.964Z"
   },
   {
    "duration": 126,
    "start_time": "2025-04-22T13:42:35.037Z"
   },
   {
    "duration": 16,
    "start_time": "2025-04-22T13:42:35.164Z"
   },
   {
    "duration": 128,
    "start_time": "2025-04-22T13:42:35.182Z"
   },
   {
    "duration": 52,
    "start_time": "2025-04-22T13:42:35.312Z"
   },
   {
    "duration": 20,
    "start_time": "2025-04-22T13:42:35.366Z"
   },
   {
    "duration": 132,
    "start_time": "2025-04-22T13:42:35.388Z"
   },
   {
    "duration": 55,
    "start_time": "2025-04-22T13:42:35.522Z"
   },
   {
    "duration": 62,
    "start_time": "2025-04-22T13:42:35.578Z"
   },
   {
    "duration": 62,
    "start_time": "2025-04-22T13:42:35.641Z"
   },
   {
    "duration": 51,
    "start_time": "2025-04-22T13:42:35.705Z"
   },
   {
    "duration": 100,
    "start_time": "2025-04-22T13:42:35.758Z"
   },
   {
    "duration": 39,
    "start_time": "2025-04-22T13:42:35.859Z"
   },
   {
    "duration": 185,
    "start_time": "2025-04-22T13:42:35.900Z"
   },
   {
    "duration": 3,
    "start_time": "2025-04-22T13:42:36.087Z"
   },
   {
    "duration": 92,
    "start_time": "2025-04-22T13:42:36.091Z"
   },
   {
    "duration": 112,
    "start_time": "2025-04-22T13:42:36.185Z"
   },
   {
    "duration": 156,
    "start_time": "2025-04-22T13:42:36.299Z"
   },
   {
    "duration": 217,
    "start_time": "2025-04-22T13:42:36.461Z"
   },
   {
    "duration": 35,
    "start_time": "2025-04-22T13:42:36.679Z"
   },
   {
    "duration": 177,
    "start_time": "2025-04-22T13:42:36.715Z"
   },
   {
    "duration": 158,
    "start_time": "2025-04-22T13:42:36.894Z"
   },
   {
    "duration": 210,
    "start_time": "2025-04-22T13:42:37.053Z"
   },
   {
    "duration": 2509,
    "start_time": "2025-04-22T13:42:37.264Z"
   },
   {
    "duration": 47,
    "start_time": "2025-04-22T13:42:39.775Z"
   },
   {
    "duration": 33,
    "start_time": "2025-04-22T13:42:39.823Z"
   },
   {
    "duration": 3487,
    "start_time": "2025-04-22T13:43:06.653Z"
   },
   {
    "duration": 2180,
    "start_time": "2025-04-22T13:43:10.142Z"
   },
   {
    "duration": 3,
    "start_time": "2025-04-22T13:43:12.323Z"
   },
   {
    "duration": 28,
    "start_time": "2025-04-22T13:43:12.327Z"
   },
   {
    "duration": 111,
    "start_time": "2025-04-22T13:43:12.357Z"
   },
   {
    "duration": 16,
    "start_time": "2025-04-22T13:43:12.469Z"
   },
   {
    "duration": 52,
    "start_time": "2025-04-22T13:43:12.486Z"
   },
   {
    "duration": 50,
    "start_time": "2025-04-22T13:43:12.540Z"
   },
   {
    "duration": 9,
    "start_time": "2025-04-22T13:43:12.592Z"
   },
   {
    "duration": 101,
    "start_time": "2025-04-22T13:43:12.603Z"
   },
   {
    "duration": 41,
    "start_time": "2025-04-22T13:43:12.706Z"
   },
   {
    "duration": 35,
    "start_time": "2025-04-22T13:43:12.749Z"
   },
   {
    "duration": 26,
    "start_time": "2025-04-22T13:43:12.786Z"
   },
   {
    "duration": 19,
    "start_time": "2025-04-22T13:43:12.815Z"
   },
   {
    "duration": 39,
    "start_time": "2025-04-22T13:43:12.836Z"
   },
   {
    "duration": 4,
    "start_time": "2025-04-22T13:43:12.876Z"
   },
   {
    "duration": 164,
    "start_time": "2025-04-22T13:43:12.882Z"
   },
   {
    "duration": 2,
    "start_time": "2025-04-22T13:43:13.048Z"
   },
   {
    "duration": 120,
    "start_time": "2025-04-22T13:43:13.051Z"
   },
   {
    "duration": 119,
    "start_time": "2025-04-22T13:43:13.172Z"
   },
   {
    "duration": 153,
    "start_time": "2025-04-22T13:43:13.293Z"
   },
   {
    "duration": 223,
    "start_time": "2025-04-22T13:43:13.448Z"
   },
   {
    "duration": 34,
    "start_time": "2025-04-22T13:43:13.672Z"
   },
   {
    "duration": 168,
    "start_time": "2025-04-22T13:43:13.708Z"
   },
   {
    "duration": 153,
    "start_time": "2025-04-22T13:43:13.877Z"
   },
   {
    "duration": 209,
    "start_time": "2025-04-22T13:43:14.032Z"
   },
   {
    "duration": 2473,
    "start_time": "2025-04-22T13:43:14.243Z"
   },
   {
    "duration": 54,
    "start_time": "2025-04-22T13:43:16.717Z"
   },
   {
    "duration": 13,
    "start_time": "2025-04-22T13:43:16.772Z"
   },
   {
    "duration": 2,
    "start_time": "2025-04-22T13:43:16.786Z"
   },
   {
    "duration": 46,
    "start_time": "2025-04-22T13:46:02.320Z"
   },
   {
    "duration": 3483,
    "start_time": "2025-04-22T13:46:09.935Z"
   },
   {
    "duration": 2074,
    "start_time": "2025-04-22T13:46:13.420Z"
   },
   {
    "duration": 3,
    "start_time": "2025-04-22T13:46:15.495Z"
   },
   {
    "duration": 46,
    "start_time": "2025-04-22T13:46:15.499Z"
   },
   {
    "duration": 125,
    "start_time": "2025-04-22T13:46:15.547Z"
   },
   {
    "duration": 15,
    "start_time": "2025-04-22T13:46:15.674Z"
   },
   {
    "duration": 43,
    "start_time": "2025-04-22T13:46:15.691Z"
   },
   {
    "duration": 63,
    "start_time": "2025-04-22T13:46:15.736Z"
   },
   {
    "duration": 10,
    "start_time": "2025-04-22T13:46:15.800Z"
   },
   {
    "duration": 117,
    "start_time": "2025-04-22T13:46:15.812Z"
   },
   {
    "duration": 55,
    "start_time": "2025-04-22T13:46:15.931Z"
   },
   {
    "duration": 32,
    "start_time": "2025-04-22T13:46:15.987Z"
   },
   {
    "duration": 51,
    "start_time": "2025-04-22T13:46:16.021Z"
   },
   {
    "duration": 19,
    "start_time": "2025-04-22T13:46:16.075Z"
   },
   {
    "duration": 12,
    "start_time": "2025-04-22T13:46:16.095Z"
   },
   {
    "duration": 3,
    "start_time": "2025-04-22T13:46:16.109Z"
   },
   {
    "duration": 177,
    "start_time": "2025-04-22T13:46:16.113Z"
   },
   {
    "duration": 3,
    "start_time": "2025-04-22T13:46:16.291Z"
   },
   {
    "duration": 50,
    "start_time": "2025-04-22T13:46:16.295Z"
   },
   {
    "duration": 130,
    "start_time": "2025-04-22T13:46:16.347Z"
   },
   {
    "duration": 157,
    "start_time": "2025-04-22T13:46:16.478Z"
   },
   {
    "duration": 202,
    "start_time": "2025-04-22T13:46:16.636Z"
   },
   {
    "duration": 35,
    "start_time": "2025-04-22T13:46:16.863Z"
   },
   {
    "duration": 173,
    "start_time": "2025-04-22T13:46:16.901Z"
   },
   {
    "duration": 160,
    "start_time": "2025-04-22T13:46:17.076Z"
   },
   {
    "duration": 215,
    "start_time": "2025-04-22T13:46:17.238Z"
   },
   {
    "duration": 2550,
    "start_time": "2025-04-22T13:46:17.455Z"
   },
   {
    "duration": 67,
    "start_time": "2025-04-22T13:46:20.007Z"
   },
   {
    "duration": 14,
    "start_time": "2025-04-22T13:46:20.076Z"
   },
   {
    "duration": 5,
    "start_time": "2025-04-22T13:46:20.091Z"
   },
   {
    "duration": 28,
    "start_time": "2025-04-22T13:46:20.098Z"
   },
   {
    "duration": 111,
    "start_time": "2025-04-22T13:46:40.496Z"
   },
   {
    "duration": 26,
    "start_time": "2025-04-22T13:46:53.670Z"
   },
   {
    "duration": 21,
    "start_time": "2025-04-22T13:46:59.334Z"
   },
   {
    "duration": 21,
    "start_time": "2025-04-22T13:47:22.435Z"
   },
   {
    "duration": 42,
    "start_time": "2025-04-22T13:47:32.415Z"
   },
   {
    "duration": 27,
    "start_time": "2025-04-22T13:49:06.792Z"
   },
   {
    "duration": 22,
    "start_time": "2025-04-22T13:49:14.171Z"
   },
   {
    "duration": 23,
    "start_time": "2025-04-22T13:49:26.586Z"
   },
   {
    "duration": 23,
    "start_time": "2025-04-22T13:50:28.597Z"
   },
   {
    "duration": 2,
    "start_time": "2025-04-22T13:51:26.281Z"
   },
   {
    "duration": 76,
    "start_time": "2025-04-22T13:51:37.639Z"
   },
   {
    "duration": 19,
    "start_time": "2025-04-22T13:52:09.001Z"
   },
   {
    "duration": 53,
    "start_time": "2025-04-22T13:53:54.139Z"
   },
   {
    "duration": 3683,
    "start_time": "2025-04-22T13:54:03.381Z"
   },
   {
    "duration": 2129,
    "start_time": "2025-04-22T13:54:07.066Z"
   },
   {
    "duration": 2,
    "start_time": "2025-04-22T13:54:09.197Z"
   },
   {
    "duration": 46,
    "start_time": "2025-04-22T13:54:09.201Z"
   },
   {
    "duration": 130,
    "start_time": "2025-04-22T13:54:09.248Z"
   },
   {
    "duration": 17,
    "start_time": "2025-04-22T13:54:09.380Z"
   },
   {
    "duration": 77,
    "start_time": "2025-04-22T13:54:09.398Z"
   },
   {
    "duration": 42,
    "start_time": "2025-04-22T13:54:09.477Z"
   },
   {
    "duration": 10,
    "start_time": "2025-04-22T13:54:09.520Z"
   },
   {
    "duration": 120,
    "start_time": "2025-04-22T13:54:09.533Z"
   },
   {
    "duration": 50,
    "start_time": "2025-04-22T13:54:09.655Z"
   },
   {
    "duration": 25,
    "start_time": "2025-04-22T13:54:09.706Z"
   },
   {
    "duration": 54,
    "start_time": "2025-04-22T13:54:09.733Z"
   },
   {
    "duration": 57,
    "start_time": "2025-04-22T13:54:09.788Z"
   },
   {
    "duration": 63,
    "start_time": "2025-04-22T13:54:09.846Z"
   },
   {
    "duration": 2,
    "start_time": "2025-04-22T13:54:09.911Z"
   },
   {
    "duration": 171,
    "start_time": "2025-04-22T13:54:09.915Z"
   },
   {
    "duration": 4,
    "start_time": "2025-04-22T13:54:10.088Z"
   },
   {
    "duration": 65,
    "start_time": "2025-04-22T13:54:10.093Z"
   },
   {
    "duration": 128,
    "start_time": "2025-04-22T13:54:10.163Z"
   },
   {
    "duration": 163,
    "start_time": "2025-04-22T13:54:10.293Z"
   },
   {
    "duration": 222,
    "start_time": "2025-04-22T13:54:10.462Z"
   },
   {
    "duration": 36,
    "start_time": "2025-04-22T13:54:10.686Z"
   },
   {
    "duration": 187,
    "start_time": "2025-04-22T13:54:10.724Z"
   },
   {
    "duration": 152,
    "start_time": "2025-04-22T13:54:10.912Z"
   },
   {
    "duration": 223,
    "start_time": "2025-04-22T13:54:11.066Z"
   },
   {
    "duration": 2596,
    "start_time": "2025-04-22T13:54:11.291Z"
   },
   {
    "duration": 53,
    "start_time": "2025-04-22T13:54:13.890Z"
   },
   {
    "duration": 25,
    "start_time": "2025-04-22T13:54:13.944Z"
   },
   {
    "duration": 114,
    "start_time": "2025-04-22T13:54:13.971Z"
   },
   {
    "duration": 0,
    "start_time": "2025-04-22T13:54:14.087Z"
   },
   {
    "duration": 35,
    "start_time": "2025-04-22T13:54:33.084Z"
   },
   {
    "duration": 4597,
    "start_time": "2025-04-22T13:55:05.346Z"
   },
   {
    "duration": 3664,
    "start_time": "2025-04-22T13:55:45.066Z"
   },
   {
    "duration": 2601,
    "start_time": "2025-04-22T13:55:48.732Z"
   },
   {
    "duration": 3,
    "start_time": "2025-04-22T13:55:51.335Z"
   },
   {
    "duration": 44,
    "start_time": "2025-04-22T13:55:51.339Z"
   },
   {
    "duration": 124,
    "start_time": "2025-04-22T13:55:51.385Z"
   },
   {
    "duration": 15,
    "start_time": "2025-04-22T13:55:51.511Z"
   },
   {
    "duration": 61,
    "start_time": "2025-04-22T13:55:51.528Z"
   },
   {
    "duration": 42,
    "start_time": "2025-04-22T13:55:51.590Z"
   },
   {
    "duration": 10,
    "start_time": "2025-04-22T13:55:51.634Z"
   },
   {
    "duration": 119,
    "start_time": "2025-04-22T13:55:51.646Z"
   },
   {
    "duration": 46,
    "start_time": "2025-04-22T13:55:51.767Z"
   },
   {
    "duration": 37,
    "start_time": "2025-04-22T13:55:51.814Z"
   },
   {
    "duration": 35,
    "start_time": "2025-04-22T13:55:51.852Z"
   },
   {
    "duration": 18,
    "start_time": "2025-04-22T13:55:51.889Z"
   },
   {
    "duration": 26,
    "start_time": "2025-04-22T13:55:51.908Z"
   },
   {
    "duration": 16,
    "start_time": "2025-04-22T13:55:51.935Z"
   },
   {
    "duration": 174,
    "start_time": "2025-04-22T13:55:51.952Z"
   },
   {
    "duration": 3,
    "start_time": "2025-04-22T13:55:52.127Z"
   },
   {
    "duration": 72,
    "start_time": "2025-04-22T13:55:52.132Z"
   },
   {
    "duration": 124,
    "start_time": "2025-04-22T13:55:52.205Z"
   },
   {
    "duration": 165,
    "start_time": "2025-04-22T13:55:52.330Z"
   },
   {
    "duration": 219,
    "start_time": "2025-04-22T13:55:52.496Z"
   },
   {
    "duration": 57,
    "start_time": "2025-04-22T13:55:52.716Z"
   },
   {
    "duration": 172,
    "start_time": "2025-04-22T13:55:52.774Z"
   },
   {
    "duration": 170,
    "start_time": "2025-04-22T13:55:52.948Z"
   },
   {
    "duration": 215,
    "start_time": "2025-04-22T13:55:53.119Z"
   },
   {
    "duration": 2660,
    "start_time": "2025-04-22T13:55:53.335Z"
   },
   {
    "duration": 50,
    "start_time": "2025-04-22T13:55:55.998Z"
   },
   {
    "duration": 14,
    "start_time": "2025-04-22T13:55:56.061Z"
   },
   {
    "duration": 4574,
    "start_time": "2025-04-22T13:55:56.076Z"
   },
   {
    "duration": 29,
    "start_time": "2025-04-22T13:56:00.652Z"
   },
   {
    "duration": 44,
    "start_time": "2025-04-22T13:57:37.729Z"
   },
   {
    "duration": 3406,
    "start_time": "2025-04-22T13:57:47.654Z"
   },
   {
    "duration": 2024,
    "start_time": "2025-04-22T13:57:51.062Z"
   },
   {
    "duration": 3,
    "start_time": "2025-04-22T13:57:53.087Z"
   },
   {
    "duration": 53,
    "start_time": "2025-04-22T13:57:53.091Z"
   },
   {
    "duration": 106,
    "start_time": "2025-04-22T13:57:53.146Z"
   },
   {
    "duration": 19,
    "start_time": "2025-04-22T13:57:53.253Z"
   },
   {
    "duration": 98,
    "start_time": "2025-04-22T13:57:53.274Z"
   },
   {
    "duration": 39,
    "start_time": "2025-04-22T13:57:53.373Z"
   },
   {
    "duration": 9,
    "start_time": "2025-04-22T13:57:53.414Z"
   },
   {
    "duration": 112,
    "start_time": "2025-04-22T13:57:53.425Z"
   },
   {
    "duration": 45,
    "start_time": "2025-04-22T13:57:53.539Z"
   },
   {
    "duration": 22,
    "start_time": "2025-04-22T13:57:53.586Z"
   },
   {
    "duration": 54,
    "start_time": "2025-04-22T13:57:53.609Z"
   },
   {
    "duration": 19,
    "start_time": "2025-04-22T13:57:53.666Z"
   },
   {
    "duration": 16,
    "start_time": "2025-04-22T13:57:53.687Z"
   },
   {
    "duration": 10,
    "start_time": "2025-04-22T13:57:53.704Z"
   },
   {
    "duration": 158,
    "start_time": "2025-04-22T13:57:53.715Z"
   },
   {
    "duration": 3,
    "start_time": "2025-04-22T13:57:53.874Z"
   },
   {
    "duration": 102,
    "start_time": "2025-04-22T13:57:53.878Z"
   },
   {
    "duration": 110,
    "start_time": "2025-04-22T13:57:53.982Z"
   },
   {
    "duration": 156,
    "start_time": "2025-04-22T13:57:54.094Z"
   },
   {
    "duration": 213,
    "start_time": "2025-04-22T13:57:54.252Z"
   },
   {
    "duration": 35,
    "start_time": "2025-04-22T13:57:54.467Z"
   },
   {
    "duration": 163,
    "start_time": "2025-04-22T13:57:54.503Z"
   },
   {
    "duration": 153,
    "start_time": "2025-04-22T13:57:54.668Z"
   },
   {
    "duration": 204,
    "start_time": "2025-04-22T13:57:54.822Z"
   },
   {
    "duration": 2552,
    "start_time": "2025-04-22T13:57:55.028Z"
   },
   {
    "duration": 51,
    "start_time": "2025-04-22T13:57:57.582Z"
   },
   {
    "duration": 29,
    "start_time": "2025-04-22T13:57:57.634Z"
   },
   {
    "duration": 4439,
    "start_time": "2025-04-22T13:57:57.665Z"
   },
   {
    "duration": 22,
    "start_time": "2025-04-22T13:58:02.105Z"
   },
   {
    "duration": 8,
    "start_time": "2025-04-22T13:59:06.715Z"
   },
   {
    "duration": 44,
    "start_time": "2025-04-22T14:02:21.121Z"
   },
   {
    "duration": 3390,
    "start_time": "2025-04-22T14:02:27.055Z"
   },
   {
    "duration": 3062,
    "start_time": "2025-04-22T14:02:30.447Z"
   },
   {
    "duration": 3,
    "start_time": "2025-04-22T14:02:33.510Z"
   },
   {
    "duration": 40,
    "start_time": "2025-04-22T14:02:33.514Z"
   },
   {
    "duration": 108,
    "start_time": "2025-04-22T14:02:33.556Z"
   },
   {
    "duration": 14,
    "start_time": "2025-04-22T14:02:33.666Z"
   },
   {
    "duration": 50,
    "start_time": "2025-04-22T14:02:33.681Z"
   },
   {
    "duration": 52,
    "start_time": "2025-04-22T14:02:33.733Z"
   },
   {
    "duration": 10,
    "start_time": "2025-04-22T14:02:33.786Z"
   },
   {
    "duration": 97,
    "start_time": "2025-04-22T14:02:33.798Z"
   },
   {
    "duration": 42,
    "start_time": "2025-04-22T14:02:33.897Z"
   },
   {
    "duration": 35,
    "start_time": "2025-04-22T14:02:33.940Z"
   },
   {
    "duration": 33,
    "start_time": "2025-04-22T14:02:33.976Z"
   },
   {
    "duration": 19,
    "start_time": "2025-04-22T14:02:34.010Z"
   },
   {
    "duration": 41,
    "start_time": "2025-04-22T14:02:34.030Z"
   },
   {
    "duration": 35,
    "start_time": "2025-04-22T14:02:34.072Z"
   },
   {
    "duration": 150,
    "start_time": "2025-04-22T14:02:34.109Z"
   },
   {
    "duration": 3,
    "start_time": "2025-04-22T14:02:34.261Z"
   },
   {
    "duration": 74,
    "start_time": "2025-04-22T14:02:34.265Z"
   },
   {
    "duration": 107,
    "start_time": "2025-04-22T14:02:34.340Z"
   },
   {
    "duration": 152,
    "start_time": "2025-04-22T14:02:34.449Z"
   },
   {
    "duration": 200,
    "start_time": "2025-04-22T14:02:34.602Z"
   },
   {
    "duration": 33,
    "start_time": "2025-04-22T14:02:34.803Z"
   },
   {
    "duration": 178,
    "start_time": "2025-04-22T14:02:34.838Z"
   },
   {
    "duration": 148,
    "start_time": "2025-04-22T14:02:35.017Z"
   },
   {
    "duration": 207,
    "start_time": "2025-04-22T14:02:35.167Z"
   },
   {
    "duration": 2435,
    "start_time": "2025-04-22T14:02:35.375Z"
   },
   {
    "duration": 60,
    "start_time": "2025-04-22T14:02:37.813Z"
   },
   {
    "duration": 12,
    "start_time": "2025-04-22T14:02:37.875Z"
   },
   {
    "duration": 5475,
    "start_time": "2025-04-22T14:02:37.889Z"
   },
   {
    "duration": 22,
    "start_time": "2025-04-22T14:02:43.366Z"
   },
   {
    "duration": 16,
    "start_time": "2025-04-22T14:03:14.586Z"
   },
   {
    "duration": 5488,
    "start_time": "2025-04-22T14:03:42.441Z"
   },
   {
    "duration": 4455,
    "start_time": "2025-04-22T14:04:40.058Z"
   },
   {
    "duration": 4892,
    "start_time": "2025-04-22T16:42:42.725Z"
   },
   {
    "duration": 2074,
    "start_time": "2025-04-22T16:42:47.619Z"
   },
   {
    "duration": 3,
    "start_time": "2025-04-22T16:42:49.694Z"
   },
   {
    "duration": 34,
    "start_time": "2025-04-22T16:42:49.698Z"
   },
   {
    "duration": 121,
    "start_time": "2025-04-22T16:42:49.735Z"
   },
   {
    "duration": 18,
    "start_time": "2025-04-22T16:42:49.858Z"
   },
   {
    "duration": 71,
    "start_time": "2025-04-22T16:42:49.877Z"
   },
   {
    "duration": 43,
    "start_time": "2025-04-22T16:42:49.950Z"
   },
   {
    "duration": 13,
    "start_time": "2025-04-22T16:42:49.995Z"
   },
   {
    "duration": 113,
    "start_time": "2025-04-22T16:42:50.010Z"
   },
   {
    "duration": 55,
    "start_time": "2025-04-22T16:42:50.124Z"
   },
   {
    "duration": 23,
    "start_time": "2025-04-22T16:42:50.180Z"
   },
   {
    "duration": 50,
    "start_time": "2025-04-22T16:42:50.205Z"
   },
   {
    "duration": 19,
    "start_time": "2025-04-22T16:42:50.258Z"
   },
   {
    "duration": 14,
    "start_time": "2025-04-22T16:42:50.279Z"
   },
   {
    "duration": 3,
    "start_time": "2025-04-22T16:42:50.295Z"
   },
   {
    "duration": 186,
    "start_time": "2025-04-22T16:42:50.300Z"
   },
   {
    "duration": 3,
    "start_time": "2025-04-22T16:42:50.487Z"
   },
   {
    "duration": 65,
    "start_time": "2025-04-22T16:42:50.492Z"
   },
   {
    "duration": 128,
    "start_time": "2025-04-22T16:42:50.559Z"
   },
   {
    "duration": 203,
    "start_time": "2025-04-22T16:42:50.689Z"
   },
   {
    "duration": 225,
    "start_time": "2025-04-22T16:42:50.894Z"
   },
   {
    "duration": 38,
    "start_time": "2025-04-22T16:42:51.137Z"
   },
   {
    "duration": 204,
    "start_time": "2025-04-22T16:42:51.177Z"
   },
   {
    "duration": 151,
    "start_time": "2025-04-22T16:42:51.382Z"
   },
   {
    "duration": 218,
    "start_time": "2025-04-22T16:42:51.536Z"
   },
   {
    "duration": 2677,
    "start_time": "2025-04-22T16:42:51.756Z"
   },
   {
    "duration": 54,
    "start_time": "2025-04-22T16:42:54.440Z"
   },
   {
    "duration": 12,
    "start_time": "2025-04-22T16:42:54.496Z"
   },
   {
    "duration": 4994,
    "start_time": "2025-04-22T16:42:54.509Z"
   },
   {
    "duration": 33,
    "start_time": "2025-04-22T16:42:59.505Z"
   },
   {
    "duration": 4719,
    "start_time": "2025-04-22T16:44:37.759Z"
   },
   {
    "duration": 38,
    "start_time": "2025-04-22T16:49:44.423Z"
   },
   {
    "duration": 16,
    "start_time": "2025-04-22T16:55:25.951Z"
   },
   {
    "duration": 27,
    "start_time": "2025-04-22T16:55:33.975Z"
   },
   {
    "duration": 114,
    "start_time": "2025-04-22T16:55:51.184Z"
   },
   {
    "duration": 24,
    "start_time": "2025-04-22T16:56:24.424Z"
   },
   {
    "duration": 16,
    "start_time": "2025-04-22T16:57:18.776Z"
   },
   {
    "duration": 38,
    "start_time": "2025-04-22T16:58:16.113Z"
   },
   {
    "duration": 16,
    "start_time": "2025-04-22T16:59:04.905Z"
   },
   {
    "duration": 17,
    "start_time": "2025-04-22T16:59:34.353Z"
   },
   {
    "duration": 159,
    "start_time": "2025-04-22T17:04:48.351Z"
   },
   {
    "duration": 176,
    "start_time": "2025-04-22T17:16:01.622Z"
   },
   {
    "duration": 64,
    "start_time": "2025-04-22T17:18:17.742Z"
   },
   {
    "duration": 289,
    "start_time": "2025-04-22T17:19:30.357Z"
   },
   {
    "duration": 260,
    "start_time": "2025-04-22T17:20:21.685Z"
   },
   {
    "duration": 361,
    "start_time": "2025-04-22T17:20:49.245Z"
   },
   {
    "duration": 61,
    "start_time": "2025-04-22T17:22:18.285Z"
   },
   {
    "duration": 9,
    "start_time": "2025-04-22T17:24:32.061Z"
   },
   {
    "duration": 56,
    "start_time": "2025-04-22T17:24:38.510Z"
   },
   {
    "duration": 19,
    "start_time": "2025-04-22T17:25:55.670Z"
   },
   {
    "duration": 16,
    "start_time": "2025-04-22T17:26:44.133Z"
   },
   {
    "duration": 27,
    "start_time": "2025-04-22T17:27:50.636Z"
   },
   {
    "duration": 29,
    "start_time": "2025-04-22T17:28:00.900Z"
   },
   {
    "duration": 103,
    "start_time": "2025-04-22T17:28:58.878Z"
   },
   {
    "duration": 27,
    "start_time": "2025-04-22T17:29:56.021Z"
   },
   {
    "duration": 28,
    "start_time": "2025-04-22T17:30:01.765Z"
   },
   {
    "duration": 30,
    "start_time": "2025-04-22T18:23:43.443Z"
   },
   {
    "duration": 40,
    "start_time": "2025-04-22T18:23:55.090Z"
   },
   {
    "duration": 26,
    "start_time": "2025-04-22T18:24:51.154Z"
   },
   {
    "duration": 80,
    "start_time": "2025-04-22T18:25:01.451Z"
   },
   {
    "duration": 42,
    "start_time": "2025-04-22T18:25:29.570Z"
   },
   {
    "duration": 457,
    "start_time": "2025-04-22T18:35:07.923Z"
   },
   {
    "duration": 668,
    "start_time": "2025-04-22T18:35:48.418Z"
   },
   {
    "duration": 916,
    "start_time": "2025-04-22T18:36:02.323Z"
   },
   {
    "duration": 14,
    "start_time": "2025-04-22T18:37:36.779Z"
   },
   {
    "duration": 902,
    "start_time": "2025-04-22T18:37:49.802Z"
   },
   {
    "duration": 11,
    "start_time": "2025-04-22T18:38:29.242Z"
   },
   {
    "duration": 11,
    "start_time": "2025-04-22T18:38:38.658Z"
   },
   {
    "duration": 79,
    "start_time": "2025-04-22T18:39:07.546Z"
   },
   {
    "duration": 1394,
    "start_time": "2025-04-22T18:39:30.338Z"
   },
   {
    "duration": 2487,
    "start_time": "2025-04-22T18:40:27.402Z"
   },
   {
    "duration": 2983,
    "start_time": "2025-04-22T18:40:49.882Z"
   },
   {
    "duration": 3091,
    "start_time": "2025-04-22T18:41:17.035Z"
   },
   {
    "duration": 57,
    "start_time": "2025-04-22T18:42:12.090Z"
   },
   {
    "duration": 3063,
    "start_time": "2025-04-22T18:42:23.450Z"
   },
   {
    "duration": 3240,
    "start_time": "2025-04-22T18:45:06.562Z"
   },
   {
    "duration": 1214,
    "start_time": "2025-04-22T18:45:30.810Z"
   },
   {
    "duration": 522,
    "start_time": "2025-04-22T18:46:59.339Z"
   },
   {
    "duration": 328,
    "start_time": "2025-04-22T18:47:18.978Z"
   },
   {
    "duration": 230,
    "start_time": "2025-04-22T18:47:22.794Z"
   },
   {
    "duration": 534,
    "start_time": "2025-04-22T18:47:42.291Z"
   },
   {
    "duration": 487,
    "start_time": "2025-04-22T18:47:53.834Z"
   },
   {
    "duration": 901,
    "start_time": "2025-04-22T18:48:02.083Z"
   },
   {
    "duration": 1154,
    "start_time": "2025-04-22T18:48:19.419Z"
   },
   {
    "duration": 129,
    "start_time": "2025-04-22T18:48:29.986Z"
   },
   {
    "duration": 223,
    "start_time": "2025-04-22T18:48:35.866Z"
   },
   {
    "duration": 40,
    "start_time": "2025-04-22T18:48:46.018Z"
   },
   {
    "duration": 978,
    "start_time": "2025-04-22T18:48:56.162Z"
   },
   {
    "duration": 30,
    "start_time": "2025-04-22T18:51:17.651Z"
   },
   {
    "duration": 3117,
    "start_time": "2025-04-22T18:51:58.811Z"
   },
   {
    "duration": 2869,
    "start_time": "2025-04-22T18:53:39.554Z"
   },
   {
    "duration": 499,
    "start_time": "2025-04-22T18:57:12.146Z"
   },
   {
    "duration": 3020,
    "start_time": "2025-04-22T18:58:24.281Z"
   },
   {
    "duration": 3012,
    "start_time": "2025-04-22T18:59:46.226Z"
   },
   {
    "duration": 2535,
    "start_time": "2025-04-22T19:00:58.962Z"
   },
   {
    "duration": 2942,
    "start_time": "2025-04-22T19:01:13.595Z"
   },
   {
    "duration": 3016,
    "start_time": "2025-04-22T19:03:01.147Z"
   },
   {
    "duration": 2904,
    "start_time": "2025-04-22T19:03:32.115Z"
   },
   {
    "duration": 3095,
    "start_time": "2025-04-22T19:05:25.420Z"
   },
   {
    "duration": 3190,
    "start_time": "2025-04-22T19:05:51.419Z"
   },
   {
    "duration": 3077,
    "start_time": "2025-04-22T19:08:46.747Z"
   },
   {
    "duration": 3142,
    "start_time": "2025-04-22T19:09:36.930Z"
   },
   {
    "duration": 18,
    "start_time": "2025-04-22T19:13:04.747Z"
   },
   {
    "duration": 41,
    "start_time": "2025-04-22T19:17:40.538Z"
   },
   {
    "duration": 93,
    "start_time": "2025-04-22T19:24:06.576Z"
   },
   {
    "duration": 42,
    "start_time": "2025-04-22T19:24:12.392Z"
   },
   {
    "duration": 77,
    "start_time": "2025-04-22T19:26:29.177Z"
   },
   {
    "duration": 3529,
    "start_time": "2025-04-22T19:26:29.277Z"
   },
   {
    "duration": 3087,
    "start_time": "2025-04-22T19:26:32.808Z"
   },
   {
    "duration": 3,
    "start_time": "2025-04-22T19:26:35.897Z"
   },
   {
    "duration": 47,
    "start_time": "2025-04-22T19:26:35.901Z"
   },
   {
    "duration": 125,
    "start_time": "2025-04-22T19:26:35.950Z"
   },
   {
    "duration": 15,
    "start_time": "2025-04-22T19:26:36.076Z"
   },
   {
    "duration": 108,
    "start_time": "2025-04-22T19:26:36.093Z"
   },
   {
    "duration": 44,
    "start_time": "2025-04-22T19:26:36.203Z"
   },
   {
    "duration": 10,
    "start_time": "2025-04-22T19:26:36.249Z"
   },
   {
    "duration": 126,
    "start_time": "2025-04-22T19:26:36.260Z"
   },
   {
    "duration": 49,
    "start_time": "2025-04-22T19:26:36.388Z"
   },
   {
    "duration": 23,
    "start_time": "2025-04-22T19:26:36.438Z"
   },
   {
    "duration": 34,
    "start_time": "2025-04-22T19:26:36.463Z"
   },
   {
    "duration": 41,
    "start_time": "2025-04-22T19:26:36.500Z"
   },
   {
    "duration": 13,
    "start_time": "2025-04-22T19:26:36.543Z"
   },
   {
    "duration": 39,
    "start_time": "2025-04-22T19:26:36.557Z"
   },
   {
    "duration": 164,
    "start_time": "2025-04-22T19:26:36.597Z"
   },
   {
    "duration": 3,
    "start_time": "2025-04-22T19:26:36.763Z"
   },
   {
    "duration": 54,
    "start_time": "2025-04-22T19:26:36.767Z"
   },
   {
    "duration": 121,
    "start_time": "2025-04-22T19:26:36.836Z"
   },
   {
    "duration": 170,
    "start_time": "2025-04-22T19:26:36.958Z"
   },
   {
    "duration": 227,
    "start_time": "2025-04-22T19:26:37.130Z"
   },
   {
    "duration": 35,
    "start_time": "2025-04-22T19:26:37.358Z"
   },
   {
    "duration": 185,
    "start_time": "2025-04-22T19:26:37.395Z"
   },
   {
    "duration": 169,
    "start_time": "2025-04-22T19:26:37.582Z"
   },
   {
    "duration": 224,
    "start_time": "2025-04-22T19:26:37.753Z"
   },
   {
    "duration": 2807,
    "start_time": "2025-04-22T19:26:37.978Z"
   },
   {
    "duration": 86,
    "start_time": "2025-04-22T19:26:40.787Z"
   },
   {
    "duration": 0,
    "start_time": "2025-04-22T19:26:40.875Z"
   },
   {
    "duration": 0,
    "start_time": "2025-04-22T19:26:40.876Z"
   },
   {
    "duration": 0,
    "start_time": "2025-04-22T19:26:40.877Z"
   },
   {
    "duration": 0,
    "start_time": "2025-04-22T19:26:40.879Z"
   },
   {
    "duration": 0,
    "start_time": "2025-04-22T19:26:40.880Z"
   },
   {
    "duration": 1,
    "start_time": "2025-04-22T19:26:40.881Z"
   },
   {
    "duration": 0,
    "start_time": "2025-04-22T19:26:40.883Z"
   },
   {
    "duration": 0,
    "start_time": "2025-04-22T19:26:40.884Z"
   },
   {
    "duration": 0,
    "start_time": "2025-04-22T19:26:40.885Z"
   },
   {
    "duration": 0,
    "start_time": "2025-04-22T19:26:40.887Z"
   },
   {
    "duration": 0,
    "start_time": "2025-04-22T19:26:40.888Z"
   },
   {
    "duration": 127,
    "start_time": "2025-04-22T19:27:05.189Z"
   },
   {
    "duration": 55,
    "start_time": "2025-04-22T19:27:12.364Z"
   },
   {
    "duration": 14,
    "start_time": "2025-04-22T19:27:30.133Z"
   },
   {
    "duration": 128,
    "start_time": "2025-04-22T19:28:38.021Z"
   },
   {
    "duration": 1003,
    "start_time": "2025-04-22T19:30:16.350Z"
   },
   {
    "duration": 5,
    "start_time": "2025-04-22T19:30:31.982Z"
   },
   {
    "duration": 5,
    "start_time": "2025-04-22T19:30:47.646Z"
   },
   {
    "duration": 11,
    "start_time": "2025-04-22T19:31:05.367Z"
   },
   {
    "duration": 10,
    "start_time": "2025-04-22T19:31:27.693Z"
   },
   {
    "duration": 8,
    "start_time": "2025-04-22T19:31:44.894Z"
   },
   {
    "duration": 9,
    "start_time": "2025-04-22T19:31:47.654Z"
   },
   {
    "duration": 115,
    "start_time": "2025-04-22T19:32:56.446Z"
   },
   {
    "duration": 118,
    "start_time": "2025-04-22T19:33:12.535Z"
   },
   {
    "duration": 9,
    "start_time": "2025-04-22T19:33:51.287Z"
   },
   {
    "duration": 40,
    "start_time": "2025-04-22T19:33:56.399Z"
   },
   {
    "duration": 95,
    "start_time": "2025-04-22T19:34:13.616Z"
   },
   {
    "duration": 14,
    "start_time": "2025-04-22T19:35:05.279Z"
   },
   {
    "duration": 101,
    "start_time": "2025-04-22T19:35:09.447Z"
   },
   {
    "duration": 163,
    "start_time": "2025-04-22T19:35:27.262Z"
   },
   {
    "duration": 96,
    "start_time": "2025-04-22T19:35:38.727Z"
   },
   {
    "duration": 13,
    "start_time": "2025-04-22T19:36:06.655Z"
   },
   {
    "duration": 107,
    "start_time": "2025-04-22T19:36:20.552Z"
   },
   {
    "duration": 39,
    "start_time": "2025-04-22T19:38:45.440Z"
   },
   {
    "duration": 37,
    "start_time": "2025-04-22T19:40:27.345Z"
   },
   {
    "duration": 37,
    "start_time": "2025-04-22T19:40:37.825Z"
   },
   {
    "duration": 17,
    "start_time": "2025-04-22T19:40:56.593Z"
   },
   {
    "duration": 168,
    "start_time": "2025-04-22T19:42:25.729Z"
   },
   {
    "duration": 374,
    "start_time": "2025-04-22T19:42:30.409Z"
   },
   {
    "duration": 71,
    "start_time": "2025-04-22T19:42:32.440Z"
   },
   {
    "duration": 62,
    "start_time": "2025-04-22T19:42:34.433Z"
   },
   {
    "duration": 21,
    "start_time": "2025-04-22T19:42:37.648Z"
   },
   {
    "duration": 28,
    "start_time": "2025-04-22T19:42:40.433Z"
   },
   {
    "duration": 3106,
    "start_time": "2025-04-22T19:43:00.073Z"
   },
   {
    "duration": 5002,
    "start_time": "2025-04-22T19:52:56.092Z"
   },
   {
    "duration": 2051,
    "start_time": "2025-04-22T19:53:01.096Z"
   },
   {
    "duration": 3,
    "start_time": "2025-04-22T19:53:03.149Z"
   },
   {
    "duration": 40,
    "start_time": "2025-04-22T19:53:03.154Z"
   },
   {
    "duration": 135,
    "start_time": "2025-04-22T19:53:03.196Z"
   },
   {
    "duration": 16,
    "start_time": "2025-04-22T19:53:03.333Z"
   },
   {
    "duration": 62,
    "start_time": "2025-04-22T19:53:03.350Z"
   },
   {
    "duration": 53,
    "start_time": "2025-04-22T19:53:03.414Z"
   },
   {
    "duration": 11,
    "start_time": "2025-04-22T19:53:03.469Z"
   },
   {
    "duration": 119,
    "start_time": "2025-04-22T19:53:03.482Z"
   },
   {
    "duration": 63,
    "start_time": "2025-04-22T19:53:03.603Z"
   },
   {
    "duration": 131,
    "start_time": "2025-04-22T19:53:03.667Z"
   },
   {
    "duration": 40,
    "start_time": "2025-04-22T19:53:03.800Z"
   },
   {
    "duration": 36,
    "start_time": "2025-04-22T19:53:03.841Z"
   },
   {
    "duration": 15,
    "start_time": "2025-04-22T19:53:03.878Z"
   },
   {
    "duration": 7,
    "start_time": "2025-04-22T19:53:03.895Z"
   },
   {
    "duration": 192,
    "start_time": "2025-04-22T19:53:03.904Z"
   },
   {
    "duration": 3,
    "start_time": "2025-04-22T19:53:04.098Z"
   },
   {
    "duration": 81,
    "start_time": "2025-04-22T19:53:04.103Z"
   },
   {
    "duration": 142,
    "start_time": "2025-04-22T19:53:04.186Z"
   },
   {
    "duration": 184,
    "start_time": "2025-04-22T19:53:04.330Z"
   },
   {
    "duration": 259,
    "start_time": "2025-04-22T19:53:04.516Z"
   },
   {
    "duration": 43,
    "start_time": "2025-04-22T19:53:04.777Z"
   },
   {
    "duration": 213,
    "start_time": "2025-04-22T19:53:04.823Z"
   },
   {
    "duration": 186,
    "start_time": "2025-04-22T19:53:05.037Z"
   },
   {
    "duration": 244,
    "start_time": "2025-04-22T19:53:05.225Z"
   },
   {
    "duration": 2950,
    "start_time": "2025-04-22T19:53:05.471Z"
   },
   {
    "duration": 69,
    "start_time": "2025-04-22T19:53:08.424Z"
   },
   {
    "duration": 14,
    "start_time": "2025-04-22T19:53:08.495Z"
   },
   {
    "duration": 135,
    "start_time": "2025-04-22T19:53:08.511Z"
   },
   {
    "duration": 51,
    "start_time": "2025-04-22T20:01:40.766Z"
   },
   {
    "duration": 5552,
    "start_time": "2025-04-22T20:02:56.641Z"
   },
   {
    "duration": 2482,
    "start_time": "2025-04-22T20:03:02.195Z"
   },
   {
    "duration": 4,
    "start_time": "2025-04-22T20:03:04.678Z"
   },
   {
    "duration": 40,
    "start_time": "2025-04-22T20:03:04.684Z"
   },
   {
    "duration": 124,
    "start_time": "2025-04-22T20:03:04.726Z"
   },
   {
    "duration": 16,
    "start_time": "2025-04-22T20:03:04.861Z"
   },
   {
    "duration": 49,
    "start_time": "2025-04-22T20:03:04.879Z"
   },
   {
    "duration": 74,
    "start_time": "2025-04-22T20:03:04.930Z"
   },
   {
    "duration": 12,
    "start_time": "2025-04-22T20:03:05.006Z"
   },
   {
    "duration": 160,
    "start_time": "2025-04-22T20:03:05.020Z"
   },
   {
    "duration": 51,
    "start_time": "2025-04-22T20:03:05.182Z"
   },
   {
    "duration": 40,
    "start_time": "2025-04-22T20:03:05.235Z"
   },
   {
    "duration": 34,
    "start_time": "2025-04-22T20:03:05.277Z"
   },
   {
    "duration": 39,
    "start_time": "2025-04-22T20:03:05.313Z"
   },
   {
    "duration": 27,
    "start_time": "2025-04-22T20:03:05.361Z"
   },
   {
    "duration": 3,
    "start_time": "2025-04-22T20:03:05.390Z"
   },
   {
    "duration": 213,
    "start_time": "2025-04-22T20:03:05.395Z"
   },
   {
    "duration": 3,
    "start_time": "2025-04-22T20:03:05.609Z"
   },
   {
    "duration": 255,
    "start_time": "2025-04-22T20:03:05.614Z"
   },
   {
    "duration": 134,
    "start_time": "2025-04-22T20:03:05.871Z"
   },
   {
    "duration": 187,
    "start_time": "2025-04-22T20:03:06.006Z"
   },
   {
    "duration": 243,
    "start_time": "2025-04-22T20:03:06.194Z"
   },
   {
    "duration": 58,
    "start_time": "2025-04-22T20:03:06.439Z"
   },
   {
    "duration": 216,
    "start_time": "2025-04-22T20:03:06.499Z"
   },
   {
    "duration": 193,
    "start_time": "2025-04-22T20:03:06.717Z"
   },
   {
    "duration": 251,
    "start_time": "2025-04-22T20:03:06.912Z"
   },
   {
    "duration": 2903,
    "start_time": "2025-04-22T20:03:07.164Z"
   },
   {
    "duration": 61,
    "start_time": "2025-04-22T20:03:10.071Z"
   },
   {
    "duration": 36,
    "start_time": "2025-04-22T20:03:10.134Z"
   },
   {
    "duration": 134,
    "start_time": "2025-04-22T20:03:10.172Z"
   },
   {
    "duration": 114,
    "start_time": "2025-04-22T20:03:10.308Z"
   },
   {
    "duration": 0,
    "start_time": "2025-04-22T20:03:10.424Z"
   },
   {
    "duration": 0,
    "start_time": "2025-04-22T20:03:10.426Z"
   },
   {
    "duration": 0,
    "start_time": "2025-04-22T20:03:10.428Z"
   },
   {
    "duration": 0,
    "start_time": "2025-04-22T20:03:10.429Z"
   },
   {
    "duration": 0,
    "start_time": "2025-04-22T20:03:10.431Z"
   },
   {
    "duration": 0,
    "start_time": "2025-04-22T20:03:10.432Z"
   },
   {
    "duration": 0,
    "start_time": "2025-04-22T20:03:10.434Z"
   },
   {
    "duration": 1,
    "start_time": "2025-04-22T20:03:10.435Z"
   },
   {
    "duration": 0,
    "start_time": "2025-04-22T20:03:10.461Z"
   },
   {
    "duration": 0,
    "start_time": "2025-04-22T20:03:10.463Z"
   },
   {
    "duration": 175,
    "start_time": "2025-04-22T20:03:18.424Z"
   },
   {
    "duration": 444,
    "start_time": "2025-04-22T20:03:19.230Z"
   },
   {
    "duration": 72,
    "start_time": "2025-04-22T20:03:19.676Z"
   },
   {
    "duration": 66,
    "start_time": "2025-04-22T20:03:19.901Z"
   },
   {
    "duration": 22,
    "start_time": "2025-04-22T20:03:20.238Z"
   },
   {
    "duration": 31,
    "start_time": "2025-04-22T20:03:20.588Z"
   },
   {
    "duration": 3256,
    "start_time": "2025-04-22T20:03:20.930Z"
   },
   {
    "duration": 51,
    "start_time": "2025-04-22T21:26:29.242Z"
   },
   {
    "duration": 4913,
    "start_time": "2025-04-22T21:26:38.533Z"
   },
   {
    "duration": 2994,
    "start_time": "2025-04-22T21:26:43.448Z"
   },
   {
    "duration": 3,
    "start_time": "2025-04-22T21:26:46.444Z"
   },
   {
    "duration": 26,
    "start_time": "2025-04-22T21:26:46.449Z"
   },
   {
    "duration": 137,
    "start_time": "2025-04-22T21:26:46.478Z"
   },
   {
    "duration": 19,
    "start_time": "2025-04-22T21:26:46.617Z"
   },
   {
    "duration": 68,
    "start_time": "2025-04-22T21:26:46.637Z"
   },
   {
    "duration": 55,
    "start_time": "2025-04-22T21:26:46.707Z"
   },
   {
    "duration": 11,
    "start_time": "2025-04-22T21:26:46.764Z"
   },
   {
    "duration": 114,
    "start_time": "2025-04-22T21:26:46.776Z"
   },
   {
    "duration": 48,
    "start_time": "2025-04-22T21:26:46.892Z"
   },
   {
    "duration": 45,
    "start_time": "2025-04-22T21:26:46.941Z"
   },
   {
    "duration": 30,
    "start_time": "2025-04-22T21:26:46.987Z"
   },
   {
    "duration": 45,
    "start_time": "2025-04-22T21:26:47.020Z"
   },
   {
    "duration": 17,
    "start_time": "2025-04-22T21:26:47.066Z"
   },
   {
    "duration": 3,
    "start_time": "2025-04-22T21:26:47.085Z"
   },
   {
    "duration": 190,
    "start_time": "2025-04-22T21:26:47.090Z"
   },
   {
    "duration": 4,
    "start_time": "2025-04-22T21:26:47.281Z"
   },
   {
    "duration": 77,
    "start_time": "2025-04-22T21:26:47.287Z"
   },
   {
    "duration": 156,
    "start_time": "2025-04-22T21:26:47.366Z"
   },
   {
    "duration": 180,
    "start_time": "2025-04-22T21:26:47.524Z"
   },
   {
    "duration": 233,
    "start_time": "2025-04-22T21:26:47.706Z"
   },
   {
    "duration": 56,
    "start_time": "2025-04-22T21:26:47.940Z"
   },
   {
    "duration": 232,
    "start_time": "2025-04-22T21:26:47.997Z"
   },
   {
    "duration": 178,
    "start_time": "2025-04-22T21:26:48.231Z"
   },
   {
    "duration": 246,
    "start_time": "2025-04-22T21:26:48.410Z"
   },
   {
    "duration": 2889,
    "start_time": "2025-04-22T21:26:48.657Z"
   },
   {
    "duration": 65,
    "start_time": "2025-04-22T21:26:51.548Z"
   },
   {
    "duration": 14,
    "start_time": "2025-04-22T21:26:51.614Z"
   },
   {
    "duration": 137,
    "start_time": "2025-04-22T21:26:51.630Z"
   },
   {
    "duration": 1567,
    "start_time": "2025-04-22T21:26:51.769Z"
   },
   {
    "duration": 0,
    "start_time": "2025-04-22T21:26:53.338Z"
   },
   {
    "duration": 0,
    "start_time": "2025-04-22T21:26:53.340Z"
   },
   {
    "duration": 0,
    "start_time": "2025-04-22T21:26:53.342Z"
   },
   {
    "duration": 0,
    "start_time": "2025-04-22T21:26:53.343Z"
   },
   {
    "duration": 0,
    "start_time": "2025-04-22T21:26:53.345Z"
   },
   {
    "duration": 0,
    "start_time": "2025-04-22T21:26:53.346Z"
   },
   {
    "duration": 0,
    "start_time": "2025-04-22T21:26:53.348Z"
   },
   {
    "duration": 1,
    "start_time": "2025-04-22T21:26:53.349Z"
   },
   {
    "duration": 0,
    "start_time": "2025-04-22T21:26:53.351Z"
   },
   {
    "duration": 0,
    "start_time": "2025-04-22T21:26:53.353Z"
   },
   {
    "duration": 0,
    "start_time": "2025-04-22T21:26:53.354Z"
   },
   {
    "duration": 27,
    "start_time": "2025-04-22T21:28:05.513Z"
   },
   {
    "duration": 17,
    "start_time": "2025-04-22T21:28:35.361Z"
   },
   {
    "duration": 123,
    "start_time": "2025-04-22T21:29:36.282Z"
   },
   {
    "duration": 142,
    "start_time": "2025-04-22T21:30:01.162Z"
   },
   {
    "duration": 14,
    "start_time": "2025-04-22T21:30:29.122Z"
   },
   {
    "duration": 16,
    "start_time": "2025-04-22T21:31:29.714Z"
   },
   {
    "duration": 12,
    "start_time": "2025-04-22T21:31:42.298Z"
   },
   {
    "duration": 18,
    "start_time": "2025-04-22T21:31:57.330Z"
   },
   {
    "duration": 13,
    "start_time": "2025-04-22T21:32:09.706Z"
   },
   {
    "duration": 124,
    "start_time": "2025-04-22T21:32:22.113Z"
   },
   {
    "duration": 16,
    "start_time": "2025-04-22T21:32:28.001Z"
   },
   {
    "duration": 11,
    "start_time": "2025-04-22T21:32:39.801Z"
   },
   {
    "duration": 10,
    "start_time": "2025-04-22T21:33:08.481Z"
   },
   {
    "duration": 157,
    "start_time": "2025-04-22T21:33:40.033Z"
   },
   {
    "duration": 132,
    "start_time": "2025-04-22T21:34:52.681Z"
   },
   {
    "duration": 221,
    "start_time": "2025-04-22T21:35:01.146Z"
   },
   {
    "duration": 124,
    "start_time": "2025-04-22T21:35:09.402Z"
   },
   {
    "duration": 118,
    "start_time": "2025-04-22T21:35:14.466Z"
   },
   {
    "duration": 143,
    "start_time": "2025-04-22T21:35:31.817Z"
   },
   {
    "duration": 144,
    "start_time": "2025-04-22T21:35:42.963Z"
   },
   {
    "duration": 12,
    "start_time": "2025-04-22T21:37:14.667Z"
   },
   {
    "duration": 11,
    "start_time": "2025-04-22T21:44:00.764Z"
   },
   {
    "duration": 11,
    "start_time": "2025-04-22T21:44:25.516Z"
   },
   {
    "duration": 11,
    "start_time": "2025-04-22T21:44:51.148Z"
   },
   {
    "duration": 19,
    "start_time": "2025-04-22T21:45:15.469Z"
   },
   {
    "duration": 12,
    "start_time": "2025-04-22T21:45:30.476Z"
   },
   {
    "duration": 10,
    "start_time": "2025-04-22T21:45:49.261Z"
   },
   {
    "duration": 9,
    "start_time": "2025-04-22T21:45:54.149Z"
   },
   {
    "duration": 14,
    "start_time": "2025-04-22T21:46:22.532Z"
   },
   {
    "duration": 13,
    "start_time": "2025-04-22T21:46:36.381Z"
   },
   {
    "duration": 15,
    "start_time": "2025-04-22T21:47:11.805Z"
   },
   {
    "duration": 5,
    "start_time": "2025-04-22T21:49:00.630Z"
   },
   {
    "duration": 14,
    "start_time": "2025-04-22T21:49:53.302Z"
   },
   {
    "duration": 235,
    "start_time": "2025-04-22T21:50:53.277Z"
   },
   {
    "duration": 140,
    "start_time": "2025-04-22T21:51:22.646Z"
   },
   {
    "duration": 8,
    "start_time": "2025-04-22T21:51:38.990Z"
   },
   {
    "duration": 140,
    "start_time": "2025-04-22T21:51:46.902Z"
   },
   {
    "duration": 9,
    "start_time": "2025-04-22T21:52:06.934Z"
   },
   {
    "duration": 158,
    "start_time": "2025-04-22T21:52:29.433Z"
   },
   {
    "duration": 9,
    "start_time": "2025-04-22T21:52:37.622Z"
   },
   {
    "duration": 147,
    "start_time": "2025-04-22T21:52:54.742Z"
   },
   {
    "duration": 14,
    "start_time": "2025-04-22T21:53:07.630Z"
   },
   {
    "duration": 15,
    "start_time": "2025-04-22T21:53:29.286Z"
   },
   {
    "duration": 207,
    "start_time": "2025-04-22T21:53:30.597Z"
   },
   {
    "duration": 9,
    "start_time": "2025-04-22T21:53:33.005Z"
   },
   {
    "duration": 11,
    "start_time": "2025-04-22T21:53:35.087Z"
   },
   {
    "duration": 15,
    "start_time": "2025-04-22T21:53:52.614Z"
   },
   {
    "duration": 118,
    "start_time": "2025-04-22T21:53:53.517Z"
   },
   {
    "duration": 10,
    "start_time": "2025-04-22T21:53:57.205Z"
   },
   {
    "duration": 5,
    "start_time": "2025-04-22T21:53:58.223Z"
   },
   {
    "duration": 6,
    "start_time": "2025-04-22T21:54:35.205Z"
   },
   {
    "duration": 150,
    "start_time": "2025-04-22T21:54:59.318Z"
   },
   {
    "duration": 14,
    "start_time": "2025-04-22T22:01:15.001Z"
   },
   {
    "duration": 119,
    "start_time": "2025-04-22T22:01:20.481Z"
   },
   {
    "duration": 14,
    "start_time": "2025-04-22T22:01:38.559Z"
   },
   {
    "duration": 117,
    "start_time": "2025-04-22T22:01:39.439Z"
   },
   {
    "duration": 9,
    "start_time": "2025-04-22T22:01:50.371Z"
   },
   {
    "duration": 6,
    "start_time": "2025-04-22T22:01:50.583Z"
   },
   {
    "duration": 121,
    "start_time": "2025-04-22T22:01:51.953Z"
   },
   {
    "duration": 143,
    "start_time": "2025-04-22T22:02:05.552Z"
   },
   {
    "duration": 67,
    "start_time": "2025-04-23T07:57:51.958Z"
   },
   {
    "duration": 4984,
    "start_time": "2025-04-23T07:59:41.243Z"
   },
   {
    "duration": 2443,
    "start_time": "2025-04-23T07:59:46.231Z"
   },
   {
    "duration": 2,
    "start_time": "2025-04-23T07:59:48.677Z"
   },
   {
    "duration": 38,
    "start_time": "2025-04-23T07:59:48.686Z"
   },
   {
    "duration": 126,
    "start_time": "2025-04-23T07:59:48.725Z"
   },
   {
    "duration": 42,
    "start_time": "2025-04-23T07:59:48.852Z"
   },
   {
    "duration": 40,
    "start_time": "2025-04-23T07:59:48.895Z"
   },
   {
    "duration": 53,
    "start_time": "2025-04-23T07:59:48.936Z"
   },
   {
    "duration": 8,
    "start_time": "2025-04-23T07:59:48.992Z"
   },
   {
    "duration": 112,
    "start_time": "2025-04-23T07:59:49.002Z"
   },
   {
    "duration": 70,
    "start_time": "2025-04-23T07:59:49.115Z"
   },
   {
    "duration": 25,
    "start_time": "2025-04-23T07:59:49.189Z"
   },
   {
    "duration": 28,
    "start_time": "2025-04-23T07:59:49.215Z"
   },
   {
    "duration": 51,
    "start_time": "2025-04-23T07:59:49.244Z"
   },
   {
    "duration": 14,
    "start_time": "2025-04-23T07:59:49.296Z"
   },
   {
    "duration": 2,
    "start_time": "2025-04-23T07:59:49.312Z"
   },
   {
    "duration": 193,
    "start_time": "2025-04-23T07:59:49.316Z"
   },
   {
    "duration": 3,
    "start_time": "2025-04-23T07:59:49.510Z"
   },
   {
    "duration": 58,
    "start_time": "2025-04-23T07:59:49.514Z"
   },
   {
    "duration": 135,
    "start_time": "2025-04-23T07:59:49.573Z"
   },
   {
    "duration": 185,
    "start_time": "2025-04-23T07:59:49.709Z"
   },
   {
    "duration": 248,
    "start_time": "2025-04-23T07:59:49.896Z"
   },
   {
    "duration": 55,
    "start_time": "2025-04-23T07:59:50.146Z"
   },
   {
    "duration": 200,
    "start_time": "2025-04-23T07:59:50.203Z"
   },
   {
    "duration": 183,
    "start_time": "2025-04-23T07:59:50.405Z"
   },
   {
    "duration": 211,
    "start_time": "2025-04-23T07:59:50.590Z"
   },
   {
    "duration": 2972,
    "start_time": "2025-04-23T07:59:50.804Z"
   },
   {
    "duration": 48,
    "start_time": "2025-04-23T07:59:53.781Z"
   },
   {
    "duration": 40,
    "start_time": "2025-04-23T07:59:53.831Z"
   },
   {
    "duration": 134,
    "start_time": "2025-04-23T07:59:53.872Z"
   },
   {
    "duration": 9,
    "start_time": "2025-04-23T07:59:54.007Z"
   },
   {
    "duration": 16,
    "start_time": "2025-04-23T07:59:54.018Z"
   },
   {
    "duration": 236,
    "start_time": "2025-04-23T07:59:54.035Z"
   },
   {
    "duration": 117,
    "start_time": "2025-04-23T07:59:54.278Z"
   },
   {
    "duration": 0,
    "start_time": "2025-04-23T07:59:54.397Z"
   },
   {
    "duration": 0,
    "start_time": "2025-04-23T07:59:54.398Z"
   },
   {
    "duration": 0,
    "start_time": "2025-04-23T07:59:54.399Z"
   },
   {
    "duration": 0,
    "start_time": "2025-04-23T07:59:54.400Z"
   },
   {
    "duration": 0,
    "start_time": "2025-04-23T07:59:54.400Z"
   },
   {
    "duration": 0,
    "start_time": "2025-04-23T07:59:54.402Z"
   },
   {
    "duration": 0,
    "start_time": "2025-04-23T07:59:54.403Z"
   },
   {
    "duration": 0,
    "start_time": "2025-04-23T07:59:54.404Z"
   },
   {
    "duration": 0,
    "start_time": "2025-04-23T07:59:54.404Z"
   },
   {
    "duration": 0,
    "start_time": "2025-04-23T07:59:54.406Z"
   },
   {
    "duration": 11,
    "start_time": "2025-04-23T08:02:20.905Z"
   },
   {
    "duration": 12,
    "start_time": "2025-04-23T08:02:39.381Z"
   },
   {
    "duration": 370,
    "start_time": "2025-04-23T08:02:58.402Z"
   },
   {
    "duration": 10,
    "start_time": "2025-04-23T08:03:09.003Z"
   },
   {
    "duration": 16,
    "start_time": "2025-04-23T08:03:22.307Z"
   },
   {
    "duration": 126,
    "start_time": "2025-04-23T08:03:27.478Z"
   },
   {
    "duration": 1416,
    "start_time": "2025-04-23T08:03:39.956Z"
   },
   {
    "duration": 8,
    "start_time": "2025-04-23T08:03:46.595Z"
   },
   {
    "duration": 434,
    "start_time": "2025-04-23T08:03:51.827Z"
   },
   {
    "duration": 9,
    "start_time": "2025-04-23T08:04:00.323Z"
   },
   {
    "duration": 405,
    "start_time": "2025-04-23T08:05:38.134Z"
   },
   {
    "duration": 342,
    "start_time": "2025-04-23T08:06:08.230Z"
   },
   {
    "duration": 349,
    "start_time": "2025-04-23T08:06:39.149Z"
   },
   {
    "duration": 11,
    "start_time": "2025-04-23T08:06:53.637Z"
   },
   {
    "duration": 13,
    "start_time": "2025-04-23T08:07:03.541Z"
   },
   {
    "duration": 366,
    "start_time": "2025-04-23T08:07:27.272Z"
   },
   {
    "duration": 399,
    "start_time": "2025-04-23T08:07:42.686Z"
   },
   {
    "duration": 10,
    "start_time": "2025-04-23T08:08:23.215Z"
   },
   {
    "duration": 8,
    "start_time": "2025-04-23T08:08:46.733Z"
   },
   {
    "duration": 8,
    "start_time": "2025-04-23T08:09:10.846Z"
   },
   {
    "duration": 348,
    "start_time": "2025-04-23T08:09:32.310Z"
   },
   {
    "duration": 21,
    "start_time": "2025-04-23T08:09:42.463Z"
   },
   {
    "duration": 371,
    "start_time": "2025-04-23T08:09:51.827Z"
   },
   {
    "duration": 380,
    "start_time": "2025-04-23T08:10:02.206Z"
   },
   {
    "duration": 339,
    "start_time": "2025-04-23T08:10:28.646Z"
   },
   {
    "duration": 331,
    "start_time": "2025-04-23T08:10:33.953Z"
   },
   {
    "duration": 334,
    "start_time": "2025-04-23T08:10:40.180Z"
   },
   {
    "duration": 414,
    "start_time": "2025-04-23T08:10:53.294Z"
   },
   {
    "duration": 3,
    "start_time": "2025-04-23T08:11:00.454Z"
   },
   {
    "duration": 445,
    "start_time": "2025-04-23T08:11:03.238Z"
   },
   {
    "duration": 9,
    "start_time": "2025-04-23T08:11:19.703Z"
   },
   {
    "duration": 7,
    "start_time": "2025-04-23T09:17:42.232Z"
   },
   {
    "duration": 16,
    "start_time": "2025-04-23T09:17:50.439Z"
   },
   {
    "duration": 83,
    "start_time": "2025-04-23T09:18:24.608Z"
   },
   {
    "duration": 6,
    "start_time": "2025-04-23T09:24:45.648Z"
   },
   {
    "duration": 28,
    "start_time": "2025-04-23T09:24:50.097Z"
   },
   {
    "duration": 106,
    "start_time": "2025-04-23T09:27:19.069Z"
   },
   {
    "duration": 25,
    "start_time": "2025-04-23T09:27:26.075Z"
   },
   {
    "duration": 24,
    "start_time": "2025-04-23T09:27:54.415Z"
   },
   {
    "duration": 26,
    "start_time": "2025-04-23T09:29:10.736Z"
   },
   {
    "duration": 9,
    "start_time": "2025-04-23T09:29:30.997Z"
   },
   {
    "duration": 8,
    "start_time": "2025-04-23T09:29:45.989Z"
   },
   {
    "duration": 12,
    "start_time": "2025-04-23T09:29:47.980Z"
   },
   {
    "duration": 24,
    "start_time": "2025-04-23T09:29:48.875Z"
   },
   {
    "duration": 6,
    "start_time": "2025-04-23T09:30:04.459Z"
   },
   {
    "duration": 13,
    "start_time": "2025-04-23T09:30:05.310Z"
   },
   {
    "duration": 37,
    "start_time": "2025-04-23T09:32:50.356Z"
   },
   {
    "duration": 25,
    "start_time": "2025-04-23T09:32:51.453Z"
   },
   {
    "duration": 100,
    "start_time": "2025-04-23T09:32:53.141Z"
   },
   {
    "duration": 7,
    "start_time": "2025-04-23T09:32:56.269Z"
   },
   {
    "duration": 9,
    "start_time": "2025-04-23T09:32:56.585Z"
   },
   {
    "duration": 8,
    "start_time": "2025-04-23T09:33:02.133Z"
   },
   {
    "duration": 12,
    "start_time": "2025-04-23T09:35:36.391Z"
   },
   {
    "duration": 10,
    "start_time": "2025-04-23T09:35:56.559Z"
   },
   {
    "duration": 19,
    "start_time": "2025-04-23T09:36:29.057Z"
   },
   {
    "duration": 162,
    "start_time": "2025-04-23T09:36:31.137Z"
   },
   {
    "duration": 8,
    "start_time": "2025-04-23T09:36:32.876Z"
   },
   {
    "duration": 10,
    "start_time": "2025-04-23T09:36:33.288Z"
   },
   {
    "duration": 8,
    "start_time": "2025-04-23T09:36:36.600Z"
   },
   {
    "duration": 5,
    "start_time": "2025-04-23T09:36:38.847Z"
   },
   {
    "duration": 11,
    "start_time": "2025-04-23T09:36:40.208Z"
   },
   {
    "duration": 61,
    "start_time": "2025-04-23T09:36:43.845Z"
   },
   {
    "duration": 10,
    "start_time": "2025-04-23T09:38:52.232Z"
   },
   {
    "duration": 94,
    "start_time": "2025-04-23T09:39:30.551Z"
   },
   {
    "duration": 8,
    "start_time": "2025-04-23T09:39:37.832Z"
   },
   {
    "duration": 52,
    "start_time": "2025-04-23T09:40:24.441Z"
   },
   {
    "duration": 60,
    "start_time": "2025-04-23T09:40:57.722Z"
   },
   {
    "duration": 34,
    "start_time": "2025-04-23T09:42:27.235Z"
   },
   {
    "duration": 19,
    "start_time": "2025-04-23T09:42:28.442Z"
   },
   {
    "duration": 99,
    "start_time": "2025-04-23T09:42:28.984Z"
   },
   {
    "duration": 7,
    "start_time": "2025-04-23T09:42:31.041Z"
   },
   {
    "duration": 9,
    "start_time": "2025-04-23T09:42:31.635Z"
   },
   {
    "duration": 9,
    "start_time": "2025-04-23T09:42:33.241Z"
   },
   {
    "duration": 5,
    "start_time": "2025-04-23T09:42:36.057Z"
   },
   {
    "duration": 54,
    "start_time": "2025-04-23T09:42:39.299Z"
   },
   {
    "duration": 35,
    "start_time": "2025-04-23T09:43:02.493Z"
   },
   {
    "duration": 18,
    "start_time": "2025-04-23T09:43:02.718Z"
   },
   {
    "duration": 99,
    "start_time": "2025-04-23T09:43:03.423Z"
   },
   {
    "duration": 7,
    "start_time": "2025-04-23T09:43:03.551Z"
   },
   {
    "duration": 10,
    "start_time": "2025-04-23T09:43:03.646Z"
   },
   {
    "duration": 10,
    "start_time": "2025-04-23T09:43:04.713Z"
   },
   {
    "duration": 6,
    "start_time": "2025-04-23T09:43:08.601Z"
   },
   {
    "duration": 7,
    "start_time": "2025-04-23T09:43:57.771Z"
   },
   {
    "duration": 24,
    "start_time": "2025-04-23T09:43:59.348Z"
   },
   {
    "duration": 7,
    "start_time": "2025-04-23T09:44:09.107Z"
   },
   {
    "duration": 27,
    "start_time": "2025-04-23T09:44:10.475Z"
   },
   {
    "duration": 37,
    "start_time": "2025-04-23T09:44:46.156Z"
   },
   {
    "duration": 26,
    "start_time": "2025-04-23T09:44:56.243Z"
   },
   {
    "duration": 27,
    "start_time": "2025-04-23T09:45:01.588Z"
   },
   {
    "duration": 139,
    "start_time": "2025-04-23T09:45:33.011Z"
   },
   {
    "duration": 185,
    "start_time": "2025-04-23T09:45:33.442Z"
   },
   {
    "duration": 2535,
    "start_time": "2025-04-23T09:45:33.851Z"
   },
   {
    "duration": 43,
    "start_time": "2025-04-23T09:45:36.388Z"
   },
   {
    "duration": 37,
    "start_time": "2025-04-23T09:45:36.433Z"
   },
   {
    "duration": 105,
    "start_time": "2025-04-23T09:45:36.472Z"
   },
   {
    "duration": 8,
    "start_time": "2025-04-23T09:45:38.070Z"
   },
   {
    "duration": 9,
    "start_time": "2025-04-23T09:45:38.500Z"
   },
   {
    "duration": 8,
    "start_time": "2025-04-23T09:45:41.539Z"
   },
   {
    "duration": 3,
    "start_time": "2025-04-23T09:45:55.667Z"
   },
   {
    "duration": 23,
    "start_time": "2025-04-23T09:46:01.180Z"
   },
   {
    "duration": 7,
    "start_time": "2025-04-23T09:46:11.658Z"
   },
   {
    "duration": 24,
    "start_time": "2025-04-23T09:46:13.083Z"
   },
   {
    "duration": 2,
    "start_time": "2025-04-23T09:46:19.767Z"
   },
   {
    "duration": 23,
    "start_time": "2025-04-23T09:46:20.619Z"
   },
   {
    "duration": 3,
    "start_time": "2025-04-23T09:46:34.067Z"
   },
   {
    "duration": 6,
    "start_time": "2025-04-23T09:46:34.964Z"
   },
   {
    "duration": 25,
    "start_time": "2025-04-23T09:46:36.251Z"
   },
   {
    "duration": 3,
    "start_time": "2025-04-23T09:46:42.181Z"
   },
   {
    "duration": 25,
    "start_time": "2025-04-23T09:46:43.445Z"
   },
   {
    "duration": 23,
    "start_time": "2025-04-23T09:46:53.589Z"
   },
   {
    "duration": 94,
    "start_time": "2025-04-23T09:47:16.804Z"
   },
   {
    "duration": 1663,
    "start_time": "2025-04-23T09:47:17.958Z"
   },
   {
    "duration": 0,
    "start_time": "2025-04-23T09:47:19.623Z"
   },
   {
    "duration": 21,
    "start_time": "2025-04-23T09:47:19.987Z"
   },
   {
    "duration": 6,
    "start_time": "2025-04-23T09:48:14.814Z"
   },
   {
    "duration": 3612,
    "start_time": "2025-04-23T09:49:44.313Z"
   },
   {
    "duration": 2576,
    "start_time": "2025-04-23T09:49:47.927Z"
   },
   {
    "duration": 3,
    "start_time": "2025-04-23T09:49:50.505Z"
   },
   {
    "duration": 35,
    "start_time": "2025-04-23T09:49:50.509Z"
   },
   {
    "duration": 117,
    "start_time": "2025-04-23T09:49:50.546Z"
   },
   {
    "duration": 16,
    "start_time": "2025-04-23T09:49:50.665Z"
   },
   {
    "duration": 77,
    "start_time": "2025-04-23T09:49:50.682Z"
   },
   {
    "duration": 46,
    "start_time": "2025-04-23T09:49:50.761Z"
   },
   {
    "duration": 11,
    "start_time": "2025-04-23T09:49:50.808Z"
   },
   {
    "duration": 119,
    "start_time": "2025-04-23T09:49:50.821Z"
   },
   {
    "duration": 56,
    "start_time": "2025-04-23T09:49:50.942Z"
   },
   {
    "duration": 25,
    "start_time": "2025-04-23T09:49:50.999Z"
   },
   {
    "duration": 51,
    "start_time": "2025-04-23T09:49:51.026Z"
   },
   {
    "duration": 21,
    "start_time": "2025-04-23T09:49:51.080Z"
   },
   {
    "duration": 30,
    "start_time": "2025-04-23T09:49:51.102Z"
   },
   {
    "duration": 3,
    "start_time": "2025-04-23T09:49:51.134Z"
   },
   {
    "duration": 188,
    "start_time": "2025-04-23T09:49:51.138Z"
   },
   {
    "duration": 3,
    "start_time": "2025-04-23T09:49:51.327Z"
   },
   {
    "duration": 87,
    "start_time": "2025-04-23T09:49:51.332Z"
   },
   {
    "duration": 120,
    "start_time": "2025-04-23T09:49:51.421Z"
   },
   {
    "duration": 162,
    "start_time": "2025-04-23T09:49:51.543Z"
   },
   {
    "duration": 218,
    "start_time": "2025-04-23T09:49:51.707Z"
   },
   {
    "duration": 64,
    "start_time": "2025-04-23T09:49:51.926Z"
   },
   {
    "duration": 178,
    "start_time": "2025-04-23T09:49:51.992Z"
   },
   {
    "duration": 163,
    "start_time": "2025-04-23T09:49:52.172Z"
   },
   {
    "duration": 227,
    "start_time": "2025-04-23T09:49:52.336Z"
   },
   {
    "duration": 2681,
    "start_time": "2025-04-23T09:49:52.565Z"
   },
   {
    "duration": 66,
    "start_time": "2025-04-23T09:49:55.248Z"
   },
   {
    "duration": 21,
    "start_time": "2025-04-23T09:49:55.316Z"
   },
   {
    "duration": 126,
    "start_time": "2025-04-23T09:49:55.339Z"
   },
   {
    "duration": 9,
    "start_time": "2025-04-23T09:49:55.467Z"
   },
   {
    "duration": 11,
    "start_time": "2025-04-23T09:49:55.478Z"
   },
   {
    "duration": 10,
    "start_time": "2025-04-23T09:49:55.491Z"
   },
   {
    "duration": 10,
    "start_time": "2025-04-23T09:49:55.502Z"
   },
   {
    "duration": 6,
    "start_time": "2025-04-23T09:49:55.514Z"
   },
   {
    "duration": 0,
    "start_time": "2025-04-23T09:49:55.522Z"
   },
   {
    "duration": 0,
    "start_time": "2025-04-23T09:49:55.523Z"
   },
   {
    "duration": 0,
    "start_time": "2025-04-23T09:49:55.525Z"
   },
   {
    "duration": 0,
    "start_time": "2025-04-23T09:49:55.562Z"
   },
   {
    "duration": 1,
    "start_time": "2025-04-23T09:49:55.563Z"
   },
   {
    "duration": 0,
    "start_time": "2025-04-23T09:49:55.565Z"
   },
   {
    "duration": 0,
    "start_time": "2025-04-23T09:49:55.567Z"
   },
   {
    "duration": 0,
    "start_time": "2025-04-23T09:49:55.568Z"
   },
   {
    "duration": 0,
    "start_time": "2025-04-23T09:49:55.570Z"
   },
   {
    "duration": 0,
    "start_time": "2025-04-23T09:49:55.571Z"
   },
   {
    "duration": 0,
    "start_time": "2025-04-23T09:49:55.573Z"
   },
   {
    "duration": 2,
    "start_time": "2025-04-23T09:51:15.079Z"
   },
   {
    "duration": 109,
    "start_time": "2025-04-23T09:51:15.083Z"
   },
   {
    "duration": 4858,
    "start_time": "2025-04-23T09:51:15.194Z"
   },
   {
    "duration": 50,
    "start_time": "2025-04-23T09:51:20.054Z"
   },
   {
    "duration": 25,
    "start_time": "2025-04-23T09:51:20.106Z"
   },
   {
    "duration": 175,
    "start_time": "2025-04-23T09:51:20.133Z"
   },
   {
    "duration": 391,
    "start_time": "2025-04-23T09:51:20.310Z"
   },
   {
    "duration": 72,
    "start_time": "2025-04-23T09:51:20.702Z"
   },
   {
    "duration": 55,
    "start_time": "2025-04-23T09:51:20.776Z"
   },
   {
    "duration": 31,
    "start_time": "2025-04-23T09:51:20.832Z"
   },
   {
    "duration": 27,
    "start_time": "2025-04-23T09:51:20.865Z"
   },
   {
    "duration": 3822,
    "start_time": "2025-04-23T09:51:20.893Z"
   },
   {
    "duration": 11,
    "start_time": "2025-04-23T09:51:42.079Z"
   },
   {
    "duration": 24,
    "start_time": "2025-04-23T09:52:08.608Z"
   },
   {
    "duration": 107,
    "start_time": "2025-04-23T09:57:17.940Z"
   },
   {
    "duration": 89,
    "start_time": "2025-04-23T09:57:34.148Z"
   },
   {
    "duration": 90,
    "start_time": "2025-04-23T09:58:14.062Z"
   },
   {
    "duration": 9,
    "start_time": "2025-04-23T09:59:10.869Z"
   },
   {
    "duration": 26,
    "start_time": "2025-04-23T10:03:19.979Z"
   },
   {
    "duration": 454,
    "start_time": "2025-04-23T10:04:08.743Z"
   },
   {
    "duration": 39,
    "start_time": "2025-04-23T10:04:09.414Z"
   },
   {
    "duration": 21,
    "start_time": "2025-04-23T10:04:09.749Z"
   },
   {
    "duration": 122,
    "start_time": "2025-04-23T10:04:10.245Z"
   },
   {
    "duration": 8,
    "start_time": "2025-04-23T10:04:11.086Z"
   },
   {
    "duration": 10,
    "start_time": "2025-04-23T10:04:11.303Z"
   },
   {
    "duration": 9,
    "start_time": "2025-04-23T10:04:11.725Z"
   },
   {
    "duration": 5,
    "start_time": "2025-04-23T10:04:12.589Z"
   },
   {
    "duration": 63,
    "start_time": "2025-04-23T10:04:13.695Z"
   },
   {
    "duration": 16,
    "start_time": "2025-04-23T10:04:14.134Z"
   },
   {
    "duration": 2,
    "start_time": "2025-04-23T10:04:15.358Z"
   },
   {
    "duration": 3874,
    "start_time": "2025-04-23T10:04:28.805Z"
   },
   {
    "duration": 2646,
    "start_time": "2025-04-23T10:04:32.681Z"
   },
   {
    "duration": 3,
    "start_time": "2025-04-23T10:04:35.328Z"
   },
   {
    "duration": 22,
    "start_time": "2025-04-23T10:04:35.333Z"
   },
   {
    "duration": 126,
    "start_time": "2025-04-23T10:04:35.357Z"
   },
   {
    "duration": 21,
    "start_time": "2025-04-23T10:04:35.484Z"
   },
   {
    "duration": 76,
    "start_time": "2025-04-23T10:04:35.507Z"
   },
   {
    "duration": 89,
    "start_time": "2025-04-23T10:04:35.585Z"
   },
   {
    "duration": 11,
    "start_time": "2025-04-23T10:04:35.675Z"
   },
   {
    "duration": 133,
    "start_time": "2025-04-23T10:04:35.689Z"
   },
   {
    "duration": 51,
    "start_time": "2025-04-23T10:04:35.823Z"
   },
   {
    "duration": 33,
    "start_time": "2025-04-23T10:04:35.876Z"
   },
   {
    "duration": 36,
    "start_time": "2025-04-23T10:04:35.910Z"
   },
   {
    "duration": 22,
    "start_time": "2025-04-23T10:04:35.948Z"
   },
   {
    "duration": 17,
    "start_time": "2025-04-23T10:04:35.972Z"
   },
   {
    "duration": 25,
    "start_time": "2025-04-23T10:04:35.990Z"
   },
   {
    "duration": 183,
    "start_time": "2025-04-23T10:04:36.016Z"
   },
   {
    "duration": 3,
    "start_time": "2025-04-23T10:04:36.201Z"
   },
   {
    "duration": 167,
    "start_time": "2025-04-23T10:04:36.205Z"
   },
   {
    "duration": 152,
    "start_time": "2025-04-23T10:04:36.373Z"
   },
   {
    "duration": 175,
    "start_time": "2025-04-23T10:04:36.527Z"
   },
   {
    "duration": 237,
    "start_time": "2025-04-23T10:04:36.704Z"
   },
   {
    "duration": 64,
    "start_time": "2025-04-23T10:04:36.942Z"
   },
   {
    "duration": 204,
    "start_time": "2025-04-23T10:04:37.008Z"
   },
   {
    "duration": 173,
    "start_time": "2025-04-23T10:04:37.214Z"
   },
   {
    "duration": 240,
    "start_time": "2025-04-23T10:04:37.389Z"
   },
   {
    "duration": 2780,
    "start_time": "2025-04-23T10:04:37.631Z"
   },
   {
    "duration": 66,
    "start_time": "2025-04-23T10:04:40.414Z"
   },
   {
    "duration": 63,
    "start_time": "2025-04-23T10:04:40.482Z"
   },
   {
    "duration": 113,
    "start_time": "2025-04-23T10:04:40.547Z"
   },
   {
    "duration": 9,
    "start_time": "2025-04-23T10:04:40.662Z"
   },
   {
    "duration": 115,
    "start_time": "2025-04-23T10:04:40.672Z"
   },
   {
    "duration": 9,
    "start_time": "2025-04-23T10:04:40.788Z"
   },
   {
    "duration": 5,
    "start_time": "2025-04-23T10:04:40.799Z"
   },
   {
    "duration": 68,
    "start_time": "2025-04-23T10:04:40.806Z"
   },
   {
    "duration": 18,
    "start_time": "2025-04-23T10:04:40.876Z"
   },
   {
    "duration": 2,
    "start_time": "2025-04-23T10:04:40.896Z"
   },
   {
    "duration": 5453,
    "start_time": "2025-04-23T10:04:40.900Z"
   },
   {
    "duration": 51,
    "start_time": "2025-04-23T10:04:46.355Z"
   },
   {
    "duration": 22,
    "start_time": "2025-04-23T10:04:46.408Z"
   },
   {
    "duration": 273,
    "start_time": "2025-04-23T10:04:46.432Z"
   },
   {
    "duration": 420,
    "start_time": "2025-04-23T10:04:46.707Z"
   },
   {
    "duration": 76,
    "start_time": "2025-04-23T10:04:47.129Z"
   },
   {
    "duration": 73,
    "start_time": "2025-04-23T10:04:47.207Z"
   },
   {
    "duration": 21,
    "start_time": "2025-04-23T10:04:47.282Z"
   },
   {
    "duration": 34,
    "start_time": "2025-04-23T10:04:47.305Z"
   },
   {
    "duration": 3211,
    "start_time": "2025-04-23T10:04:47.362Z"
   },
   {
    "duration": 38,
    "start_time": "2025-04-23T10:10:06.693Z"
   },
   {
    "duration": 34,
    "start_time": "2025-04-23T10:10:28.150Z"
   },
   {
    "duration": 32,
    "start_time": "2025-04-23T10:24:06.100Z"
   },
   {
    "duration": 1365,
    "start_time": "2025-04-23T10:27:48.542Z"
   },
   {
    "duration": 13,
    "start_time": "2025-04-23T10:28:00.280Z"
   },
   {
    "duration": 12,
    "start_time": "2025-04-23T10:28:56.538Z"
   },
   {
    "duration": 11,
    "start_time": "2025-04-23T10:29:37.902Z"
   },
   {
    "duration": 23,
    "start_time": "2025-04-23T10:29:53.198Z"
   },
   {
    "duration": 12,
    "start_time": "2025-04-23T10:30:13.488Z"
   },
   {
    "duration": 13,
    "start_time": "2025-04-23T10:30:21.223Z"
   },
   {
    "duration": 9,
    "start_time": "2025-04-23T10:30:45.847Z"
   },
   {
    "duration": 12,
    "start_time": "2025-04-23T10:33:56.185Z"
   },
   {
    "duration": 35,
    "start_time": "2025-04-23T10:34:47.273Z"
   },
   {
    "duration": 32,
    "start_time": "2025-04-23T10:35:02.583Z"
   },
   {
    "duration": 16,
    "start_time": "2025-04-23T10:35:53.778Z"
   },
   {
    "duration": 13,
    "start_time": "2025-04-23T10:36:11.194Z"
   },
   {
    "duration": 11,
    "start_time": "2025-04-23T10:37:28.685Z"
   },
   {
    "duration": 10,
    "start_time": "2025-04-23T10:37:37.522Z"
   },
   {
    "duration": 31,
    "start_time": "2025-04-23T10:37:50.332Z"
   },
   {
    "duration": 20,
    "start_time": "2025-04-23T10:40:24.033Z"
   },
   {
    "duration": 146,
    "start_time": "2025-04-23T10:40:37.898Z"
   },
   {
    "duration": 11,
    "start_time": "2025-04-23T10:41:09.172Z"
   },
   {
    "duration": 122,
    "start_time": "2025-04-23T10:41:39.587Z"
   },
   {
    "duration": 108,
    "start_time": "2025-04-23T10:42:21.077Z"
   },
   {
    "duration": 103,
    "start_time": "2025-04-23T10:42:55.406Z"
   },
   {
    "duration": 124,
    "start_time": "2025-04-23T10:43:05.742Z"
   },
   {
    "duration": 32,
    "start_time": "2025-04-23T10:43:16.963Z"
   },
   {
    "duration": 32,
    "start_time": "2025-04-23T10:43:46.188Z"
   },
   {
    "duration": 195,
    "start_time": "2025-04-23T10:46:45.750Z"
   },
   {
    "duration": 170,
    "start_time": "2025-04-23T10:47:00.214Z"
   },
   {
    "duration": 110,
    "start_time": "2025-04-23T10:48:55.767Z"
   },
   {
    "duration": 112,
    "start_time": "2025-04-23T10:49:08.144Z"
   },
   {
    "duration": 95,
    "start_time": "2025-04-23T10:52:19.151Z"
   },
   {
    "duration": 11,
    "start_time": "2025-04-23T10:52:24.016Z"
   },
   {
    "duration": 163,
    "start_time": "2025-04-23T10:52:34.618Z"
   },
   {
    "duration": 13,
    "start_time": "2025-04-23T10:55:24.875Z"
   },
   {
    "duration": 136,
    "start_time": "2025-04-23T10:55:47.146Z"
   },
   {
    "duration": 12,
    "start_time": "2025-04-23T10:55:55.979Z"
   },
   {
    "duration": 12,
    "start_time": "2025-04-23T10:57:12.787Z"
   },
   {
    "duration": 199,
    "start_time": "2025-04-23T10:57:20.958Z"
   },
   {
    "duration": 202,
    "start_time": "2025-04-23T10:58:15.387Z"
   },
   {
    "duration": 198,
    "start_time": "2025-04-23T10:58:32.428Z"
   },
   {
    "duration": 195,
    "start_time": "2025-04-23T10:59:05.988Z"
   },
   {
    "duration": 207,
    "start_time": "2025-04-23T11:00:18.693Z"
   },
   {
    "duration": 265,
    "start_time": "2025-04-23T11:00:28.109Z"
   },
   {
    "duration": 198,
    "start_time": "2025-04-23T11:00:40.509Z"
   },
   {
    "duration": 13,
    "start_time": "2025-04-23T11:01:34.812Z"
   },
   {
    "duration": 13,
    "start_time": "2025-04-23T11:02:19.437Z"
   },
   {
    "duration": 1525,
    "start_time": "2025-04-23T11:02:30.437Z"
   },
   {
    "duration": 19,
    "start_time": "2025-04-23T11:02:51.252Z"
   },
   {
    "duration": 14,
    "start_time": "2025-04-23T11:05:24.070Z"
   },
   {
    "duration": 531,
    "start_time": "2025-04-23T11:06:10.016Z"
   },
   {
    "duration": 656,
    "start_time": "2025-04-23T11:06:45.071Z"
   },
   {
    "duration": 20,
    "start_time": "2025-04-23T11:08:55.016Z"
   },
   {
    "duration": 10,
    "start_time": "2025-04-23T11:09:06.408Z"
   },
   {
    "duration": 21,
    "start_time": "2025-04-23T11:09:10.097Z"
   },
   {
    "duration": 14,
    "start_time": "2025-04-23T11:09:17.514Z"
   },
   {
    "duration": 95,
    "start_time": "2025-04-23T11:09:36.441Z"
   },
   {
    "duration": 11,
    "start_time": "2025-04-23T11:09:39.655Z"
   },
   {
    "duration": 1461,
    "start_time": "2025-04-23T11:09:46.209Z"
   },
   {
    "duration": 16,
    "start_time": "2025-04-23T11:10:11.955Z"
   },
   {
    "duration": 4,
    "start_time": "2025-04-23T11:12:22.098Z"
   },
   {
    "duration": 13,
    "start_time": "2025-04-23T11:22:52.846Z"
   },
   {
    "duration": 41,
    "start_time": "2025-04-23T11:24:58.910Z"
   },
   {
    "duration": 18,
    "start_time": "2025-04-23T11:25:37.120Z"
   },
   {
    "duration": 1297,
    "start_time": "2025-04-23T11:25:53.270Z"
   },
   {
    "duration": 7,
    "start_time": "2025-04-23T11:26:09.407Z"
   },
   {
    "duration": 20,
    "start_time": "2025-04-23T11:26:14.582Z"
   },
   {
    "duration": 26,
    "start_time": "2025-04-23T11:26:22.327Z"
   },
   {
    "duration": 2941,
    "start_time": "2025-04-23T11:26:48.440Z"
   },
   {
    "duration": 3211,
    "start_time": "2025-04-23T11:28:37.071Z"
   },
   {
    "duration": 13,
    "start_time": "2025-04-23T11:29:07.800Z"
   },
   {
    "duration": 189,
    "start_time": "2025-04-23T11:29:57.964Z"
   },
   {
    "duration": 557,
    "start_time": "2025-04-23T11:35:32.300Z"
   },
   {
    "duration": 169,
    "start_time": "2025-04-23T11:37:09.533Z"
   },
   {
    "duration": 177,
    "start_time": "2025-04-23T11:37:33.964Z"
   },
   {
    "duration": 48,
    "start_time": "2025-04-23T11:37:45.261Z"
   },
   {
    "duration": 56,
    "start_time": "2025-04-23T11:39:06.981Z"
   },
   {
    "duration": 160,
    "start_time": "2025-04-23T11:39:23.061Z"
   },
   {
    "duration": 106,
    "start_time": "2025-04-23T11:39:31.022Z"
   },
   {
    "duration": 300,
    "start_time": "2025-04-23T11:39:49.685Z"
   },
   {
    "duration": 12,
    "start_time": "2025-04-23T11:40:03.118Z"
   },
   {
    "duration": 206,
    "start_time": "2025-04-23T11:40:32.006Z"
   },
   {
    "duration": 264,
    "start_time": "2025-04-23T11:40:45.391Z"
   },
   {
    "duration": 261,
    "start_time": "2025-04-23T11:41:05.422Z"
   },
   {
    "duration": 188,
    "start_time": "2025-04-23T11:41:12.055Z"
   },
   {
    "duration": 117,
    "start_time": "2025-04-23T11:41:21.591Z"
   },
   {
    "duration": 78,
    "start_time": "2025-04-23T11:45:57.385Z"
   },
   {
    "duration": 56,
    "start_time": "2025-04-23T11:46:49.194Z"
   },
   {
    "duration": 87,
    "start_time": "2025-04-23T11:47:13.290Z"
   },
   {
    "duration": 122,
    "start_time": "2025-04-23T13:04:22.857Z"
   },
   {
    "duration": 114,
    "start_time": "2025-04-23T13:04:49.706Z"
   },
   {
    "duration": 94,
    "start_time": "2025-04-23T13:05:14.835Z"
   },
   {
    "duration": 115,
    "start_time": "2025-04-23T13:05:38.355Z"
   },
   {
    "duration": 169,
    "start_time": "2025-04-23T13:05:59.083Z"
   },
   {
    "duration": 173,
    "start_time": "2025-04-23T13:06:04.115Z"
   },
   {
    "duration": 188,
    "start_time": "2025-04-23T13:06:10.635Z"
   },
   {
    "duration": 210,
    "start_time": "2025-04-23T13:06:14.796Z"
   },
   {
    "duration": 122,
    "start_time": "2025-04-23T13:09:21.020Z"
   },
   {
    "duration": 117,
    "start_time": "2025-04-23T13:09:30.610Z"
   },
   {
    "duration": 113,
    "start_time": "2025-04-23T13:25:07.091Z"
   },
   {
    "duration": 114,
    "start_time": "2025-04-23T13:29:35.358Z"
   },
   {
    "duration": 111,
    "start_time": "2025-04-23T13:32:45.503Z"
   },
   {
    "duration": 114,
    "start_time": "2025-04-23T13:32:53.945Z"
   },
   {
    "duration": 116,
    "start_time": "2025-04-23T13:33:00.662Z"
   },
   {
    "duration": 9,
    "start_time": "2025-04-23T13:45:47.452Z"
   },
   {
    "duration": 29,
    "start_time": "2025-04-23T13:45:54.387Z"
   },
   {
    "duration": 4,
    "start_time": "2025-04-23T13:47:20.847Z"
   },
   {
    "duration": 52,
    "start_time": "2025-04-23T21:30:00.472Z"
   },
   {
    "duration": 4758,
    "start_time": "2025-04-23T21:30:06.657Z"
   },
   {
    "duration": 1995,
    "start_time": "2025-04-23T21:30:11.418Z"
   },
   {
    "duration": 3,
    "start_time": "2025-04-23T21:30:13.415Z"
   },
   {
    "duration": 32,
    "start_time": "2025-04-23T21:30:13.421Z"
   },
   {
    "duration": 126,
    "start_time": "2025-04-23T21:30:13.455Z"
   },
   {
    "duration": 15,
    "start_time": "2025-04-23T21:30:13.584Z"
   },
   {
    "duration": 67,
    "start_time": "2025-04-23T21:30:13.601Z"
   },
   {
    "duration": 41,
    "start_time": "2025-04-23T21:30:13.670Z"
   },
   {
    "duration": 24,
    "start_time": "2025-04-23T21:30:13.713Z"
   },
   {
    "duration": 104,
    "start_time": "2025-04-23T21:30:13.740Z"
   },
   {
    "duration": 45,
    "start_time": "2025-04-23T21:30:13.845Z"
   },
   {
    "duration": 22,
    "start_time": "2025-04-23T21:30:13.892Z"
   },
   {
    "duration": 27,
    "start_time": "2025-04-23T21:30:13.937Z"
   },
   {
    "duration": 18,
    "start_time": "2025-04-23T21:30:13.965Z"
   },
   {
    "duration": 12,
    "start_time": "2025-04-23T21:30:13.985Z"
   },
   {
    "duration": 7,
    "start_time": "2025-04-23T21:30:13.998Z"
   },
   {
    "duration": 182,
    "start_time": "2025-04-23T21:30:14.006Z"
   },
   {
    "duration": 3,
    "start_time": "2025-04-23T21:30:14.189Z"
   },
   {
    "duration": 59,
    "start_time": "2025-04-23T21:30:14.193Z"
   },
   {
    "duration": 120,
    "start_time": "2025-04-23T21:30:14.253Z"
   },
   {
    "duration": 185,
    "start_time": "2025-04-23T21:30:14.375Z"
   },
   {
    "duration": 215,
    "start_time": "2025-04-23T21:30:14.562Z"
   },
   {
    "duration": 36,
    "start_time": "2025-04-23T21:30:14.778Z"
   },
   {
    "duration": 161,
    "start_time": "2025-04-23T21:30:14.836Z"
   },
   {
    "duration": 161,
    "start_time": "2025-04-23T21:30:14.998Z"
   },
   {
    "duration": 223,
    "start_time": "2025-04-23T21:30:15.161Z"
   },
   {
    "duration": 2762,
    "start_time": "2025-04-23T21:30:15.385Z"
   },
   {
    "duration": 47,
    "start_time": "2025-04-23T21:30:18.150Z"
   },
   {
    "duration": 39,
    "start_time": "2025-04-23T21:30:18.199Z"
   },
   {
    "duration": 109,
    "start_time": "2025-04-23T21:30:18.240Z"
   },
   {
    "duration": 7,
    "start_time": "2025-04-23T21:30:18.351Z"
   },
   {
    "duration": 12,
    "start_time": "2025-04-23T21:30:18.360Z"
   },
   {
    "duration": 8,
    "start_time": "2025-04-23T21:30:18.373Z"
   },
   {
    "duration": 4,
    "start_time": "2025-04-23T21:30:18.383Z"
   },
   {
    "duration": 70,
    "start_time": "2025-04-23T21:30:18.388Z"
   },
   {
    "duration": 16,
    "start_time": "2025-04-23T21:30:18.459Z"
   },
   {
    "duration": 173,
    "start_time": "2025-04-23T21:30:18.477Z"
   },
   {
    "duration": 4527,
    "start_time": "2025-04-23T21:30:18.651Z"
   },
   {
    "duration": 37,
    "start_time": "2025-04-23T21:30:23.180Z"
   },
   {
    "duration": 28,
    "start_time": "2025-04-23T21:30:23.218Z"
   },
   {
    "duration": 170,
    "start_time": "2025-04-23T21:30:23.248Z"
   },
   {
    "duration": 362,
    "start_time": "2025-04-23T21:30:23.420Z"
   },
   {
    "duration": 67,
    "start_time": "2025-04-23T21:30:23.783Z"
   },
   {
    "duration": 119,
    "start_time": "2025-04-23T21:30:23.851Z"
   },
   {
    "duration": 4,
    "start_time": "2025-04-23T21:30:23.972Z"
   },
   {
    "duration": 19,
    "start_time": "2025-04-23T21:30:23.977Z"
   },
   {
    "duration": 41,
    "start_time": "2025-04-23T21:30:23.998Z"
   },
   {
    "duration": 3199,
    "start_time": "2025-04-23T21:30:24.040Z"
   },
   {
    "duration": 108,
    "start_time": "2025-04-23T21:30:27.241Z"
   },
   {
    "duration": 117,
    "start_time": "2025-04-23T21:30:27.351Z"
   },
   {
    "duration": 28,
    "start_time": "2025-04-23T21:30:27.470Z"
   },
   {
    "duration": 5,
    "start_time": "2025-04-23T21:30:27.499Z"
   },
   {
    "duration": 111,
    "start_time": "2025-04-23T21:30:27.505Z"
   },
   {
    "duration": 47,
    "start_time": "2025-04-23T21:30:54.464Z"
   },
   {
    "duration": 5,
    "start_time": "2025-04-23T21:31:39.559Z"
   },
   {
    "duration": 25,
    "start_time": "2025-04-23T21:32:55.414Z"
   },
   {
    "duration": 67,
    "start_time": "2025-04-23T21:33:33.830Z"
   },
   {
    "duration": 89,
    "start_time": "2025-04-24T13:46:05.651Z"
   },
   {
    "duration": 43,
    "start_time": "2025-04-24T13:46:10.683Z"
   },
   {
    "duration": 4766,
    "start_time": "2025-04-24T13:46:15.631Z"
   },
   {
    "duration": 1932,
    "start_time": "2025-04-24T13:46:20.399Z"
   },
   {
    "duration": 2,
    "start_time": "2025-04-24T13:46:22.333Z"
   },
   {
    "duration": 70,
    "start_time": "2025-04-24T13:46:22.337Z"
   },
   {
    "duration": 119,
    "start_time": "2025-04-24T13:46:22.408Z"
   },
   {
    "duration": 15,
    "start_time": "2025-04-24T13:46:22.529Z"
   },
   {
    "duration": 47,
    "start_time": "2025-04-24T13:46:22.546Z"
   },
   {
    "duration": 64,
    "start_time": "2025-04-24T13:46:22.594Z"
   },
   {
    "duration": 10,
    "start_time": "2025-04-24T13:46:22.660Z"
   },
   {
    "duration": 123,
    "start_time": "2025-04-24T13:46:22.672Z"
   },
   {
    "duration": 47,
    "start_time": "2025-04-24T13:46:22.797Z"
   },
   {
    "duration": 23,
    "start_time": "2025-04-24T13:46:22.845Z"
   },
   {
    "duration": 29,
    "start_time": "2025-04-24T13:46:22.870Z"
   },
   {
    "duration": 49,
    "start_time": "2025-04-24T13:46:22.900Z"
   },
   {
    "duration": 13,
    "start_time": "2025-04-24T13:46:22.951Z"
   },
   {
    "duration": 5,
    "start_time": "2025-04-24T13:46:22.965Z"
   },
   {
    "duration": 178,
    "start_time": "2025-04-24T13:46:22.971Z"
   },
   {
    "duration": 3,
    "start_time": "2025-04-24T13:46:23.150Z"
   },
   {
    "duration": 56,
    "start_time": "2025-04-24T13:46:23.154Z"
   },
   {
    "duration": 136,
    "start_time": "2025-04-24T13:46:23.212Z"
   },
   {
    "duration": 163,
    "start_time": "2025-04-24T13:46:23.349Z"
   },
   {
    "duration": 238,
    "start_time": "2025-04-24T13:46:23.514Z"
   },
   {
    "duration": 36,
    "start_time": "2025-04-24T13:46:23.753Z"
   },
   {
    "duration": 178,
    "start_time": "2025-04-24T13:46:23.790Z"
   },
   {
    "duration": 156,
    "start_time": "2025-04-24T13:46:23.970Z"
   },
   {
    "duration": 227,
    "start_time": "2025-04-24T13:46:24.127Z"
   },
   {
    "duration": 2694,
    "start_time": "2025-04-24T13:46:24.356Z"
   },
   {
    "duration": 50,
    "start_time": "2025-04-24T13:46:27.054Z"
   },
   {
    "duration": 34,
    "start_time": "2025-04-24T13:46:27.106Z"
   },
   {
    "duration": 117,
    "start_time": "2025-04-24T13:46:27.141Z"
   },
   {
    "duration": 8,
    "start_time": "2025-04-24T13:46:27.259Z"
   },
   {
    "duration": 28,
    "start_time": "2025-04-24T13:46:27.268Z"
   },
   {
    "duration": 19,
    "start_time": "2025-04-24T13:46:27.298Z"
   },
   {
    "duration": 5,
    "start_time": "2025-04-24T13:46:27.318Z"
   },
   {
    "duration": 48,
    "start_time": "2025-04-24T13:46:27.325Z"
   },
   {
    "duration": 17,
    "start_time": "2025-04-24T13:46:27.375Z"
   },
   {
    "duration": 199,
    "start_time": "2025-04-24T13:46:27.394Z"
   },
   {
    "duration": 4720,
    "start_time": "2025-04-24T13:46:27.595Z"
   },
   {
    "duration": 47,
    "start_time": "2025-04-24T13:46:32.317Z"
   },
   {
    "duration": 31,
    "start_time": "2025-04-24T13:46:32.366Z"
   },
   {
    "duration": 173,
    "start_time": "2025-04-24T13:46:32.399Z"
   },
   {
    "duration": 394,
    "start_time": "2025-04-24T13:46:32.574Z"
   },
   {
    "duration": 71,
    "start_time": "2025-04-24T13:46:32.969Z"
   },
   {
    "duration": 57,
    "start_time": "2025-04-24T13:46:33.042Z"
   },
   {
    "duration": 4,
    "start_time": "2025-04-24T13:46:33.101Z"
   },
   {
    "duration": 39,
    "start_time": "2025-04-24T13:46:33.106Z"
   },
   {
    "duration": 27,
    "start_time": "2025-04-24T13:46:33.146Z"
   },
   {
    "duration": 3349,
    "start_time": "2025-04-24T13:46:33.174Z"
   },
   {
    "duration": 119,
    "start_time": "2025-04-24T13:46:36.524Z"
   },
   {
    "duration": 5,
    "start_time": "2025-04-24T13:46:36.645Z"
   },
   {
    "duration": 137,
    "start_time": "2025-04-24T13:46:36.651Z"
   },
   {
    "duration": 29,
    "start_time": "2025-04-24T13:46:36.790Z"
   },
   {
    "duration": 74,
    "start_time": "2025-04-24T13:46:36.821Z"
   },
   {
    "duration": 22,
    "start_time": "2025-04-24T13:46:36.897Z"
   },
   {
    "duration": 69,
    "start_time": "2025-04-24T13:46:36.921Z"
   },
   {
    "duration": 94,
    "start_time": "2025-04-24T13:49:35.603Z"
   },
   {
    "duration": 4,
    "start_time": "2025-04-24T13:49:39.891Z"
   },
   {
    "duration": 17,
    "start_time": "2025-04-24T13:52:19.900Z"
   },
   {
    "duration": 8,
    "start_time": "2025-04-24T13:52:42.868Z"
   },
   {
    "duration": 48,
    "start_time": "2025-04-24T13:53:03.812Z"
   },
   {
    "duration": 50,
    "start_time": "2025-04-24T13:54:25.604Z"
   },
   {
    "duration": 49,
    "start_time": "2025-04-24T13:55:31.108Z"
   },
   {
    "duration": 3300,
    "start_time": "2025-04-24T14:20:18.527Z"
   },
   {
    "duration": 99,
    "start_time": "2025-04-24T14:20:28.083Z"
   },
   {
    "duration": 5,
    "start_time": "2025-04-24T14:20:28.184Z"
   },
   {
    "duration": 136,
    "start_time": "2025-04-24T14:20:28.190Z"
   },
   {
    "duration": 29,
    "start_time": "2025-04-24T14:20:28.329Z"
   },
   {
    "duration": 114,
    "start_time": "2025-04-24T14:20:28.360Z"
   },
   {
    "duration": 25,
    "start_time": "2025-04-24T14:20:28.476Z"
   },
   {
    "duration": 90,
    "start_time": "2025-04-24T14:20:28.503Z"
   },
   {
    "duration": 32,
    "start_time": "2025-04-24T14:22:27.184Z"
   },
   {
    "duration": 2005,
    "start_time": "2025-04-24T14:38:26.816Z"
   },
   {
    "duration": 132,
    "start_time": "2025-04-24T14:38:53.496Z"
   },
   {
    "duration": 2429,
    "start_time": "2025-04-24T14:39:12.856Z"
   },
   {
    "duration": 1843,
    "start_time": "2025-04-24T14:39:16.449Z"
   },
   {
    "duration": 14,
    "start_time": "2025-04-24T14:39:24.176Z"
   },
   {
    "duration": 112,
    "start_time": "2025-04-24T14:48:02.936Z"
   },
   {
    "duration": 77,
    "start_time": "2025-04-24T14:48:17.768Z"
   },
   {
    "duration": 858,
    "start_time": "2025-04-24T14:48:35.897Z"
   },
   {
    "duration": 2499,
    "start_time": "2025-04-24T14:49:02.030Z"
   },
   {
    "duration": 2433,
    "start_time": "2025-04-24T14:49:04.531Z"
   },
   {
    "duration": 3,
    "start_time": "2025-04-24T14:49:06.966Z"
   },
   {
    "duration": 37,
    "start_time": "2025-04-24T14:49:06.971Z"
   },
   {
    "duration": 164,
    "start_time": "2025-04-24T14:49:07.009Z"
   },
   {
    "duration": 16,
    "start_time": "2025-04-24T14:49:07.175Z"
   },
   {
    "duration": 65,
    "start_time": "2025-04-24T14:49:07.193Z"
   },
   {
    "duration": 20,
    "start_time": "2025-04-24T14:49:07.260Z"
   },
   {
    "duration": 24,
    "start_time": "2025-04-24T14:49:07.282Z"
   },
   {
    "duration": 109,
    "start_time": "2025-04-24T14:49:07.309Z"
   },
   {
    "duration": 46,
    "start_time": "2025-04-24T14:49:07.419Z"
   },
   {
    "duration": 25,
    "start_time": "2025-04-24T14:49:07.467Z"
   },
   {
    "duration": 56,
    "start_time": "2025-04-24T14:49:07.494Z"
   },
   {
    "duration": 26,
    "start_time": "2025-04-24T14:49:07.552Z"
   },
   {
    "duration": 15,
    "start_time": "2025-04-24T14:49:07.580Z"
   },
   {
    "duration": 5,
    "start_time": "2025-04-24T14:49:07.597Z"
   },
   {
    "duration": 167,
    "start_time": "2025-04-24T14:49:07.604Z"
   },
   {
    "duration": 3,
    "start_time": "2025-04-24T14:49:07.773Z"
   },
   {
    "duration": 67,
    "start_time": "2025-04-24T14:49:07.777Z"
   },
   {
    "duration": 129,
    "start_time": "2025-04-24T14:49:07.846Z"
   },
   {
    "duration": 167,
    "start_time": "2025-04-24T14:49:07.977Z"
   },
   {
    "duration": 238,
    "start_time": "2025-04-24T14:49:08.146Z"
   },
   {
    "duration": 63,
    "start_time": "2025-04-24T14:49:08.386Z"
   },
   {
    "duration": 169,
    "start_time": "2025-04-24T14:49:08.450Z"
   },
   {
    "duration": 175,
    "start_time": "2025-04-24T14:49:08.620Z"
   },
   {
    "duration": 222,
    "start_time": "2025-04-24T14:49:08.797Z"
   },
   {
    "duration": 2705,
    "start_time": "2025-04-24T14:49:09.021Z"
   },
   {
    "duration": 47,
    "start_time": "2025-04-24T14:49:11.738Z"
   },
   {
    "duration": 20,
    "start_time": "2025-04-24T14:49:11.786Z"
   },
   {
    "duration": 131,
    "start_time": "2025-04-24T14:49:11.808Z"
   },
   {
    "duration": 8,
    "start_time": "2025-04-24T14:49:11.940Z"
   },
   {
    "duration": 18,
    "start_time": "2025-04-24T14:49:11.949Z"
   },
   {
    "duration": 9,
    "start_time": "2025-04-24T14:49:11.968Z"
   },
   {
    "duration": 5,
    "start_time": "2025-04-24T14:49:11.979Z"
   },
   {
    "duration": 72,
    "start_time": "2025-04-24T14:49:11.986Z"
   },
   {
    "duration": 18,
    "start_time": "2025-04-24T14:49:12.060Z"
   },
   {
    "duration": 274,
    "start_time": "2025-04-24T14:49:12.080Z"
   },
   {
    "duration": 50,
    "start_time": "2025-04-24T14:49:31.848Z"
   },
   {
    "duration": 3675,
    "start_time": "2025-04-24T14:49:43.041Z"
   },
   {
    "duration": 1764,
    "start_time": "2025-04-24T14:49:46.717Z"
   },
   {
    "duration": 3,
    "start_time": "2025-04-24T14:49:48.482Z"
   },
   {
    "duration": 42,
    "start_time": "2025-04-24T14:49:48.487Z"
   },
   {
    "duration": 126,
    "start_time": "2025-04-24T14:49:48.530Z"
   },
   {
    "duration": 15,
    "start_time": "2025-04-24T14:49:48.658Z"
   },
   {
    "duration": 91,
    "start_time": "2025-04-24T14:49:48.675Z"
   },
   {
    "duration": 43,
    "start_time": "2025-04-24T14:49:48.767Z"
   },
   {
    "duration": 10,
    "start_time": "2025-04-24T14:49:48.812Z"
   },
   {
    "duration": 104,
    "start_time": "2025-04-24T14:49:48.824Z"
   },
   {
    "duration": 57,
    "start_time": "2025-04-24T14:49:48.930Z"
   },
   {
    "duration": 59,
    "start_time": "2025-04-24T14:49:48.989Z"
   },
   {
    "duration": 29,
    "start_time": "2025-04-24T14:49:49.050Z"
   },
   {
    "duration": 19,
    "start_time": "2025-04-24T14:49:49.080Z"
   },
   {
    "duration": 40,
    "start_time": "2025-04-24T14:49:49.101Z"
   },
   {
    "duration": 3,
    "start_time": "2025-04-24T14:49:49.143Z"
   },
   {
    "duration": 168,
    "start_time": "2025-04-24T14:49:49.147Z"
   },
   {
    "duration": 3,
    "start_time": "2025-04-24T14:49:49.317Z"
   },
   {
    "duration": 59,
    "start_time": "2025-04-24T14:49:49.321Z"
   },
   {
    "duration": 122,
    "start_time": "2025-04-24T14:49:49.382Z"
   },
   {
    "duration": 172,
    "start_time": "2025-04-24T14:49:49.505Z"
   },
   {
    "duration": 218,
    "start_time": "2025-04-24T14:49:49.679Z"
   },
   {
    "duration": 62,
    "start_time": "2025-04-24T14:49:49.899Z"
   },
   {
    "duration": 169,
    "start_time": "2025-04-24T14:49:49.962Z"
   },
   {
    "duration": 170,
    "start_time": "2025-04-24T14:49:50.135Z"
   },
   {
    "duration": 219,
    "start_time": "2025-04-24T14:49:50.307Z"
   },
   {
    "duration": 2779,
    "start_time": "2025-04-24T14:49:50.527Z"
   },
   {
    "duration": 60,
    "start_time": "2025-04-24T14:49:53.309Z"
   },
   {
    "duration": 18,
    "start_time": "2025-04-24T14:49:53.371Z"
   },
   {
    "duration": 122,
    "start_time": "2025-04-24T14:49:53.391Z"
   },
   {
    "duration": 7,
    "start_time": "2025-04-24T14:49:53.515Z"
   },
   {
    "duration": 34,
    "start_time": "2025-04-24T14:49:53.523Z"
   },
   {
    "duration": 21,
    "start_time": "2025-04-24T14:49:53.559Z"
   },
   {
    "duration": 48,
    "start_time": "2025-04-24T14:49:53.581Z"
   },
   {
    "duration": 81,
    "start_time": "2025-04-24T14:49:53.631Z"
   },
   {
    "duration": 18,
    "start_time": "2025-04-24T14:49:53.714Z"
   },
   {
    "duration": 198,
    "start_time": "2025-04-24T14:49:53.733Z"
   },
   {
    "duration": 4732,
    "start_time": "2025-04-24T14:49:53.936Z"
   },
   {
    "duration": 51,
    "start_time": "2025-04-24T14:49:58.670Z"
   },
   {
    "duration": 18,
    "start_time": "2025-04-24T14:49:58.736Z"
   },
   {
    "duration": 175,
    "start_time": "2025-04-24T14:49:58.756Z"
   },
   {
    "duration": 406,
    "start_time": "2025-04-24T14:49:58.937Z"
   },
   {
    "duration": 58,
    "start_time": "2025-04-24T14:49:59.345Z"
   },
   {
    "duration": 73,
    "start_time": "2025-04-24T14:49:59.405Z"
   },
   {
    "duration": 5,
    "start_time": "2025-04-24T14:49:59.480Z"
   },
   {
    "duration": 30,
    "start_time": "2025-04-24T14:49:59.486Z"
   },
   {
    "duration": 35,
    "start_time": "2025-04-24T14:49:59.517Z"
   },
   {
    "duration": 3130,
    "start_time": "2025-04-24T14:49:59.553Z"
   },
   {
    "duration": 119,
    "start_time": "2025-04-24T14:50:02.685Z"
   },
   {
    "duration": 6,
    "start_time": "2025-04-24T14:50:02.805Z"
   },
   {
    "duration": 139,
    "start_time": "2025-04-24T14:50:02.813Z"
   },
   {
    "duration": 31,
    "start_time": "2025-04-24T14:50:02.954Z"
   },
   {
    "duration": 78,
    "start_time": "2025-04-24T14:50:02.987Z"
   },
   {
    "duration": 27,
    "start_time": "2025-04-24T14:50:03.067Z"
   },
   {
    "duration": 45,
    "start_time": "2025-04-24T14:50:03.096Z"
   },
   {
    "duration": 47,
    "start_time": "2025-04-24T14:50:03.143Z"
   },
   {
    "duration": 67,
    "start_time": "2025-04-24T14:51:56.437Z"
   },
   {
    "duration": 70,
    "start_time": "2025-04-24T14:53:31.117Z"
   },
   {
    "duration": 67,
    "start_time": "2025-04-24T14:54:19.693Z"
   },
   {
    "duration": 78,
    "start_time": "2025-04-24T14:55:08.924Z"
   },
   {
    "duration": 74,
    "start_time": "2025-04-24T14:58:16.477Z"
   },
   {
    "duration": 70,
    "start_time": "2025-04-24T16:33:07.202Z"
   },
   {
    "duration": 71,
    "start_time": "2025-04-24T16:33:18.337Z"
   },
   {
    "duration": 77,
    "start_time": "2025-04-24T16:39:42.890Z"
   },
   {
    "duration": 74,
    "start_time": "2025-04-24T16:45:01.406Z"
   },
   {
    "duration": 84,
    "start_time": "2025-04-24T16:46:08.380Z"
   },
   {
    "duration": 35,
    "start_time": "2025-04-24T16:47:10.252Z"
   },
   {
    "duration": 14,
    "start_time": "2025-04-24T16:47:47.564Z"
   },
   {
    "duration": 14,
    "start_time": "2025-04-24T16:48:02.205Z"
   },
   {
    "duration": 22,
    "start_time": "2025-04-24T16:49:15.332Z"
   },
   {
    "duration": 21,
    "start_time": "2025-04-24T16:49:22.773Z"
   },
   {
    "duration": 21,
    "start_time": "2025-04-24T16:49:27.949Z"
   },
   {
    "duration": 70,
    "start_time": "2025-04-24T16:50:50.126Z"
   },
   {
    "duration": 21,
    "start_time": "2025-04-24T16:55:12.963Z"
   },
   {
    "duration": 8,
    "start_time": "2025-04-24T17:50:59.601Z"
   },
   {
    "duration": 9,
    "start_time": "2025-04-24T17:53:27.313Z"
   },
   {
    "duration": 8,
    "start_time": "2025-04-24T17:54:15.363Z"
   },
   {
    "duration": 9,
    "start_time": "2025-04-24T17:54:38.322Z"
   },
   {
    "duration": 13,
    "start_time": "2025-04-24T17:56:03.385Z"
   },
   {
    "duration": 12,
    "start_time": "2025-04-24T17:56:04.802Z"
   },
   {
    "duration": 83,
    "start_time": "2025-04-24T17:56:21.130Z"
   },
   {
    "duration": 80,
    "start_time": "2025-04-24T17:56:35.466Z"
   },
   {
    "duration": 7,
    "start_time": "2025-04-24T17:57:33.936Z"
   },
   {
    "duration": 98,
    "start_time": "2025-04-24T17:57:50.696Z"
   },
   {
    "duration": 7,
    "start_time": "2025-04-24T17:58:28.839Z"
   },
   {
    "duration": 5,
    "start_time": "2025-04-24T17:58:43.831Z"
   },
   {
    "duration": 6,
    "start_time": "2025-04-24T17:59:40.422Z"
   },
   {
    "duration": 13,
    "start_time": "2025-04-24T18:00:17.957Z"
   },
   {
    "duration": 6,
    "start_time": "2025-04-24T18:00:40.662Z"
   },
   {
    "duration": 6,
    "start_time": "2025-04-24T18:01:00.581Z"
   },
   {
    "duration": 6,
    "start_time": "2025-04-24T18:01:06.821Z"
   },
   {
    "duration": 12,
    "start_time": "2025-04-24T18:03:51.202Z"
   },
   {
    "duration": 7,
    "start_time": "2025-04-24T18:03:52.010Z"
   },
   {
    "duration": 6,
    "start_time": "2025-04-24T18:04:06.091Z"
   },
   {
    "duration": 7,
    "start_time": "2025-04-24T18:04:49.178Z"
   },
   {
    "duration": 6,
    "start_time": "2025-04-24T18:05:38.474Z"
   },
   {
    "duration": 7,
    "start_time": "2025-04-24T18:05:43.953Z"
   },
   {
    "duration": 7,
    "start_time": "2025-04-24T18:05:49.338Z"
   },
   {
    "duration": 10,
    "start_time": "2025-04-24T18:06:00.082Z"
   },
   {
    "duration": 13,
    "start_time": "2025-04-24T18:06:10.866Z"
   },
   {
    "duration": 6,
    "start_time": "2025-04-24T18:06:13.546Z"
   },
   {
    "duration": 7,
    "start_time": "2025-04-24T18:06:14.800Z"
   },
   {
    "duration": 13,
    "start_time": "2025-04-24T18:07:03.992Z"
   },
   {
    "duration": 14,
    "start_time": "2025-04-24T18:07:13.457Z"
   },
   {
    "duration": 14,
    "start_time": "2025-04-24T18:07:15.001Z"
   },
   {
    "duration": 14,
    "start_time": "2025-04-24T18:07:20.208Z"
   },
   {
    "duration": 12,
    "start_time": "2025-04-24T18:07:20.640Z"
   },
   {
    "duration": 14,
    "start_time": "2025-04-24T18:07:25.496Z"
   },
   {
    "duration": 13,
    "start_time": "2025-04-24T18:08:05.265Z"
   },
   {
    "duration": 11,
    "start_time": "2025-04-24T18:08:29.072Z"
   },
   {
    "duration": 12,
    "start_time": "2025-04-24T18:08:50.705Z"
   },
   {
    "duration": 11,
    "start_time": "2025-04-24T18:09:02.600Z"
   },
   {
    "duration": 13,
    "start_time": "2025-04-24T18:09:53.128Z"
   },
   {
    "duration": 15,
    "start_time": "2025-04-24T18:10:02.760Z"
   },
   {
    "duration": 14,
    "start_time": "2025-04-24T18:10:07.553Z"
   },
   {
    "duration": 16,
    "start_time": "2025-04-24T18:10:23.775Z"
   },
   {
    "duration": 13,
    "start_time": "2025-04-24T18:10:40.344Z"
   },
   {
    "duration": 11,
    "start_time": "2025-04-24T18:10:43.407Z"
   },
   {
    "duration": 10,
    "start_time": "2025-04-24T18:10:58.295Z"
   },
   {
    "duration": 12,
    "start_time": "2025-04-24T18:11:01.695Z"
   },
   {
    "duration": 11,
    "start_time": "2025-04-24T18:12:27.814Z"
   },
   {
    "duration": 10,
    "start_time": "2025-04-24T18:12:37.136Z"
   },
   {
    "duration": 6,
    "start_time": "2025-04-24T18:12:42.319Z"
   },
   {
    "duration": 9,
    "start_time": "2025-04-24T18:13:50.023Z"
   },
   {
    "duration": 6,
    "start_time": "2025-04-24T18:13:54.983Z"
   },
   {
    "duration": 14,
    "start_time": "2025-04-24T18:14:20.278Z"
   },
   {
    "duration": 4,
    "start_time": "2025-04-24T18:14:51.966Z"
   },
   {
    "duration": 11,
    "start_time": "2025-04-24T18:15:01.135Z"
   },
   {
    "duration": 4,
    "start_time": "2025-04-24T18:17:10.935Z"
   },
   {
    "duration": 15,
    "start_time": "2025-04-24T18:17:15.013Z"
   },
   {
    "duration": 14,
    "start_time": "2025-04-24T18:17:46.830Z"
   },
   {
    "duration": 13,
    "start_time": "2025-04-24T18:18:17.782Z"
   },
   {
    "duration": 14,
    "start_time": "2025-04-24T18:19:34.222Z"
   },
   {
    "duration": 14,
    "start_time": "2025-04-24T18:19:54.102Z"
   },
   {
    "duration": 13,
    "start_time": "2025-04-24T18:19:57.358Z"
   },
   {
    "duration": 14,
    "start_time": "2025-04-24T18:20:08.646Z"
   },
   {
    "duration": 4,
    "start_time": "2025-04-24T18:20:31.454Z"
   },
   {
    "duration": 12,
    "start_time": "2025-04-24T18:20:35.430Z"
   },
   {
    "duration": 13,
    "start_time": "2025-04-24T18:20:43.557Z"
   },
   {
    "duration": 14,
    "start_time": "2025-04-24T18:20:51.797Z"
   },
   {
    "duration": 14,
    "start_time": "2025-04-24T18:20:55.422Z"
   },
   {
    "duration": 15,
    "start_time": "2025-04-24T18:21:01.318Z"
   },
   {
    "duration": 15,
    "start_time": "2025-04-24T18:21:08.885Z"
   },
   {
    "duration": 7,
    "start_time": "2025-04-24T18:23:26.052Z"
   },
   {
    "duration": 7,
    "start_time": "2025-04-24T18:23:32.077Z"
   },
   {
    "duration": 7,
    "start_time": "2025-04-24T18:23:44.542Z"
   },
   {
    "duration": 8,
    "start_time": "2025-04-24T18:24:04.597Z"
   },
   {
    "duration": 21,
    "start_time": "2025-04-24T18:25:01.421Z"
   },
   {
    "duration": 7,
    "start_time": "2025-04-24T18:25:03.748Z"
   },
   {
    "duration": 8,
    "start_time": "2025-04-24T18:25:05.716Z"
   },
   {
    "duration": 12,
    "start_time": "2025-04-24T18:25:23.869Z"
   },
   {
    "duration": 21,
    "start_time": "2025-04-24T18:25:29.773Z"
   },
   {
    "duration": 12,
    "start_time": "2025-04-24T18:25:30.805Z"
   },
   {
    "duration": 12,
    "start_time": "2025-04-24T18:25:44.573Z"
   },
   {
    "duration": 12,
    "start_time": "2025-04-24T18:25:45.061Z"
   },
   {
    "duration": 1201,
    "start_time": "2025-04-24T18:26:26.964Z"
   },
   {
    "duration": 8,
    "start_time": "2025-04-24T18:26:38.876Z"
   },
   {
    "duration": 7,
    "start_time": "2025-04-24T18:26:50.333Z"
   },
   {
    "duration": 7,
    "start_time": "2025-04-24T18:27:03.525Z"
   },
   {
    "duration": 7,
    "start_time": "2025-04-24T18:27:19.821Z"
   },
   {
    "duration": 6,
    "start_time": "2025-04-24T18:27:22.542Z"
   },
   {
    "duration": 118,
    "start_time": "2025-04-24T18:27:47.804Z"
   },
   {
    "duration": 81,
    "start_time": "2025-04-24T18:27:58.373Z"
   },
   {
    "duration": 88,
    "start_time": "2025-04-24T18:28:27.821Z"
   },
   {
    "duration": 121,
    "start_time": "2025-04-24T18:28:51.357Z"
   },
   {
    "duration": 99,
    "start_time": "2025-04-24T18:28:57.628Z"
   },
   {
    "duration": 12,
    "start_time": "2025-04-24T18:29:10.221Z"
   },
   {
    "duration": 13,
    "start_time": "2025-04-24T18:29:11.380Z"
   },
   {
    "duration": 6,
    "start_time": "2025-04-24T18:30:25.724Z"
   },
   {
    "duration": 7,
    "start_time": "2025-04-24T19:25:35.685Z"
   },
   {
    "duration": 6,
    "start_time": "2025-04-24T19:25:47.165Z"
   },
   {
    "duration": 25,
    "start_time": "2025-04-24T19:29:21.335Z"
   },
   {
    "duration": 11,
    "start_time": "2025-04-24T19:34:47.103Z"
   },
   {
    "duration": 350,
    "start_time": "2025-04-24T19:35:36.752Z"
   },
   {
    "duration": 85,
    "start_time": "2025-04-24T19:35:59.496Z"
   },
   {
    "duration": 84,
    "start_time": "2025-04-24T19:36:06.154Z"
   },
   {
    "duration": 284,
    "start_time": "2025-04-24T19:36:13.928Z"
   },
   {
    "duration": 108,
    "start_time": "2025-04-24T19:37:52.489Z"
   },
   {
    "duration": 107,
    "start_time": "2025-04-24T19:39:12.080Z"
   },
   {
    "duration": 128,
    "start_time": "2025-04-24T19:40:14.985Z"
   },
   {
    "duration": 88,
    "start_time": "2025-04-24T19:40:50.809Z"
   },
   {
    "duration": 119,
    "start_time": "2025-04-24T19:41:09.160Z"
   },
   {
    "duration": 92,
    "start_time": "2025-04-24T19:41:27.775Z"
   },
   {
    "duration": 99,
    "start_time": "2025-04-24T19:42:07.519Z"
   },
   {
    "duration": 89,
    "start_time": "2025-04-24T19:42:26.056Z"
   },
   {
    "duration": 107,
    "start_time": "2025-04-24T19:42:49.807Z"
   },
   {
    "duration": 13,
    "start_time": "2025-04-24T19:43:03.463Z"
   },
   {
    "duration": 106,
    "start_time": "2025-04-24T19:43:41.144Z"
   },
   {
    "duration": 278,
    "start_time": "2025-04-24T19:44:00.640Z"
   },
   {
    "duration": 290,
    "start_time": "2025-04-24T19:53:32.535Z"
   },
   {
    "duration": 164,
    "start_time": "2025-04-24T19:57:30.302Z"
   },
   {
    "duration": 148,
    "start_time": "2025-04-24T19:57:57.558Z"
   },
   {
    "duration": 150,
    "start_time": "2025-04-24T19:59:11.758Z"
   },
   {
    "duration": 135,
    "start_time": "2025-04-24T20:04:31.102Z"
   },
   {
    "duration": 10,
    "start_time": "2025-04-24T20:06:02.415Z"
   },
   {
    "duration": 220,
    "start_time": "2025-04-24T20:06:17.455Z"
   },
   {
    "duration": 160,
    "start_time": "2025-04-24T20:07:13.223Z"
   },
   {
    "duration": 13,
    "start_time": "2025-04-24T20:07:41.886Z"
   },
   {
    "duration": 102,
    "start_time": "2025-04-24T20:07:55.767Z"
   },
   {
    "duration": 171,
    "start_time": "2025-04-24T20:08:13.911Z"
   },
   {
    "duration": 11,
    "start_time": "2025-04-24T20:08:40.615Z"
   },
   {
    "duration": 123,
    "start_time": "2025-04-24T20:10:23.406Z"
   },
   {
    "duration": 11,
    "start_time": "2025-04-24T20:10:40.367Z"
   },
   {
    "duration": 130,
    "start_time": "2025-04-24T20:10:49.006Z"
   },
   {
    "duration": 120,
    "start_time": "2025-04-24T20:11:35.007Z"
   },
   {
    "duration": 119,
    "start_time": "2025-04-24T20:11:42.934Z"
   },
   {
    "duration": 105,
    "start_time": "2025-04-24T20:11:58.783Z"
   },
   {
    "duration": 119,
    "start_time": "2025-04-24T20:12:35.094Z"
   },
   {
    "duration": 108,
    "start_time": "2025-04-24T20:13:07.895Z"
   },
   {
    "duration": 106,
    "start_time": "2025-04-24T20:13:20.872Z"
   },
   {
    "duration": 122,
    "start_time": "2025-04-24T20:13:33.087Z"
   },
   {
    "duration": 118,
    "start_time": "2025-04-24T20:13:42.287Z"
   },
   {
    "duration": 190,
    "start_time": "2025-04-24T20:13:51.654Z"
   },
   {
    "duration": 83,
    "start_time": "2025-04-24T20:16:46.533Z"
   },
   {
    "duration": 133,
    "start_time": "2025-04-24T20:17:12.333Z"
   },
   {
    "duration": 115,
    "start_time": "2025-04-24T20:17:42.565Z"
   },
   {
    "duration": 50,
    "start_time": "2025-04-25T08:48:32.235Z"
   },
   {
    "duration": 4694,
    "start_time": "2025-04-25T08:48:36.666Z"
   },
   {
    "duration": 2171,
    "start_time": "2025-04-25T08:48:41.362Z"
   },
   {
    "duration": 3,
    "start_time": "2025-04-25T08:48:43.534Z"
   },
   {
    "duration": 26,
    "start_time": "2025-04-25T08:48:43.539Z"
   },
   {
    "duration": 120,
    "start_time": "2025-04-25T08:48:43.566Z"
   },
   {
    "duration": 16,
    "start_time": "2025-04-25T08:48:43.687Z"
   },
   {
    "duration": 62,
    "start_time": "2025-04-25T08:48:43.711Z"
   },
   {
    "duration": 40,
    "start_time": "2025-04-25T08:48:43.775Z"
   },
   {
    "duration": 9,
    "start_time": "2025-04-25T08:48:43.817Z"
   },
   {
    "duration": 117,
    "start_time": "2025-04-25T08:48:43.830Z"
   },
   {
    "duration": 54,
    "start_time": "2025-04-25T08:48:43.949Z"
   },
   {
    "duration": 26,
    "start_time": "2025-04-25T08:48:44.005Z"
   },
   {
    "duration": 68,
    "start_time": "2025-04-25T08:48:44.033Z"
   },
   {
    "duration": 21,
    "start_time": "2025-04-25T08:48:44.103Z"
   },
   {
    "duration": 40,
    "start_time": "2025-04-25T08:48:44.125Z"
   },
   {
    "duration": 3,
    "start_time": "2025-04-25T08:48:44.166Z"
   },
   {
    "duration": 163,
    "start_time": "2025-04-25T08:48:44.171Z"
   },
   {
    "duration": 3,
    "start_time": "2025-04-25T08:48:44.335Z"
   },
   {
    "duration": 57,
    "start_time": "2025-04-25T08:48:44.339Z"
   },
   {
    "duration": 124,
    "start_time": "2025-04-25T08:48:44.397Z"
   },
   {
    "duration": 170,
    "start_time": "2025-04-25T08:48:44.523Z"
   },
   {
    "duration": 214,
    "start_time": "2025-04-25T08:48:44.695Z"
   },
   {
    "duration": 57,
    "start_time": "2025-04-25T08:48:44.911Z"
   },
   {
    "duration": 172,
    "start_time": "2025-04-25T08:48:44.970Z"
   },
   {
    "duration": 155,
    "start_time": "2025-04-25T08:48:45.144Z"
   },
   {
    "duration": 215,
    "start_time": "2025-04-25T08:48:45.300Z"
   },
   {
    "duration": 2631,
    "start_time": "2025-04-25T08:48:45.516Z"
   },
   {
    "duration": 52,
    "start_time": "2025-04-25T08:48:48.150Z"
   },
   {
    "duration": 20,
    "start_time": "2025-04-25T08:48:48.204Z"
   },
   {
    "duration": 124,
    "start_time": "2025-04-25T08:48:48.225Z"
   },
   {
    "duration": 12,
    "start_time": "2025-04-25T08:48:48.351Z"
   },
   {
    "duration": 12,
    "start_time": "2025-04-25T08:48:48.364Z"
   },
   {
    "duration": 8,
    "start_time": "2025-04-25T08:48:48.377Z"
   },
   {
    "duration": 7,
    "start_time": "2025-04-25T08:48:48.387Z"
   },
   {
    "duration": 45,
    "start_time": "2025-04-25T08:48:48.395Z"
   },
   {
    "duration": 17,
    "start_time": "2025-04-25T08:48:48.461Z"
   },
   {
    "duration": 165,
    "start_time": "2025-04-25T08:48:48.480Z"
   },
   {
    "duration": 4411,
    "start_time": "2025-04-25T08:48:48.646Z"
   },
   {
    "duration": 77,
    "start_time": "2025-04-25T08:48:53.058Z"
   },
   {
    "duration": 29,
    "start_time": "2025-04-25T08:48:53.137Z"
   },
   {
    "duration": 171,
    "start_time": "2025-04-25T08:48:53.168Z"
   },
   {
    "duration": 366,
    "start_time": "2025-04-25T08:48:53.340Z"
   },
   {
    "duration": 65,
    "start_time": "2025-04-25T08:48:53.707Z"
   },
   {
    "duration": 56,
    "start_time": "2025-04-25T08:48:53.773Z"
   },
   {
    "duration": 5,
    "start_time": "2025-04-25T08:48:53.830Z"
   },
   {
    "duration": 52,
    "start_time": "2025-04-25T08:48:53.836Z"
   },
   {
    "duration": 85,
    "start_time": "2025-04-25T08:48:53.889Z"
   },
   {
    "duration": 3057,
    "start_time": "2025-04-25T08:48:53.975Z"
   },
   {
    "duration": 102,
    "start_time": "2025-04-25T08:48:57.034Z"
   },
   {
    "duration": 5,
    "start_time": "2025-04-25T08:48:57.137Z"
   },
   {
    "duration": 137,
    "start_time": "2025-04-25T08:48:57.143Z"
   },
   {
    "duration": 29,
    "start_time": "2025-04-25T08:48:57.281Z"
   },
   {
    "duration": 74,
    "start_time": "2025-04-25T08:48:57.311Z"
   },
   {
    "duration": 25,
    "start_time": "2025-04-25T08:48:57.386Z"
   },
   {
    "duration": 29,
    "start_time": "2025-04-25T08:48:57.412Z"
   },
   {
    "duration": 26,
    "start_time": "2025-04-25T08:48:57.442Z"
   },
   {
    "duration": 12,
    "start_time": "2025-04-25T08:48:57.469Z"
   },
   {
    "duration": 10,
    "start_time": "2025-04-25T08:48:57.482Z"
   },
   {
    "duration": 21,
    "start_time": "2025-04-25T08:48:57.493Z"
   },
   {
    "duration": 5,
    "start_time": "2025-04-25T08:48:57.516Z"
   },
   {
    "duration": 6,
    "start_time": "2025-04-25T08:48:57.522Z"
   },
   {
    "duration": 9,
    "start_time": "2025-04-25T08:48:57.530Z"
   },
   {
    "duration": 157,
    "start_time": "2025-04-25T08:48:57.540Z"
   },
   {
    "duration": 123,
    "start_time": "2025-04-25T08:48:57.699Z"
   },
   {
    "duration": 5574,
    "start_time": "2025-04-25T16:42:34.316Z"
   },
   {
    "duration": 0,
    "start_time": "2025-04-25T16:42:39.893Z"
   },
   {
    "duration": 0,
    "start_time": "2025-04-25T16:42:39.895Z"
   },
   {
    "duration": 0,
    "start_time": "2025-04-25T16:42:39.896Z"
   },
   {
    "duration": 0,
    "start_time": "2025-04-25T16:42:39.897Z"
   },
   {
    "duration": 0,
    "start_time": "2025-04-25T16:42:39.898Z"
   },
   {
    "duration": 0,
    "start_time": "2025-04-25T16:42:39.899Z"
   },
   {
    "duration": 0,
    "start_time": "2025-04-25T16:42:39.900Z"
   },
   {
    "duration": 0,
    "start_time": "2025-04-25T16:42:39.902Z"
   },
   {
    "duration": 0,
    "start_time": "2025-04-25T16:42:39.902Z"
   },
   {
    "duration": 0,
    "start_time": "2025-04-25T16:42:39.903Z"
   },
   {
    "duration": 0,
    "start_time": "2025-04-25T16:42:39.904Z"
   },
   {
    "duration": 0,
    "start_time": "2025-04-25T16:42:39.905Z"
   },
   {
    "duration": 0,
    "start_time": "2025-04-25T16:42:39.906Z"
   },
   {
    "duration": 0,
    "start_time": "2025-04-25T16:42:39.908Z"
   },
   {
    "duration": 0,
    "start_time": "2025-04-25T16:42:39.909Z"
   },
   {
    "duration": 0,
    "start_time": "2025-04-25T16:42:39.910Z"
   },
   {
    "duration": 0,
    "start_time": "2025-04-25T16:42:39.911Z"
   },
   {
    "duration": 0,
    "start_time": "2025-04-25T16:42:39.912Z"
   },
   {
    "duration": 0,
    "start_time": "2025-04-25T16:42:39.913Z"
   },
   {
    "duration": 0,
    "start_time": "2025-04-25T16:42:39.914Z"
   },
   {
    "duration": 0,
    "start_time": "2025-04-25T16:42:39.915Z"
   },
   {
    "duration": 0,
    "start_time": "2025-04-25T16:42:39.917Z"
   },
   {
    "duration": 0,
    "start_time": "2025-04-25T16:42:39.918Z"
   },
   {
    "duration": 0,
    "start_time": "2025-04-25T16:42:39.919Z"
   },
   {
    "duration": 0,
    "start_time": "2025-04-25T16:42:39.920Z"
   },
   {
    "duration": 0,
    "start_time": "2025-04-25T16:42:39.921Z"
   },
   {
    "duration": 0,
    "start_time": "2025-04-25T16:42:39.922Z"
   },
   {
    "duration": 0,
    "start_time": "2025-04-25T16:42:39.923Z"
   },
   {
    "duration": 0,
    "start_time": "2025-04-25T16:42:39.977Z"
   },
   {
    "duration": 0,
    "start_time": "2025-04-25T16:42:39.978Z"
   },
   {
    "duration": 0,
    "start_time": "2025-04-25T16:42:39.980Z"
   },
   {
    "duration": 0,
    "start_time": "2025-04-25T16:42:39.980Z"
   },
   {
    "duration": 0,
    "start_time": "2025-04-25T16:42:39.982Z"
   },
   {
    "duration": 0,
    "start_time": "2025-04-25T16:42:39.983Z"
   },
   {
    "duration": 0,
    "start_time": "2025-04-25T16:42:39.984Z"
   },
   {
    "duration": 0,
    "start_time": "2025-04-25T16:42:39.985Z"
   },
   {
    "duration": 0,
    "start_time": "2025-04-25T16:42:39.985Z"
   },
   {
    "duration": 0,
    "start_time": "2025-04-25T16:42:39.986Z"
   },
   {
    "duration": 0,
    "start_time": "2025-04-25T16:42:39.987Z"
   },
   {
    "duration": 0,
    "start_time": "2025-04-25T16:42:39.989Z"
   },
   {
    "duration": 0,
    "start_time": "2025-04-25T16:42:39.990Z"
   },
   {
    "duration": 0,
    "start_time": "2025-04-25T16:42:39.991Z"
   },
   {
    "duration": 0,
    "start_time": "2025-04-25T16:42:39.992Z"
   },
   {
    "duration": 0,
    "start_time": "2025-04-25T16:42:39.993Z"
   },
   {
    "duration": 0,
    "start_time": "2025-04-25T16:42:39.994Z"
   },
   {
    "duration": 0,
    "start_time": "2025-04-25T16:42:39.995Z"
   },
   {
    "duration": 0,
    "start_time": "2025-04-25T16:42:39.996Z"
   },
   {
    "duration": 0,
    "start_time": "2025-04-25T16:42:39.997Z"
   },
   {
    "duration": 0,
    "start_time": "2025-04-25T16:42:39.999Z"
   },
   {
    "duration": 0,
    "start_time": "2025-04-25T16:42:40.000Z"
   },
   {
    "duration": 0,
    "start_time": "2025-04-25T16:42:40.001Z"
   },
   {
    "duration": 0,
    "start_time": "2025-04-25T16:42:40.002Z"
   },
   {
    "duration": 0,
    "start_time": "2025-04-25T16:42:40.003Z"
   },
   {
    "duration": 0,
    "start_time": "2025-04-25T16:42:40.004Z"
   },
   {
    "duration": 0,
    "start_time": "2025-04-25T16:42:40.006Z"
   },
   {
    "duration": 0,
    "start_time": "2025-04-25T16:42:40.007Z"
   },
   {
    "duration": 0,
    "start_time": "2025-04-25T16:42:40.009Z"
   },
   {
    "duration": 0,
    "start_time": "2025-04-25T16:42:40.010Z"
   },
   {
    "duration": 0,
    "start_time": "2025-04-25T16:42:40.011Z"
   },
   {
    "duration": 0,
    "start_time": "2025-04-25T16:42:40.013Z"
   },
   {
    "duration": 0,
    "start_time": "2025-04-25T16:42:40.077Z"
   },
   {
    "duration": 0,
    "start_time": "2025-04-25T16:42:40.078Z"
   },
   {
    "duration": 0,
    "start_time": "2025-04-25T16:42:40.079Z"
   },
   {
    "duration": 5131,
    "start_time": "2025-04-25T19:49:16.989Z"
   },
   {
    "duration": 2195,
    "start_time": "2025-04-25T19:49:22.123Z"
   },
   {
    "duration": 3,
    "start_time": "2025-04-25T19:49:24.320Z"
   },
   {
    "duration": 26,
    "start_time": "2025-04-25T19:49:24.325Z"
   },
   {
    "duration": 137,
    "start_time": "2025-04-25T19:49:24.353Z"
   },
   {
    "duration": 18,
    "start_time": "2025-04-25T19:49:24.492Z"
   },
   {
    "duration": 76,
    "start_time": "2025-04-25T19:49:24.512Z"
   },
   {
    "duration": 44,
    "start_time": "2025-04-25T19:49:24.590Z"
   },
   {
    "duration": 10,
    "start_time": "2025-04-25T19:49:24.636Z"
   },
   {
    "duration": 157,
    "start_time": "2025-04-25T19:49:24.649Z"
   },
   {
    "duration": 68,
    "start_time": "2025-04-25T19:49:24.808Z"
   },
   {
    "duration": 66,
    "start_time": "2025-04-25T19:49:24.878Z"
   },
   {
    "duration": 113,
    "start_time": "2025-04-25T19:49:24.945Z"
   },
   {
    "duration": 23,
    "start_time": "2025-04-25T19:49:25.060Z"
   },
   {
    "duration": 22,
    "start_time": "2025-04-25T19:49:25.085Z"
   },
   {
    "duration": 4,
    "start_time": "2025-04-25T19:49:25.109Z"
   },
   {
    "duration": 271,
    "start_time": "2025-04-25T19:49:25.114Z"
   },
   {
    "duration": 4,
    "start_time": "2025-04-25T19:49:25.387Z"
   },
   {
    "duration": 70,
    "start_time": "2025-04-25T19:49:25.393Z"
   },
   {
    "duration": 137,
    "start_time": "2025-04-25T19:49:25.465Z"
   },
   {
    "duration": 191,
    "start_time": "2025-04-25T19:49:25.604Z"
   },
   {
    "duration": 308,
    "start_time": "2025-04-25T19:49:25.797Z"
   },
   {
    "duration": 71,
    "start_time": "2025-04-25T19:49:26.106Z"
   },
   {
    "duration": 196,
    "start_time": "2025-04-25T19:49:26.179Z"
   },
   {
    "duration": 203,
    "start_time": "2025-04-25T19:49:26.377Z"
   },
   {
    "duration": 257,
    "start_time": "2025-04-25T19:49:26.582Z"
   },
   {
    "duration": 2991,
    "start_time": "2025-04-25T19:49:26.841Z"
   },
   {
    "duration": 68,
    "start_time": "2025-04-25T19:49:29.836Z"
   },
   {
    "duration": 22,
    "start_time": "2025-04-25T19:49:29.905Z"
   },
   {
    "duration": 138,
    "start_time": "2025-04-25T19:49:29.929Z"
   },
   {
    "duration": 14,
    "start_time": "2025-04-25T19:49:30.069Z"
   },
   {
    "duration": 78,
    "start_time": "2025-04-25T19:49:30.085Z"
   },
   {
    "duration": 32,
    "start_time": "2025-04-25T19:49:30.165Z"
   },
   {
    "duration": 28,
    "start_time": "2025-04-25T19:49:30.199Z"
   },
   {
    "duration": 83,
    "start_time": "2025-04-25T19:49:30.229Z"
   },
   {
    "duration": 41,
    "start_time": "2025-04-25T19:49:30.313Z"
   },
   {
    "duration": 210,
    "start_time": "2025-04-25T19:49:30.356Z"
   },
   {
    "duration": 5111,
    "start_time": "2025-04-25T19:49:30.568Z"
   },
   {
    "duration": 103,
    "start_time": "2025-04-25T19:49:35.681Z"
   },
   {
    "duration": 88,
    "start_time": "2025-04-25T19:49:35.786Z"
   },
   {
    "duration": 324,
    "start_time": "2025-04-25T19:49:35.876Z"
   },
   {
    "duration": 479,
    "start_time": "2025-04-25T19:49:36.202Z"
   },
   {
    "duration": 93,
    "start_time": "2025-04-25T19:49:36.683Z"
   },
   {
    "duration": 197,
    "start_time": "2025-04-25T19:49:36.778Z"
   },
   {
    "duration": 41,
    "start_time": "2025-04-25T19:49:36.978Z"
   },
   {
    "duration": 42,
    "start_time": "2025-04-25T19:49:37.021Z"
   },
   {
    "duration": 43,
    "start_time": "2025-04-25T19:49:37.066Z"
   },
   {
    "duration": 3707,
    "start_time": "2025-04-25T19:49:37.112Z"
   },
   {
    "duration": 116,
    "start_time": "2025-04-25T19:49:40.821Z"
   },
   {
    "duration": 5,
    "start_time": "2025-04-25T19:49:40.939Z"
   },
   {
    "duration": 204,
    "start_time": "2025-04-25T19:49:40.946Z"
   },
   {
    "duration": 37,
    "start_time": "2025-04-25T19:49:41.152Z"
   },
   {
    "duration": 75,
    "start_time": "2025-04-25T19:49:41.191Z"
   },
   {
    "duration": 35,
    "start_time": "2025-04-25T19:49:41.268Z"
   },
   {
    "duration": 35,
    "start_time": "2025-04-25T19:49:41.304Z"
   },
   {
    "duration": 35,
    "start_time": "2025-04-25T19:49:41.341Z"
   },
   {
    "duration": 12,
    "start_time": "2025-04-25T19:49:41.378Z"
   },
   {
    "duration": 13,
    "start_time": "2025-04-25T19:49:41.392Z"
   },
   {
    "duration": 21,
    "start_time": "2025-04-25T19:49:41.407Z"
   },
   {
    "duration": 7,
    "start_time": "2025-04-25T19:49:41.430Z"
   },
   {
    "duration": 45,
    "start_time": "2025-04-25T19:49:41.439Z"
   },
   {
    "duration": 15,
    "start_time": "2025-04-25T19:49:41.487Z"
   },
   {
    "duration": 187,
    "start_time": "2025-04-25T19:49:41.504Z"
   },
   {
    "duration": 150,
    "start_time": "2025-04-25T19:49:41.693Z"
   },
   {
    "duration": 829,
    "start_time": "2025-04-25T19:50:58.872Z"
   },
   {
    "duration": 16,
    "start_time": "2025-04-25T19:56:02.080Z"
   },
   {
    "duration": 8,
    "start_time": "2025-04-25T19:56:59.544Z"
   },
   {
    "duration": 8,
    "start_time": "2025-04-25T19:57:34.369Z"
   },
   {
    "duration": 7,
    "start_time": "2025-04-25T19:57:46.441Z"
   },
   {
    "duration": 19,
    "start_time": "2025-04-25T19:59:44.169Z"
   },
   {
    "duration": 45,
    "start_time": "2025-04-25T19:59:56.105Z"
   },
   {
    "duration": 152,
    "start_time": "2025-04-25T20:05:03.417Z"
   },
   {
    "duration": 667,
    "start_time": "2025-04-25T20:29:13.573Z"
   },
   {
    "duration": 5691,
    "start_time": "2025-04-26T11:12:18.267Z"
   },
   {
    "duration": 3418,
    "start_time": "2025-04-26T11:12:23.960Z"
   },
   {
    "duration": 3,
    "start_time": "2025-04-26T11:12:27.381Z"
   },
   {
    "duration": 77,
    "start_time": "2025-04-26T11:12:27.387Z"
   },
   {
    "duration": 160,
    "start_time": "2025-04-26T11:12:27.466Z"
   },
   {
    "duration": 17,
    "start_time": "2025-04-26T11:12:27.627Z"
   },
   {
    "duration": 75,
    "start_time": "2025-04-26T11:12:27.646Z"
   },
   {
    "duration": 43,
    "start_time": "2025-04-26T11:12:27.723Z"
   },
   {
    "duration": 11,
    "start_time": "2025-04-26T11:12:27.768Z"
   },
   {
    "duration": 146,
    "start_time": "2025-04-26T11:12:27.803Z"
   },
   {
    "duration": 67,
    "start_time": "2025-04-26T11:12:27.951Z"
   },
   {
    "duration": 24,
    "start_time": "2025-04-26T11:12:28.020Z"
   },
   {
    "duration": 30,
    "start_time": "2025-04-26T11:12:28.046Z"
   },
   {
    "duration": 19,
    "start_time": "2025-04-26T11:12:28.105Z"
   },
   {
    "duration": 75,
    "start_time": "2025-04-26T11:12:28.126Z"
   },
   {
    "duration": 3,
    "start_time": "2025-04-26T11:12:28.203Z"
   },
   {
    "duration": 214,
    "start_time": "2025-04-26T11:12:28.208Z"
   },
   {
    "duration": 3,
    "start_time": "2025-04-26T11:12:28.424Z"
   },
   {
    "duration": 60,
    "start_time": "2025-04-26T11:12:28.429Z"
   },
   {
    "duration": 206,
    "start_time": "2025-04-26T11:12:28.491Z"
   },
   {
    "duration": 183,
    "start_time": "2025-04-26T11:12:28.699Z"
   },
   {
    "duration": 253,
    "start_time": "2025-04-26T11:12:28.885Z"
   },
   {
    "duration": 39,
    "start_time": "2025-04-26T11:12:29.140Z"
   },
   {
    "duration": 204,
    "start_time": "2025-04-26T11:12:29.180Z"
   },
   {
    "duration": 171,
    "start_time": "2025-04-26T11:12:29.386Z"
   },
   {
    "duration": 242,
    "start_time": "2025-04-26T11:12:29.558Z"
   },
   {
    "duration": 2902,
    "start_time": "2025-04-26T11:12:29.803Z"
   },
   {
    "duration": 50,
    "start_time": "2025-04-26T11:12:32.710Z"
   },
   {
    "duration": 41,
    "start_time": "2025-04-26T11:12:32.761Z"
   },
   {
    "duration": 118,
    "start_time": "2025-04-26T11:12:32.804Z"
   },
   {
    "duration": 9,
    "start_time": "2025-04-26T11:12:32.924Z"
   },
   {
    "duration": 33,
    "start_time": "2025-04-26T11:12:32.934Z"
   },
   {
    "duration": 33,
    "start_time": "2025-04-26T11:12:32.969Z"
   },
   {
    "duration": 18,
    "start_time": "2025-04-26T11:12:33.004Z"
   },
   {
    "duration": 82,
    "start_time": "2025-04-26T11:12:33.024Z"
   },
   {
    "duration": 18,
    "start_time": "2025-04-26T11:12:33.108Z"
   },
   {
    "duration": 205,
    "start_time": "2025-04-26T11:12:33.128Z"
   }
  ],
  "colab": {
   "provenance": []
  },
  "kernelspec": {
   "display_name": "Python 3 (ipykernel)",
   "language": "python",
   "name": "python3"
  },
  "language_info": {
   "codemirror_mode": {
    "name": "ipython",
    "version": 3
   },
   "file_extension": ".py",
   "mimetype": "text/x-python",
   "name": "python",
   "nbconvert_exporter": "python",
   "pygments_lexer": "ipython3",
   "version": "3.9.21"
  },
  "toc": {
   "base_numbering": 1,
   "nav_menu": {},
   "number_sections": false,
   "sideBar": true,
   "skip_h1_title": true,
   "title_cell": "Table of Contents",
   "title_sidebar": "Contents",
   "toc_cell": false,
   "toc_position": {
    "height": "calc(100% - 180px)",
    "left": "10px",
    "top": "150px",
    "width": "351.8px"
   },
   "toc_section_display": true,
   "toc_window_display": true
  }
 },
 "nbformat": 4,
 "nbformat_minor": 1
}
